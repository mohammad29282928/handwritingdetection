{
  "cells": [
    {
      "cell_type": "markdown",
      "id": "7f5c583d",
      "metadata": {
        "id": "7f5c583d"
      },
      "source": [
        "## Add Library"
      ]
    },
    {
      "cell_type": "code",
      "source": [
        "!git clone https://github.com/amirhosein-prdv/handwritten-Persian-numbers-recognition.git"
      ],
      "metadata": {
        "colab": {
          "base_uri": "https://localhost:8080/"
        },
        "id": "lJwoZQNBt8iD",
        "outputId": "98adce32-7623-4873-e670-068805cadcb1"
      },
      "id": "lJwoZQNBt8iD",
      "execution_count": 1,
      "outputs": [
        {
          "output_type": "stream",
          "name": "stdout",
          "text": [
            "Cloning into 'handwritten-Persian-numbers-recognition'...\n",
            "remote: Enumerating objects: 72, done.\u001b[K\n",
            "remote: Counting objects: 100% (72/72), done.\u001b[K\n",
            "remote: Compressing objects: 100% (60/60), done.\u001b[K\n",
            "remote: Total 72 (delta 14), reused 57 (delta 7), pack-reused 0\u001b[K\n",
            "Receiving objects: 100% (72/72), 13.03 MiB | 19.17 MiB/s, done.\n",
            "Resolving deltas: 100% (14/14), done.\n"
          ]
        }
      ]
    },
    {
      "cell_type": "code",
      "execution_count": 2,
      "id": "4e84d566",
      "metadata": {
        "_cell_guid": "b1076dfc-b9ad-4769-8c92-a6c4dae69d19",
        "_uuid": "8f2839f25d086af736a60e9eeb907d3b93b6e0e5",
        "execution": {
          "iopub.execute_input": "2022-11-19T18:12:16.774311Z",
          "iopub.status.busy": "2022-11-19T18:12:16.773854Z",
          "iopub.status.idle": "2022-11-19T18:12:23.055918Z",
          "shell.execute_reply": "2022-11-19T18:12:23.054935Z"
        },
        "papermill": {
          "duration": 6.292464,
          "end_time": "2022-11-19T18:12:23.058352",
          "exception": false,
          "start_time": "2022-11-19T18:12:16.765888",
          "status": "completed"
        },
        "tags": [],
        "id": "4e84d566"
      },
      "outputs": [],
      "source": [
        "import tensorflow as tf\n",
        "from tensorflow.keras.models import Sequential\n",
        "from tensorflow.keras.callbacks import TensorBoard, ModelCheckpoint, EarlyStopping\n",
        "from tensorflow.keras.layers import Input, Dense, Dropout, Activation, Flatten, Conv2D, MaxPooling2D, BatchNormalization\n",
        "from tensorflow.keras.utils import to_categorical\n",
        "from tensorflow.keras.optimizers import SGD, Adam, Adadelta\n",
        "\n",
        "from sklearn.metrics import confusion_matrix, f1_score, precision_score, recall_score\n",
        "\n",
        "\n",
        "import matplotlib.pyplot as plt\n",
        "import numpy as np\n",
        "import pandas as pd\n",
        "import os\n",
        "import cv2\n",
        "import pickle\n",
        "import random\n",
        "import time\n",
        "import zipfile\n",
        "from shutil import copyfile\n",
        "from sklearn.model_selection import train_test_split"
      ]
    },
    {
      "cell_type": "markdown",
      "id": "9054a949",
      "metadata": {
        "id": "9054a949"
      },
      "source": [
        "*italicized text*## Add dataset"
      ]
    },
    {
      "cell_type": "markdown",
      "id": "dc499e1b",
      "metadata": {
        "id": "dc499e1b"
      },
      "source": [
        "### Read HODA Dataset"
      ]
    },
    {
      "cell_type": "code",
      "execution_count": 3,
      "id": "5aac56be",
      "metadata": {
        "execution": {
          "iopub.execute_input": "2022-11-19T18:12:23.070047Z",
          "iopub.status.busy": "2022-11-19T18:12:23.069081Z",
          "iopub.status.idle": "2022-11-19T18:12:23.093265Z",
          "shell.execute_reply": "2022-11-19T18:12:23.092328Z"
        },
        "papermill": {
          "duration": 0.032222,
          "end_time": "2022-11-19T18:12:23.095340",
          "exception": false,
          "start_time": "2022-11-19T18:12:23.063118",
          "status": "completed"
        },
        "tags": [],
        "id": "5aac56be"
      },
      "outputs": [],
      "source": [
        "# Hoda Dataset Reader\n",
        "\n",
        "import struct\n",
        "import numpy as np\n",
        "import cv2\n",
        "\n",
        "\n",
        "def __convert_to_one_hot(vector, num_classes):\n",
        "    result = np.zeros(shape=[len(vector), num_classes])\n",
        "    result[np.arange(len(vector)), vector] = 1\n",
        "    return result\n",
        "\n",
        "\n",
        "def __resize_image(src_image, dst_image_height, dst_image_width):\n",
        "    src_image_height = src_image.shape[0]\n",
        "    src_image_width = src_image.shape[1]\n",
        "\n",
        "    if src_image_height > dst_image_height or src_image_width > dst_image_width:\n",
        "        height_scale = dst_image_height / src_image_height\n",
        "        width_scale = dst_image_width / src_image_width\n",
        "        scale = min(height_scale, width_scale)\n",
        "        img = cv2.resize(src=src_image, dsize=(0, 0), fx=scale, fy=scale, interpolation=cv2.INTER_CUBIC)\n",
        "    else:\n",
        "        img = src_image\n",
        "\n",
        "    img_height = img.shape[0]\n",
        "    img_width = img.shape[1]\n",
        "\n",
        "    dst_image = np.zeros(shape=[dst_image_height, dst_image_width], dtype=np.uint8)\n",
        "\n",
        "    y_offset = (dst_image_height - img_height) // 2\n",
        "    x_offset = (dst_image_width - img_width) // 2\n",
        "\n",
        "    dst_image[y_offset:y_offset+img_height, x_offset:x_offset+img_width] = img\n",
        "\n",
        "    return dst_image\n",
        "\n",
        "\n",
        "def read_hoda_cdb(file_name):\n",
        "    with open(file_name, 'rb') as binary_file:\n",
        "\n",
        "        data = binary_file.read()\n",
        "\n",
        "        offset = 0\n",
        "\n",
        "        # read private header\n",
        "\n",
        "        yy = struct.unpack_from('H', data, offset)[0]\n",
        "        offset += 2\n",
        "\n",
        "        m = struct.unpack_from('B', data, offset)[0]\n",
        "        offset += 1\n",
        "\n",
        "        d = struct.unpack_from('B', data, offset)[0]\n",
        "        offset += 1\n",
        "\n",
        "        H = struct.unpack_from('B', data, offset)[0]\n",
        "        offset += 1\n",
        "\n",
        "        W = struct.unpack_from('B', data, offset)[0]\n",
        "        offset += 1\n",
        "\n",
        "        TotalRec = struct.unpack_from('I', data, offset)[0]\n",
        "        offset += 4\n",
        "\n",
        "        LetterCount = struct.unpack_from('128I', data, offset)\n",
        "        offset += 128 * 4\n",
        "\n",
        "        imgType = struct.unpack_from('B', data, offset)[0]  # 0: binary, 1: gray\n",
        "        offset += 1\n",
        "\n",
        "        Comments = struct.unpack_from('256c', data, offset)\n",
        "        offset += 256 * 1\n",
        "\n",
        "        Reserved = struct.unpack_from('245c', data, offset)\n",
        "        offset += 245 * 1\n",
        "\n",
        "        if (W > 0) and (H > 0):\n",
        "            normal = True\n",
        "        else:\n",
        "            normal = False\n",
        "\n",
        "        images = []\n",
        "        labels = []\n",
        "\n",
        "        for i in range(TotalRec):\n",
        "\n",
        "            StartByte = struct.unpack_from('B', data, offset)[0]  # must be 0xff\n",
        "            offset += 1\n",
        "\n",
        "            label = struct.unpack_from('B', data, offset)[0]\n",
        "            offset += 1\n",
        "\n",
        "            if not normal:\n",
        "                W = struct.unpack_from('B', data, offset)[0]\n",
        "                offset += 1\n",
        "\n",
        "                H = struct.unpack_from('B', data, offset)[0]\n",
        "                offset += 1\n",
        "\n",
        "            ByteCount = struct.unpack_from('H', data, offset)[0]\n",
        "            offset += 2\n",
        "\n",
        "            image = np.zeros(shape=[H, W], dtype=np.uint8)\n",
        "\n",
        "            if imgType == 0:\n",
        "                # Binary\n",
        "                for y in range(H):\n",
        "                    bWhite = True\n",
        "                    counter = 0\n",
        "                    while counter < W:\n",
        "                        WBcount = struct.unpack_from('B', data, offset)[0]\n",
        "                        offset += 1\n",
        "                        # x = 0\n",
        "                        # while x < WBcount:\n",
        "                        #     if bWhite:\n",
        "                        #         image[y, x + counter] = 0  # Background\n",
        "                        #     else:\n",
        "                        #         image[y, x + counter] = 255  # ForeGround\n",
        "                        #     x += 1\n",
        "                        if bWhite:\n",
        "                            image[y, counter:counter + WBcount] = 0  # Background\n",
        "                        else:\n",
        "                            image[y, counter:counter + WBcount] = 255  # ForeGround\n",
        "                        bWhite = not bWhite  # black white black white ...\n",
        "                        counter += WBcount\n",
        "            else:\n",
        "                # GrayScale mode\n",
        "                data = struct.unpack_from('{}B'.format(W * H), data, offset)\n",
        "                offset += W * H\n",
        "                image = np.asarray(data, dtype=np.uint8).reshape([W, H]).T\n",
        "\n",
        "            images.append(image)\n",
        "            labels.append(label)\n",
        "\n",
        "        return images, labels\n",
        "\n",
        "\n",
        "def read_hoda_dataset(dataset_path, images_height=32, images_width=32, one_hot=False, reshape=True):\n",
        "    images, labels = read_hoda_cdb(dataset_path)\n",
        "    assert len(images) == len(labels)\n",
        "\n",
        "    X = np.zeros(shape=[len(images), images_height, images_width], dtype=np.float32)\n",
        "    Y = np.zeros(shape=[len(labels)], dtype=int)\n",
        "\n",
        "    for i in range(len(images)):\n",
        "        image = images[i]\n",
        "        # Image resizing.\n",
        "        image = __resize_image(src_image=image, dst_image_height=images_height, dst_image_width=images_width)\n",
        "        # Image normalization.\n",
        "        image = image / 255\n",
        "        # Image binarization.\n",
        "        image = np.where(image >= 0.5, 1, 0)\n",
        "        # Image.\n",
        "        X[i] = image\n",
        "        # Label.\n",
        "        Y[i] = labels[i]\n",
        "\n",
        "    if one_hot:\n",
        "        Y = __convert_to_one_hot(Y, 10).astype(dtype=np.float32)\n",
        "    else:\n",
        "        Y = Y.astype(dtype=np.float32)\n",
        "\n",
        "    if reshape:\n",
        "        X = X.reshape(-1, images_height * images_width)\n",
        "    else:\n",
        "        X = X.reshape(-1, images_height, images_width, 1)\n",
        "\n",
        "    return X, Y"
      ]
    },
    {
      "cell_type": "code",
      "execution_count": 4,
      "id": "c6fa03c2",
      "metadata": {
        "id": "c6fa03c2"
      },
      "outputs": [],
      "source": [
        "dataset_path = \"/content/handwritten-Persian-numbers-recognition/Data/Hoda Dataset\"\n",
        "# size of images\n",
        "image_size = 40"
      ]
    },
    {
      "cell_type": "markdown",
      "id": "1d1bf44c",
      "metadata": {
        "id": "1d1bf44c"
      },
      "source": [
        "### Load trainand test dataset"
      ]
    },
    {
      "cell_type": "code",
      "execution_count": 5,
      "id": "ebe775c8",
      "metadata": {
        "id": "ebe775c8"
      },
      "outputs": [],
      "source": [
        "# load train images\n",
        "train_images, train_labels = read_hoda_dataset(dataset_path=dataset_path+\"/Train 60000.cdb\",\n",
        "                                images_height=image_size,\n",
        "                                images_width=image_size,\n",
        "                                one_hot=False,\n",
        "                                reshape=True)"
      ]
    },
    {
      "cell_type": "code",
      "execution_count": 6,
      "id": "580b326e",
      "metadata": {
        "id": "580b326e"
      },
      "outputs": [],
      "source": [
        "# load test images\n",
        "X_test, y_test = read_hoda_dataset(dataset_path=dataset_path+\"/Test 20000.cdb\",\n",
        "                                images_height=image_size,\n",
        "                                images_width=image_size,\n",
        "                                one_hot=False,\n",
        "                                reshape=True)"
      ]
    },
    {
      "cell_type": "code",
      "execution_count": 7,
      "id": "00e1b2be",
      "metadata": {
        "id": "00e1b2be"
      },
      "outputs": [],
      "source": [
        "# make val dataset\n",
        "test_images, val_images, test_labels, val_labels = train_test_split(\n",
        "    X_test.astype(np.float32), y_test, test_size=0.25, random_state=1234)"
      ]
    },
    {
      "cell_type": "code",
      "execution_count": 8,
      "id": "e2e221c8",
      "metadata": {
        "colab": {
          "base_uri": "https://localhost:8080/"
        },
        "id": "e2e221c8",
        "outputId": "1a8eca81-18a9-4ef0-c9b7-da2c261a39b9"
      },
      "outputs": [
        {
          "output_type": "stream",
          "name": "stdout",
          "text": [
            "(60000, 1600)\n",
            "(15000, 1600)\n",
            "(5000, 1600)\n"
          ]
        }
      ],
      "source": [
        "# shape of train, test and validation dataset respectively\n",
        "print(train_images.shape)\n",
        "print(test_images.shape)\n",
        "print(val_images.shape)"
      ]
    },
    {
      "cell_type": "code",
      "execution_count": 9,
      "id": "15663acb",
      "metadata": {
        "id": "15663acb"
      },
      "outputs": [],
      "source": [
        "# reshape images to the required size\n",
        "train_images = train_images.reshape(train_images.shape[0], image_size, image_size)\n",
        "val_images = val_images.reshape(val_images.shape[0], image_size, image_size)\n",
        "test_images = test_images.reshape(test_images.shape[0], image_size, image_size)"
      ]
    },
    {
      "cell_type": "markdown",
      "source": [
        "## Adding salt and pepper noise to dataset"
      ],
      "metadata": {
        "id": "-Jyr55rGEEq2"
      },
      "id": "-Jyr55rGEEq2"
    },
    {
      "cell_type": "code",
      "source": [
        "# import numpy as np\n",
        "# import matplotlib.pyplot as plt\n",
        "\n",
        "# def add_salt_and_pepper_noise(image, salt_prob=0.01, pepper_prob=0.01):\n",
        "#     \"\"\"Add salt-and-pepper noise to the image.\"\"\"\n",
        "#     noisy_image = np.copy(image)\n",
        "#     num_salt = int(salt_prob * image.size)\n",
        "#     num_pepper = int(pepper_prob * image.size)\n",
        "\n",
        "#     # Add Salt\n",
        "#     salt_coords = [np.random.randint(0, i, num_salt) for i in image.shape]\n",
        "#     noisy_image[tuple(salt_coords)] = 1\n",
        "\n",
        "#     # Add Pepper\n",
        "#     pepper_coords = [np.random.randint(0, i, num_pepper) for i in image.shape]\n",
        "#     noisy_image[tuple(pepper_coords)] = 0\n",
        "\n",
        "#     return noisy_image\n",
        "\n",
        "# def add_noise_to_borders(image, margin=3, salt_prob=0.01, pepper_prob=0.01):\n",
        "#     \"\"\"Add salt-and-pepper noise to the borders of the image with a specified margin.\"\"\"\n",
        "#     noisy_image = np.copy(image)\n",
        "#     rows, cols = image.shape\n",
        "\n",
        "#     # Top border\n",
        "#     for i in range(margin):\n",
        "#         noisy_image[i, :] = add_salt_and_pepper_noise(noisy_image[i, :], salt_prob, pepper_prob)\n",
        "\n",
        "#     # Bottom border\n",
        "#     for i in range(1, margin + 1):\n",
        "#         noisy_image[-i, :] = add_salt_and_pepper_noise(noisy_image[-i, :], salt_prob, pepper_prob)\n",
        "\n",
        "#     # Left and right borders\n",
        "#     for i in range(margin, rows - margin):\n",
        "#         noisy_image[i, :margin] = add_salt_and_pepper_noise(noisy_image[i, :margin], salt_prob, pepper_prob)\n",
        "#         noisy_image[i, -margin:] = add_salt_and_pepper_noise(noisy_image[i, -margin:], salt_prob, pepper_prob)\n",
        "\n",
        "#     return noisy_image\n",
        "\n",
        "# def add_noise_to_dataset(images, margin=3, salt_prob=0.01, pepper_prob=0.01):\n",
        "#     \"\"\"Add salt-and-pepper noise to the borders of each image in the dataset.\"\"\"\n",
        "#     final_noisy_images = []\n",
        "#     for image in images:\n",
        "#         noisy_image = add_noise_to_borders(image, margin, salt_prob, pepper_prob)\n",
        "#         final_noisy_images.append(noisy_image)\n",
        "\n",
        "#     final_noisy_images = np.array(final_noisy_images)\n",
        "#     return np.concatenate((images, final_noisy_images), axis=0)\n",
        "\n",
        "# # Assuming your images are normalized to [0, 1]\n",
        "# train_images = np.random.rand(60000, 40, 40)  # Replace with your actual data\n",
        "# test_images = np.random.rand(15000, 40, 40)  # Replace with your actual data\n",
        "# val_images = np.random.rand(5000, 40, 40)  # Replace with your actual data\n",
        "\n",
        "# # Add noise to datasets\n",
        "# train_images_noisy = add_noise_to_dataset(train_images)\n",
        "# test_images_noisy = add_noise_to_dataset(test_images)\n",
        "# val_images_noisy = add_noise_to_dataset(val_images)\n",
        "\n",
        "# print(\"New training set shape:\", train_images_noisy.shape)\n",
        "# print(\"New test set shape:\", test_images_noisy.shape)\n",
        "# print(\"New validation set shape:\", val_images_noisy.shape)\n",
        "\n",
        "# # Update the original datasets\n",
        "# train_images = train_images_noisy\n",
        "# test_images = test_images_noisy\n",
        "# val_images = val_images_noisy\n",
        "\n",
        "# print(\"Updated training set shape:\", train_images.shape)\n",
        "# print(\"Updated test set shape:\", test_images.shape)\n",
        "# print(\"Updated validation set shape:\", val_images.shape)\n",
        "\n",
        "# # Visualize some images to verify the noise\n",
        "# plt.figure(figsize=(10, 5))\n",
        "# for i in range(3):\n",
        "#     plt.subplot(1, 3, i+1)\n",
        "#     plt.imshow(train_images[i], cmap='gray')\n",
        "#     plt.title(f\"Label: {i}\")\n",
        "# plt.show()\n"
      ],
      "metadata": {
        "colab": {
          "base_uri": "https://localhost:8080/",
          "height": 426
        },
        "id": "VRgsdtb4z8ls",
        "outputId": "4a4dae98-c30f-4239-85ae-76810fe13c73"
      },
      "id": "VRgsdtb4z8ls",
      "execution_count": null,
      "outputs": [
        {
          "output_type": "error",
          "ename": "KeyboardInterrupt",
          "evalue": "",
          "traceback": [
            "\u001b[0;31m---------------------------------------------------------------------------\u001b[0m",
            "\u001b[0;31mKeyboardInterrupt\u001b[0m                         Traceback (most recent call last)",
            "\u001b[0;32m<ipython-input-105-5f0f39f3111b>\u001b[0m in \u001b[0;36m<cell line: 56>\u001b[0;34m()\u001b[0m\n\u001b[1;32m     54\u001b[0m \u001b[0;34m\u001b[0m\u001b[0m\n\u001b[1;32m     55\u001b[0m \u001b[0;31m# Add noise to datasets\u001b[0m\u001b[0;34m\u001b[0m\u001b[0;34m\u001b[0m\u001b[0m\n\u001b[0;32m---> 56\u001b[0;31m \u001b[0mtrain_images_noisy\u001b[0m \u001b[0;34m=\u001b[0m \u001b[0madd_noise_to_dataset\u001b[0m\u001b[0;34m(\u001b[0m\u001b[0mtrain_images\u001b[0m\u001b[0;34m)\u001b[0m\u001b[0;34m\u001b[0m\u001b[0;34m\u001b[0m\u001b[0m\n\u001b[0m\u001b[1;32m     57\u001b[0m \u001b[0mtest_images_noisy\u001b[0m \u001b[0;34m=\u001b[0m \u001b[0madd_noise_to_dataset\u001b[0m\u001b[0;34m(\u001b[0m\u001b[0mtest_images\u001b[0m\u001b[0;34m)\u001b[0m\u001b[0;34m\u001b[0m\u001b[0;34m\u001b[0m\u001b[0m\n\u001b[1;32m     58\u001b[0m \u001b[0mval_images_noisy\u001b[0m \u001b[0;34m=\u001b[0m \u001b[0madd_noise_to_dataset\u001b[0m\u001b[0;34m(\u001b[0m\u001b[0mval_images\u001b[0m\u001b[0;34m)\u001b[0m\u001b[0;34m\u001b[0m\u001b[0;34m\u001b[0m\u001b[0m\n",
            "\u001b[0;32m<ipython-input-105-5f0f39f3111b>\u001b[0m in \u001b[0;36madd_noise_to_dataset\u001b[0;34m(images, margin, salt_prob, pepper_prob)\u001b[0m\n\u001b[1;32m     42\u001b[0m     \u001b[0mfinal_noisy_images\u001b[0m \u001b[0;34m=\u001b[0m \u001b[0;34m[\u001b[0m\u001b[0;34m]\u001b[0m\u001b[0;34m\u001b[0m\u001b[0;34m\u001b[0m\u001b[0m\n\u001b[1;32m     43\u001b[0m     \u001b[0;32mfor\u001b[0m \u001b[0mimage\u001b[0m \u001b[0;32min\u001b[0m \u001b[0mimages\u001b[0m\u001b[0;34m:\u001b[0m\u001b[0;34m\u001b[0m\u001b[0;34m\u001b[0m\u001b[0m\n\u001b[0;32m---> 44\u001b[0;31m         \u001b[0mnoisy_image\u001b[0m \u001b[0;34m=\u001b[0m \u001b[0madd_noise_to_borders\u001b[0m\u001b[0;34m(\u001b[0m\u001b[0mimage\u001b[0m\u001b[0;34m,\u001b[0m \u001b[0mmargin\u001b[0m\u001b[0;34m,\u001b[0m \u001b[0msalt_prob\u001b[0m\u001b[0;34m,\u001b[0m \u001b[0mpepper_prob\u001b[0m\u001b[0;34m)\u001b[0m\u001b[0;34m\u001b[0m\u001b[0;34m\u001b[0m\u001b[0m\n\u001b[0m\u001b[1;32m     45\u001b[0m         \u001b[0mfinal_noisy_images\u001b[0m\u001b[0;34m.\u001b[0m\u001b[0mappend\u001b[0m\u001b[0;34m(\u001b[0m\u001b[0mnoisy_image\u001b[0m\u001b[0;34m)\u001b[0m\u001b[0;34m\u001b[0m\u001b[0;34m\u001b[0m\u001b[0m\n\u001b[1;32m     46\u001b[0m \u001b[0;34m\u001b[0m\u001b[0m\n",
            "\u001b[0;32m<ipython-input-105-5f0f39f3111b>\u001b[0m in \u001b[0;36madd_noise_to_borders\u001b[0;34m(image, margin, salt_prob, pepper_prob)\u001b[0m\n\u001b[1;32m     34\u001b[0m     \u001b[0;32mfor\u001b[0m \u001b[0mi\u001b[0m \u001b[0;32min\u001b[0m \u001b[0mrange\u001b[0m\u001b[0;34m(\u001b[0m\u001b[0mmargin\u001b[0m\u001b[0;34m,\u001b[0m \u001b[0mrows\u001b[0m \u001b[0;34m-\u001b[0m \u001b[0mmargin\u001b[0m\u001b[0;34m)\u001b[0m\u001b[0;34m:\u001b[0m\u001b[0;34m\u001b[0m\u001b[0;34m\u001b[0m\u001b[0m\n\u001b[1;32m     35\u001b[0m         \u001b[0mnoisy_image\u001b[0m\u001b[0;34m[\u001b[0m\u001b[0mi\u001b[0m\u001b[0;34m,\u001b[0m \u001b[0;34m:\u001b[0m\u001b[0mmargin\u001b[0m\u001b[0;34m]\u001b[0m \u001b[0;34m=\u001b[0m \u001b[0madd_salt_and_pepper_noise\u001b[0m\u001b[0;34m(\u001b[0m\u001b[0mnoisy_image\u001b[0m\u001b[0;34m[\u001b[0m\u001b[0mi\u001b[0m\u001b[0;34m,\u001b[0m \u001b[0;34m:\u001b[0m\u001b[0mmargin\u001b[0m\u001b[0;34m]\u001b[0m\u001b[0;34m,\u001b[0m \u001b[0msalt_prob\u001b[0m\u001b[0;34m,\u001b[0m \u001b[0mpepper_prob\u001b[0m\u001b[0;34m)\u001b[0m\u001b[0;34m\u001b[0m\u001b[0;34m\u001b[0m\u001b[0m\n\u001b[0;32m---> 36\u001b[0;31m         \u001b[0mnoisy_image\u001b[0m\u001b[0;34m[\u001b[0m\u001b[0mi\u001b[0m\u001b[0;34m,\u001b[0m \u001b[0;34m-\u001b[0m\u001b[0mmargin\u001b[0m\u001b[0;34m:\u001b[0m\u001b[0;34m]\u001b[0m \u001b[0;34m=\u001b[0m \u001b[0madd_salt_and_pepper_noise\u001b[0m\u001b[0;34m(\u001b[0m\u001b[0mnoisy_image\u001b[0m\u001b[0;34m[\u001b[0m\u001b[0mi\u001b[0m\u001b[0;34m,\u001b[0m \u001b[0;34m-\u001b[0m\u001b[0mmargin\u001b[0m\u001b[0;34m:\u001b[0m\u001b[0;34m]\u001b[0m\u001b[0;34m,\u001b[0m \u001b[0msalt_prob\u001b[0m\u001b[0;34m,\u001b[0m \u001b[0mpepper_prob\u001b[0m\u001b[0;34m)\u001b[0m\u001b[0;34m\u001b[0m\u001b[0;34m\u001b[0m\u001b[0m\n\u001b[0m\u001b[1;32m     37\u001b[0m \u001b[0;34m\u001b[0m\u001b[0m\n\u001b[1;32m     38\u001b[0m     \u001b[0;32mreturn\u001b[0m \u001b[0mnoisy_image\u001b[0m\u001b[0;34m\u001b[0m\u001b[0;34m\u001b[0m\u001b[0m\n",
            "\u001b[0;32m<ipython-input-105-5f0f39f3111b>\u001b[0m in \u001b[0;36madd_salt_and_pepper_noise\u001b[0;34m(image, salt_prob, pepper_prob)\u001b[0m\n\u001b[1;32m      9\u001b[0m \u001b[0;34m\u001b[0m\u001b[0m\n\u001b[1;32m     10\u001b[0m     \u001b[0;31m# Add Salt\u001b[0m\u001b[0;34m\u001b[0m\u001b[0;34m\u001b[0m\u001b[0m\n\u001b[0;32m---> 11\u001b[0;31m     \u001b[0msalt_coords\u001b[0m \u001b[0;34m=\u001b[0m \u001b[0;34m[\u001b[0m\u001b[0mnp\u001b[0m\u001b[0;34m.\u001b[0m\u001b[0mrandom\u001b[0m\u001b[0;34m.\u001b[0m\u001b[0mrandint\u001b[0m\u001b[0;34m(\u001b[0m\u001b[0;36m0\u001b[0m\u001b[0;34m,\u001b[0m \u001b[0mi\u001b[0m\u001b[0;34m,\u001b[0m \u001b[0mnum_salt\u001b[0m\u001b[0;34m)\u001b[0m \u001b[0;32mfor\u001b[0m \u001b[0mi\u001b[0m \u001b[0;32min\u001b[0m \u001b[0mimage\u001b[0m\u001b[0;34m.\u001b[0m\u001b[0mshape\u001b[0m\u001b[0;34m]\u001b[0m\u001b[0;34m\u001b[0m\u001b[0;34m\u001b[0m\u001b[0m\n\u001b[0m\u001b[1;32m     12\u001b[0m     \u001b[0mnoisy_image\u001b[0m\u001b[0;34m[\u001b[0m\u001b[0mtuple\u001b[0m\u001b[0;34m(\u001b[0m\u001b[0msalt_coords\u001b[0m\u001b[0;34m)\u001b[0m\u001b[0;34m]\u001b[0m \u001b[0;34m=\u001b[0m \u001b[0;36m1\u001b[0m\u001b[0;34m\u001b[0m\u001b[0;34m\u001b[0m\u001b[0m\n\u001b[1;32m     13\u001b[0m \u001b[0;34m\u001b[0m\u001b[0m\n",
            "\u001b[0;32m<ipython-input-105-5f0f39f3111b>\u001b[0m in \u001b[0;36m<listcomp>\u001b[0;34m(.0)\u001b[0m\n\u001b[1;32m      9\u001b[0m \u001b[0;34m\u001b[0m\u001b[0m\n\u001b[1;32m     10\u001b[0m     \u001b[0;31m# Add Salt\u001b[0m\u001b[0;34m\u001b[0m\u001b[0;34m\u001b[0m\u001b[0m\n\u001b[0;32m---> 11\u001b[0;31m     \u001b[0msalt_coords\u001b[0m \u001b[0;34m=\u001b[0m \u001b[0;34m[\u001b[0m\u001b[0mnp\u001b[0m\u001b[0;34m.\u001b[0m\u001b[0mrandom\u001b[0m\u001b[0;34m.\u001b[0m\u001b[0mrandint\u001b[0m\u001b[0;34m(\u001b[0m\u001b[0;36m0\u001b[0m\u001b[0;34m,\u001b[0m \u001b[0mi\u001b[0m\u001b[0;34m,\u001b[0m \u001b[0mnum_salt\u001b[0m\u001b[0;34m)\u001b[0m \u001b[0;32mfor\u001b[0m \u001b[0mi\u001b[0m \u001b[0;32min\u001b[0m \u001b[0mimage\u001b[0m\u001b[0;34m.\u001b[0m\u001b[0mshape\u001b[0m\u001b[0;34m]\u001b[0m\u001b[0;34m\u001b[0m\u001b[0;34m\u001b[0m\u001b[0m\n\u001b[0m\u001b[1;32m     12\u001b[0m     \u001b[0mnoisy_image\u001b[0m\u001b[0;34m[\u001b[0m\u001b[0mtuple\u001b[0m\u001b[0;34m(\u001b[0m\u001b[0msalt_coords\u001b[0m\u001b[0;34m)\u001b[0m\u001b[0;34m]\u001b[0m \u001b[0;34m=\u001b[0m \u001b[0;36m1\u001b[0m\u001b[0;34m\u001b[0m\u001b[0;34m\u001b[0m\u001b[0m\n\u001b[1;32m     13\u001b[0m \u001b[0;34m\u001b[0m\u001b[0m\n",
            "\u001b[0;32mmtrand.pyx\u001b[0m in \u001b[0;36mnumpy.random.mtrand.RandomState.randint\u001b[0;34m()\u001b[0m\n",
            "\u001b[0;32m_bounded_integers.pyx\u001b[0m in \u001b[0;36mnumpy.random._bounded_integers._rand_int64\u001b[0;34m()\u001b[0m\n",
            "\u001b[0;32m/usr/local/lib/python3.10/dist-packages/numpy/core/fromnumeric.py\u001b[0m in \u001b[0;36mprod\u001b[0;34m(a, axis, dtype, out, keepdims, initial, where)\u001b[0m\n\u001b[1;32m   3098\u001b[0m     \u001b[0;36m10\u001b[0m\u001b[0;34m\u001b[0m\u001b[0;34m\u001b[0m\u001b[0m\n\u001b[1;32m   3099\u001b[0m     \"\"\"\n\u001b[0;32m-> 3100\u001b[0;31m     return _wrapreduction(a, np.multiply, 'prod', axis, dtype, out,\n\u001b[0m\u001b[1;32m   3101\u001b[0m                           keepdims=keepdims, initial=initial, where=where)\n\u001b[1;32m   3102\u001b[0m \u001b[0;34m\u001b[0m\u001b[0m\n",
            "\u001b[0;32m/usr/local/lib/python3.10/dist-packages/numpy/core/fromnumeric.py\u001b[0m in \u001b[0;36m_wrapreduction\u001b[0;34m(obj, ufunc, method, axis, dtype, out, **kwargs)\u001b[0m\n\u001b[1;32m     86\u001b[0m                 \u001b[0;32mreturn\u001b[0m \u001b[0mreduction\u001b[0m\u001b[0;34m(\u001b[0m\u001b[0maxis\u001b[0m\u001b[0;34m=\u001b[0m\u001b[0maxis\u001b[0m\u001b[0;34m,\u001b[0m \u001b[0mout\u001b[0m\u001b[0;34m=\u001b[0m\u001b[0mout\u001b[0m\u001b[0;34m,\u001b[0m \u001b[0;34m**\u001b[0m\u001b[0mpasskwargs\u001b[0m\u001b[0;34m)\u001b[0m\u001b[0;34m\u001b[0m\u001b[0;34m\u001b[0m\u001b[0m\n\u001b[1;32m     87\u001b[0m \u001b[0;34m\u001b[0m\u001b[0m\n\u001b[0;32m---> 88\u001b[0;31m     \u001b[0;32mreturn\u001b[0m \u001b[0mufunc\u001b[0m\u001b[0;34m.\u001b[0m\u001b[0mreduce\u001b[0m\u001b[0;34m(\u001b[0m\u001b[0mobj\u001b[0m\u001b[0;34m,\u001b[0m \u001b[0maxis\u001b[0m\u001b[0;34m,\u001b[0m \u001b[0mdtype\u001b[0m\u001b[0;34m,\u001b[0m \u001b[0mout\u001b[0m\u001b[0;34m,\u001b[0m \u001b[0;34m**\u001b[0m\u001b[0mpasskwargs\u001b[0m\u001b[0;34m)\u001b[0m\u001b[0;34m\u001b[0m\u001b[0;34m\u001b[0m\u001b[0m\n\u001b[0m\u001b[1;32m     89\u001b[0m \u001b[0;34m\u001b[0m\u001b[0m\n\u001b[1;32m     90\u001b[0m \u001b[0;34m\u001b[0m\u001b[0m\n",
            "\u001b[0;31mKeyboardInterrupt\u001b[0m: "
          ]
        }
      ]
    },
    {
      "cell_type": "markdown",
      "id": "efc6dc06",
      "metadata": {
        "id": "efc6dc06"
      },
      "source": [
        "### Show dataset sample"
      ]
    },
    {
      "cell_type": "code",
      "execution_count": 10,
      "id": "ed9bd58e",
      "metadata": {
        "scrolled": true,
        "colab": {
          "base_uri": "https://localhost:8080/",
          "height": 191
        },
        "id": "ed9bd58e",
        "outputId": "670d43fc-c369-424a-c37a-262cff820dc9"
      },
      "outputs": [
        {
          "output_type": "display_data",
          "data": {
            "text/plain": [
              "<Figure size 640x480 with 3 Axes>"
            ],
            "image/png": "[encoded data removed]"
          },
          "metadata": {}
        }
      ],
      "source": [
        "#train samples\n",
        "for i in range(6, 9):\n",
        "    plt.subplot(330 + (i+1))\n",
        "    plt.imshow(train_images[i].squeeze(), cmap=plt.get_cmap('gray'))\n",
        "    plt.title(train_labels[i])"
      ]
    },
    {
      "cell_type": "code",
      "execution_count": 11,
      "id": "ecf2f6e4",
      "metadata": {
        "colab": {
          "base_uri": "https://localhost:8080/",
          "height": 191
        },
        "id": "ecf2f6e4",
        "outputId": "0c45f705-ff19-42a6-a9cf-95763b0b30f0"
      },
      "outputs": [
        {
          "output_type": "display_data",
          "data": {
            "text/plain": [
              "<Figure size 640x480 with 3 Axes>"
            ],
            "image/png": "[encoded data removed]"
          },
          "metadata": {}
        }
      ],
      "source": [
        "#test samples\n",
        "for i in range(6, 9):\n",
        "    plt.subplot(330 + (i+1))\n",
        "    plt.imshow(test_images[i].squeeze(), cmap=plt.get_cmap('gray'))\n",
        "    plt.title(test_labels[i])"
      ]
    },
    {
      "cell_type": "code",
      "execution_count": 12,
      "id": "fe614024",
      "metadata": {
        "scrolled": true,
        "colab": {
          "base_uri": "https://localhost:8080/",
          "height": 191
        },
        "id": "fe614024",
        "outputId": "91200a1c-49a2-4286-99ba-965c29aceed5"
      },
      "outputs": [
        {
          "output_type": "display_data",
          "data": {
            "text/plain": [
              "<Figure size 640x480 with 3 Axes>"
            ],
            "image/png": "[encoded data removed]"
          },
          "metadata": {}
        }
      ],
      "source": [
        "#val samples\n",
        "for i in range(6, 9):\n",
        "    plt.subplot(330 + (i+1))\n",
        "    plt.imshow(val_images[i].squeeze(), cmap=plt.get_cmap('gray'))\n",
        "    plt.title(val_labels[i])"
      ]
    },
    {
      "cell_type": "markdown",
      "id": "0c1ae316",
      "metadata": {
        "papermill": {
          "duration": 0.004535,
          "end_time": "2022-11-19T18:12:32.549123",
          "exception": false,
          "start_time": "2022-11-19T18:12:32.544588",
          "status": "completed"
        },
        "tags": [],
        "id": "0c1ae316"
      },
      "source": [
        "## Preprocessing data"
      ]
    },
    {
      "cell_type": "code",
      "execution_count": 13,
      "id": "8739ecbb",
      "metadata": {
        "execution": {
          "iopub.execute_input": "2022-11-19T18:12:32.559931Z",
          "iopub.status.busy": "2022-11-19T18:12:32.559384Z",
          "iopub.status.idle": "2022-11-19T18:12:32.566588Z",
          "shell.execute_reply": "2022-11-19T18:12:32.565769Z"
        },
        "papermill": {
          "duration": 0.014836,
          "end_time": "2022-11-19T18:12:32.568577",
          "exception": false,
          "start_time": "2022-11-19T18:12:32.553741",
          "status": "completed"
        },
        "tags": [],
        "id": "8739ecbb"
      },
      "outputs": [],
      "source": [
        "def preprocess_data(X_train, y_train, X_test, y_test, X_val, y_val):\n",
        "\n",
        "    # reshape images to the required size\n",
        "    X_train = X_train.reshape(X_train.shape[0], X_train.shape[1], X_train.shape[2], 1)\n",
        "    X_test = X_test.reshape(X_test.shape[0], X_test.shape[1], X_test.shape[2], 1)\n",
        "    X_val = X_val.reshape(X_val.shape[0], X_val.shape[1], X_val.shape[2], 1)\n",
        "\n",
        "\n",
        "\n",
        "    # convert image values from integers to floats\n",
        "    X_train = X_train.astype('float32')\n",
        "    X_test = X_test.astype('float32')\n",
        "    X_val = X_val.astype('float32')\n",
        "\n",
        "\n",
        "\n",
        "    # normalization\n",
        "#     X_train = X_train/255.0\n",
        "#     X_test = X_test/255.0\n",
        "#     X_test = X_val/255.0\n",
        "\n",
        "\n",
        "    # One-hot encoding label\n",
        "    y_train = to_categorical(y_train)\n",
        "    y_test = to_categorical(y_test)\n",
        "    y_val = to_categorical(y_val)\n",
        "\n",
        "\n",
        "    return X_train, y_train, X_test, y_test, X_val, y_val"
      ]
    },
    {
      "cell_type": "markdown",
      "id": "d0b5b786",
      "metadata": {
        "papermill": {
          "duration": 0.004461,
          "end_time": "2022-11-19T18:12:32.577642",
          "exception": false,
          "start_time": "2022-11-19T18:12:32.573181",
          "status": "completed"
        },
        "tags": [],
        "id": "d0b5b786"
      },
      "source": [
        "## Define Model"
      ]
    },
    {
      "cell_type": "code",
      "execution_count": 14,
      "id": "5b590ac0",
      "metadata": {
        "execution": {
          "iopub.execute_input": "2022-11-19T18:12:32.589672Z",
          "iopub.status.busy": "2022-11-19T18:12:32.588897Z",
          "iopub.status.idle": "2022-11-19T18:12:32.596806Z",
          "shell.execute_reply": "2022-11-19T18:12:32.595961Z"
        },
        "papermill": {
          "duration": 0.016165,
          "end_time": "2022-11-19T18:12:32.598750",
          "exception": false,
          "start_time": "2022-11-19T18:12:32.582585",
          "status": "completed"
        },
        "tags": [],
        "id": "5b590ac0"
      },
      "outputs": [],
      "source": [
        "def DCNN():\n",
        "    model = Sequential()\n",
        "\n",
        "    # Input layer\n",
        "    model.add(Input(shape=(image_size, image_size,1)))\n",
        "\n",
        "    # Convolutional Block 1\n",
        "    model.add(Conv2D(64, (3,3), strides=1, padding='same'))\n",
        "    model.add(Activation('relu'))\n",
        "    model.add(BatchNormalization())\n",
        "    model.add(MaxPooling2D(pool_size=(3,3), strides=2))\n",
        "    model.add(Dropout(0.1))\n",
        "\n",
        "    # Convolutional Block 2\n",
        "    model.add(Conv2D(128, (3,3), strides=1, padding='same'))\n",
        "    model.add(Activation('relu'))\n",
        "    model.add(BatchNormalization())\n",
        "    model.add(Conv2D(128, (3,3), strides=1, padding='same'))\n",
        "    model.add(Activation('relu'))\n",
        "    model.add(BatchNormalization())\n",
        "    model.add(MaxPooling2D(pool_size=(3,3), strides=2))\n",
        "    model.add(Dropout(0.2))\n",
        "\n",
        "    # Convolutional Block 3\n",
        "    model.add(Conv2D(256, (3,3), strides=1, padding='same'))\n",
        "    model.add(Activation('relu'))\n",
        "    model.add(BatchNormalization())\n",
        "    model.add(Conv2D(256, (3,3), strides=1, padding='same'))\n",
        "    model.add(Activation('relu'))\n",
        "    model.add(BatchNormalization())\n",
        "    model.add(MaxPooling2D(pool_size=(3,3), strides=2))\n",
        "    model.add(Dropout(0.3))\n",
        "\n",
        "    # Convolutional Block 4\n",
        "    model.add(Conv2D(512, (3,3), strides=1, padding='same'))\n",
        "    model.add(Activation('relu'))\n",
        "    model.add(BatchNormalization())\n",
        "    model.add(Conv2D(512, (3,3), strides=1, padding='same'))\n",
        "    model.add(Activation('relu'))\n",
        "    model.add(BatchNormalization())\n",
        "    model.add(MaxPooling2D(pool_size=(3,3), strides=2))\n",
        "    model.add(Dropout(0.4))\n",
        "\n",
        "    # Classification Block\n",
        "    model.add(Flatten())\n",
        "    model.add(Dense(1024, activation='relu'))\n",
        "    model.add(BatchNormalization())\n",
        "    model.add(Dropout(0.5))\n",
        "\n",
        "    # The output layer\n",
        "    model.add(Dense(10, activation='softmax'))\n",
        "\n",
        "\n",
        "    # Optimizer\n",
        "\n",
        "    opt = SGD(momentum=0.9) # Momentum optimizer\n",
        "#     opt = Adam() # Adam optimizer\n",
        "#     opt = Adadelta() # Adadelta optimizer\n",
        "\n",
        "\n",
        "    model.compile(loss = 'categorical_crossentropy',\n",
        "                    optimizer = opt,\n",
        "                    metrics = ['accuracy'])\n",
        "    return model\n",
        "\n",
        "optimization = 'Adam'"
      ]
    },
    {
      "cell_type": "code",
      "execution_count": 15,
      "id": "9d509d5b",
      "metadata": {
        "execution": {
          "iopub.execute_input": "2022-11-19T18:12:32.609903Z",
          "iopub.status.busy": "2022-11-19T18:12:32.609099Z",
          "iopub.status.idle": "2022-11-19T18:12:35.553949Z",
          "shell.execute_reply": "2022-11-19T18:12:35.552768Z"
        },
        "papermill": {
          "duration": 2.952509,
          "end_time": "2022-11-19T18:12:35.556035",
          "exception": false,
          "start_time": "2022-11-19T18:12:32.603526",
          "status": "completed"
        },
        "tags": [],
        "colab": {
          "base_uri": "https://localhost:8080/"
        },
        "id": "9d509d5b",
        "outputId": "59cf51d4-0550-407a-cdad-64dc20b57776"
      },
      "outputs": [
        {
          "output_type": "stream",
          "name": "stdout",
          "text": [
            "Model: \"sequential\"\n",
            "_________________________________________________________________\n",
            " Layer (type)                Output Shape              Param #   \n",
            "=================================================================\n",
            " conv2d (Conv2D)             (None, 40, 40, 64)        640       \n",
            "                                                                 \n",
            " activation (Activation)     (None, 40, 40, 64)        0         \n",
            "                                                                 \n",
            " batch_normalization (Batch  (None, 40, 40, 64)        256       \n",
            " Normalization)                                                  \n",
            "                                                                 \n",
            " max_pooling2d (MaxPooling2  (None, 19, 19, 64)        0         \n",
            " D)                                                              \n",
            "                                                                 \n",
            " dropout (Dropout)           (None, 19, 19, 64)        0         \n",
            "                                                                 \n",
            " conv2d_1 (Conv2D)           (None, 19, 19, 128)       73856     \n",
            "                                                                 \n",
            " activation_1 (Activation)   (None, 19, 19, 128)       0         \n",
            "                                                                 \n",
            " batch_normalization_1 (Bat  (None, 19, 19, 128)       512       \n",
            " chNormalization)                                                \n",
            "                                                                 \n",
            " conv2d_2 (Conv2D)           (None, 19, 19, 128)       147584    \n",
            "                                                                 \n",
            " activation_2 (Activation)   (None, 19, 19, 128)       0         \n",
            "                                                                 \n",
            " batch_normalization_2 (Bat  (None, 19, 19, 128)       512       \n",
            " chNormalization)                                                \n",
            "                                                                 \n",
            " max_pooling2d_1 (MaxPoolin  (None, 9, 9, 128)         0         \n",
            " g2D)                                                            \n",
            "                                                                 \n",
            " dropout_1 (Dropout)         (None, 9, 9, 128)         0         \n",
            "                                                                 \n",
            " conv2d_3 (Conv2D)           (None, 9, 9, 256)         295168    \n",
            "                                                                 \n",
            " activation_3 (Activation)   (None, 9, 9, 256)         0         \n",
            "                                                                 \n",
            " batch_normalization_3 (Bat  (None, 9, 9, 256)         1024      \n",
            " chNormalization)                                                \n",
            "                                                                 \n",
            " conv2d_4 (Conv2D)           (None, 9, 9, 256)         590080    \n",
            "                                                                 \n",
            " activation_4 (Activation)   (None, 9, 9, 256)         0         \n",
            "                                                                 \n",
            " batch_normalization_4 (Bat  (None, 9, 9, 256)         1024      \n",
            " chNormalization)                                                \n",
            "                                                                 \n",
            " max_pooling2d_2 (MaxPoolin  (None, 4, 4, 256)         0         \n",
            " g2D)                                                            \n",
            "                                                                 \n",
            " dropout_2 (Dropout)         (None, 4, 4, 256)         0         \n",
            "                                                                 \n",
            " conv2d_5 (Conv2D)           (None, 4, 4, 512)         1180160   \n",
            "                                                                 \n",
            " activation_5 (Activation)   (None, 4, 4, 512)         0         \n",
            "                                                                 \n",
            " batch_normalization_5 (Bat  (None, 4, 4, 512)         2048      \n",
            " chNormalization)                                                \n",
            "                                                                 \n",
            " conv2d_6 (Conv2D)           (None, 4, 4, 512)         2359808   \n",
            "                                                                 \n",
            " activation_6 (Activation)   (None, 4, 4, 512)         0         \n",
            "                                                                 \n",
            " batch_normalization_6 (Bat  (None, 4, 4, 512)         2048      \n",
            " chNormalization)                                                \n",
            "                                                                 \n",
            " max_pooling2d_3 (MaxPoolin  (None, 1, 1, 512)         0         \n",
            " g2D)                                                            \n",
            "                                                                 \n",
            " dropout_3 (Dropout)         (None, 1, 1, 512)         0         \n",
            "                                                                 \n",
            " flatten (Flatten)           (None, 512)               0         \n",
            "                                                                 \n",
            " dense (Dense)               (None, 1024)              525312    \n",
            "                                                                 \n",
            " batch_normalization_7 (Bat  (None, 1024)              4096      \n",
            " chNormalization)                                                \n",
            "                                                                 \n",
            " dropout_4 (Dropout)         (None, 1024)              0         \n",
            "                                                                 \n",
            " dense_1 (Dense)             (None, 10)                10250     \n",
            "                                                                 \n",
            "=================================================================\n",
            "Total params: 5194378 (19.81 MB)\n",
            "Trainable params: 5188618 (19.79 MB)\n",
            "Non-trainable params: 5760 (22.50 KB)\n",
            "_________________________________________________________________\n"
          ]
        }
      ],
      "source": [
        "DCNN_model = DCNN()\n",
        "DCNN_model.summary()"
      ]
    },
    {
      "cell_type": "markdown",
      "id": "82735c1b",
      "metadata": {
        "papermill": {
          "duration": 0.005199,
          "end_time": "2022-11-19T18:12:35.566411",
          "exception": false,
          "start_time": "2022-11-19T18:12:35.561212",
          "status": "completed"
        },
        "tags": [],
        "id": "82735c1b"
      },
      "source": [
        "## Training model"
      ]
    },
    {
      "cell_type": "code",
      "execution_count": 17,
      "id": "e520adea",
      "metadata": {
        "execution": {
          "iopub.execute_input": "2022-11-19T18:12:35.577395Z",
          "iopub.status.busy": "2022-11-19T18:12:35.577107Z",
          "iopub.status.idle": "2022-11-19T18:12:35.586019Z",
          "shell.execute_reply": "2022-11-19T18:12:35.585160Z"
        },
        "papermill": {
          "duration": 0.016642,
          "end_time": "2022-11-19T18:12:35.588008",
          "exception": false,
          "start_time": "2022-11-19T18:12:35.571366",
          "status": "completed"
        },
        "tags": [],
        "id": "e520adea"
      },
      "outputs": [],
      "source": [
        "def train_model(model, X_train, y_train, X_test, y_test, X_val, y_val, epochs = 20, batch_size = 64):\n",
        "\n",
        "    # Preprocess all training and testing data\n",
        "    X_train, y_train, X_test, y_test, X_val, y_val= preprocess_data(X_train, y_train,\n",
        "                                                                  X_test, y_test,\n",
        "                                                                  X_val, y_val)\n",
        "\n",
        "    # Callbacks\n",
        "    tensorboard_callback = TensorBoard(log_dir=f\"./logs_{optimization}\")\n",
        "    model_checkpoint_callback = ModelCheckpoint(filepath=f\"./checkpoint_{optimization}\",\n",
        "                                                verbose=1,\n",
        "                                                save_best_only=True,\n",
        "#                                                 save_weights_only=True,\n",
        "                                                monitor='val_accuracy',\n",
        "                                                mode='max'\n",
        "                                               )\n",
        "    earlyStopping_callback = EarlyStopping(monitor='val_accuracy', patience=3, verbose=1, mode='max',)\n",
        "\n",
        "    # Fitting the model on the training set\n",
        "    history = model.fit(X_train, y_train,\n",
        "                        epochs = epochs,\n",
        "                        batch_size = batch_size,\n",
        "                        steps_per_epoch = X_train.shape[0]//batch_size,\n",
        "                        validation_data = (X_val,y_val),\n",
        "                        callbacks = [tensorboard_callback, model_checkpoint_callback, earlyStopping_callback]\n",
        "                       )\n",
        "\n",
        "\n",
        "    # evaluating the model\n",
        "    print(\"\\n\\nmodel evaluation :\")\n",
        "    _, acc = model.evaluate(X_val, y_val, verbose = 1)\n",
        "    print('validation accuracy : %.3f' % (acc * 100.0))\n",
        "\n",
        "    return history"
      ]
    },
    {
      "cell_type": "code",
      "source": [
        "print(train_images.shape)\n",
        "print(test_images.shape)\n",
        "print(val_images.shape)"
      ],
      "metadata": {
        "colab": {
          "base_uri": "https://localhost:8080/"
        },
        "id": "bxGGxISSvxNf",
        "outputId": "88fdf7b0-1425-46dc-cb03-fe37d1cf44d8"
      },
      "id": "bxGGxISSvxNf",
      "execution_count": 18,
      "outputs": [
        {
          "output_type": "stream",
          "name": "stdout",
          "text": [
            "(60000, 40, 40)\n",
            "(15000, 40, 40)\n",
            "(5000, 40, 40)\n"
          ]
        }
      ]
    },
    {
      "cell_type": "code",
      "execution_count": 19,
      "id": "9064c0bb",
      "metadata": {
        "execution": {
          "iopub.execute_input": "2022-11-19T18:12:35.599117Z",
          "iopub.status.busy": "2022-11-19T18:12:35.598849Z",
          "iopub.status.idle": "2022-11-19T18:13:47.089018Z",
          "shell.execute_reply": "2022-11-19T18:13:47.088132Z"
        },
        "papermill": {
          "duration": 71.497949,
          "end_time": "2022-11-19T18:13:47.091117",
          "exception": false,
          "start_time": "2022-11-19T18:12:35.593168",
          "status": "completed"
        },
        "scrolled": false,
        "tags": [],
        "colab": {
          "base_uri": "https://localhost:8080/"
        },
        "id": "9064c0bb",
        "outputId": "3d955165-3b53-4c89-f106-5941f33db3b1"
      },
      "outputs": [
        {
          "output_type": "stream",
          "name": "stdout",
          "text": [
            "Epoch 1/20\n",
            "937/937 [==============================] - ETA: 0s - loss: 0.1398 - accuracy: 0.9586\n",
            "Epoch 1: val_accuracy improved from -inf to 0.98520, saving model to ./checkpoint_Adam\n",
            "937/937 [==============================] - 42s 35ms/step - loss: 0.1398 - accuracy: 0.9586 - val_loss: 0.0515 - val_accuracy: 0.9852\n",
            "Epoch 2/20\n",
            "937/937 [==============================] - ETA: 0s - loss: 0.0350 - accuracy: 0.9903\n",
            "Epoch 2: val_accuracy improved from 0.98520 to 0.98820, saving model to ./checkpoint_Adam\n",
            "937/937 [==============================] - 33s 34ms/step - loss: 0.0350 - accuracy: 0.9903 - val_loss: 0.0421 - val_accuracy: 0.9882\n",
            "Epoch 3/20\n",
            "937/937 [==============================] - ETA: 0s - loss: 0.0234 - accuracy: 0.9932\n",
            "Epoch 3: val_accuracy improved from 0.98820 to 0.99480, saving model to ./checkpoint_Adam\n",
            "937/937 [==============================] - 33s 35ms/step - loss: 0.0234 - accuracy: 0.9932 - val_loss: 0.0221 - val_accuracy: 0.9948\n",
            "Epoch 4/20\n",
            "937/937 [==============================] - ETA: 0s - loss: 0.0171 - accuracy: 0.9947\n",
            "Epoch 4: val_accuracy did not improve from 0.99480\n",
            "937/937 [==============================] - 29s 31ms/step - loss: 0.0171 - accuracy: 0.9947 - val_loss: 0.0251 - val_accuracy: 0.9934\n",
            "Epoch 5/20\n",
            "937/937 [==============================] - ETA: 0s - loss: 0.0144 - accuracy: 0.9955\n",
            "Epoch 5: val_accuracy did not improve from 0.99480\n",
            "937/937 [==============================] - 30s 32ms/step - loss: 0.0144 - accuracy: 0.9955 - val_loss: 0.0170 - val_accuracy: 0.9934\n",
            "Epoch 6/20\n",
            "937/937 [==============================] - ETA: 0s - loss: 0.0126 - accuracy: 0.9961\n",
            "Epoch 6: val_accuracy improved from 0.99480 to 0.99600, saving model to ./checkpoint_Adam\n",
            "937/937 [==============================] - 31s 34ms/step - loss: 0.0126 - accuracy: 0.9961 - val_loss: 0.0134 - val_accuracy: 0.9960\n",
            "Epoch 7/20\n",
            "937/937 [==============================] - ETA: 0s - loss: 0.0112 - accuracy: 0.9965\n",
            "Epoch 7: val_accuracy did not improve from 0.99600\n",
            "937/937 [==============================] - 29s 31ms/step - loss: 0.0112 - accuracy: 0.9965 - val_loss: 0.0160 - val_accuracy: 0.9960\n",
            "Epoch 8/20\n",
            "937/937 [==============================] - ETA: 0s - loss: 0.0086 - accuracy: 0.9973\n",
            "Epoch 8: val_accuracy improved from 0.99600 to 0.99660, saving model to ./checkpoint_Adam\n",
            "937/937 [==============================] - 32s 34ms/step - loss: 0.0086 - accuracy: 0.9973 - val_loss: 0.0135 - val_accuracy: 0.9966\n",
            "Epoch 9/20\n",
            "937/937 [==============================] - ETA: 0s - loss: 0.0076 - accuracy: 0.9976\n",
            "Epoch 9: val_accuracy did not improve from 0.99660\n",
            "937/937 [==============================] - 29s 30ms/step - loss: 0.0076 - accuracy: 0.9976 - val_loss: 0.0153 - val_accuracy: 0.9960\n",
            "Epoch 10/20\n",
            "937/937 [==============================] - ETA: 0s - loss: 0.0074 - accuracy: 0.9979\n",
            "Epoch 10: val_accuracy did not improve from 0.99660\n",
            "937/937 [==============================] - 29s 31ms/step - loss: 0.0074 - accuracy: 0.9979 - val_loss: 0.0158 - val_accuracy: 0.9950\n",
            "Epoch 11/20\n",
            "937/937 [==============================] - ETA: 0s - loss: 0.0061 - accuracy: 0.9981\n",
            "Epoch 11: val_accuracy did not improve from 0.99660\n",
            "937/937 [==============================] - 29s 31ms/step - loss: 0.0061 - accuracy: 0.9981 - val_loss: 0.0146 - val_accuracy: 0.9958\n",
            "Epoch 11: early stopping\n",
            "\n",
            "\n",
            "model evaluation :\n",
            "157/157 [==============================] - 1s 7ms/step - loss: 0.0146 - accuracy: 0.9958\n",
            "validation accuracy : 99.580\n"
          ]
        }
      ],
      "source": [
        "history = train_model(DCNN_model, train_images, train_labels, test_images, test_labels, val_images, val_labels)"
      ]
    },
    {
      "cell_type": "markdown",
      "id": "0279fb1b",
      "metadata": {
        "id": "0279fb1b"
      },
      "source": [
        "### Plot of accuracy"
      ]
    },
    {
      "cell_type": "code",
      "execution_count": 20,
      "id": "8b29a8dc",
      "metadata": {
        "papermill": {
          "duration": 0.056951,
          "end_time": "2022-11-19T18:13:47.322487",
          "exception": false,
          "start_time": "2022-11-19T18:13:47.265536",
          "status": "completed"
        },
        "tags": [],
        "id": "8b29a8dc",
        "colab": {
          "base_uri": "https://localhost:8080/",
          "height": 518
        },
        "outputId": "010fbd7c-1b89-468f-b5ee-be5d58a1fb2b"
      },
      "outputs": [
        {
          "output_type": "display_data",
          "data": {
            "text/plain": [
              "<Figure size 1000x600 with 1 Axes>"
            ],
            "image/png": "[encoded data removed]"
          },
          "metadata": {}
        }
      ],
      "source": [
        "plt.figure(figsize = (10,6))\n",
        "plt.plot(history.history['accuracy'], color = 'blue', label = 'train_acc')\n",
        "plt.plot(history.history['val_accuracy'], color = 'red', label = 'val_acc')\n",
        "plt.legend()\n",
        "plt.title('Accuracy')\n",
        "plt.show()"
      ]
    },
    {
      "cell_type": "markdown",
      "id": "18d7df88",
      "metadata": {
        "id": "18d7df88"
      },
      "source": [
        "### Plot of loss"
      ]
    },
    {
      "cell_type": "code",
      "execution_count": 21,
      "id": "ca263c4c",
      "metadata": {
        "scrolled": false,
        "id": "ca263c4c",
        "colab": {
          "base_uri": "https://localhost:8080/",
          "height": 523
        },
        "outputId": "fe94e188-f732-42fd-8fd1-88942ce95494"
      },
      "outputs": [
        {
          "output_type": "display_data",
          "data": {
            "text/plain": [
              "<Figure size 1000x600 with 1 Axes>"
            ],
            "image/png": "[encoded data removed]"
          },
          "metadata": {}
        }
      ],
      "source": [
        "plt.figure(figsize = (10,6))\n",
        "plt.plot(history.history['loss'], color = 'blue', label = 'train_loss')\n",
        "plt.plot(history.history['val_loss'], color = 'red', label = 'val_loss')\n",
        "plt.legend()\n",
        "plt.title('Loss')\n",
        "plt.show()"
      ]
    },
    {
      "cell_type": "code",
      "execution_count": 22,
      "id": "d5cae897",
      "metadata": {
        "scrolled": true,
        "id": "d5cae897"
      },
      "outputs": [],
      "source": [
        "with open(f'./logs_{optimization}/{optimization}.pickle', 'wb') as handle:\n",
        "    pickle.dump(history.history, handle, protocol=pickle.HIGHEST_PROTOCOL)"
      ]
    },
    {
      "cell_type": "markdown",
      "id": "26669ce4",
      "metadata": {
        "id": "26669ce4"
      },
      "source": [
        "## Test"
      ]
    },
    {
      "cell_type": "code",
      "execution_count": 23,
      "id": "6de67b67",
      "metadata": {
        "id": "6de67b67"
      },
      "outputs": [],
      "source": [
        "DCNN_model = tf.keras.models.load_model(f\"./checkpoint_{optimization}\")"
      ]
    },
    {
      "cell_type": "code",
      "execution_count": 24,
      "id": "4e4847e8",
      "metadata": {
        "id": "4e4847e8",
        "colab": {
          "base_uri": "https://localhost:8080/"
        },
        "outputId": "e9e2fc00-35fb-468e-b1d8-ad17ed9574ff"
      },
      "outputs": [
        {
          "output_type": "stream",
          "name": "stdout",
          "text": [
            "(20000, 40, 40, 1)\n"
          ]
        }
      ],
      "source": [
        "# load test images\n",
        "X_test, y_test = read_hoda_dataset(dataset_path=dataset_path+\"/Test 20000.cdb\",\n",
        "                                images_height=image_size,\n",
        "                                images_width=image_size,\n",
        "                                one_hot=False,\n",
        "                                reshape=True)\n",
        "\n",
        "X_test = X_test.reshape(-1, image_size, image_size, 1)\n",
        "print(X_test.shape)"
      ]
    },
    {
      "cell_type": "code",
      "execution_count": 25,
      "id": "bc2adb23",
      "metadata": {
        "id": "bc2adb23",
        "outputId": "9cbabcf3-5d54-4dfe-aeb1-531abce7ef04",
        "colab": {
          "base_uri": "https://localhost:8080/"
        }
      },
      "outputs": [
        {
          "output_type": "stream",
          "name": "stdout",
          "text": [
            "625/625 [==============================] - 3s 5ms/step\n"
          ]
        }
      ],
      "source": [
        "y_pred = DCNN_model.predict(X_test, verbose=1)"
      ]
    },
    {
      "cell_type": "code",
      "execution_count": 26,
      "id": "9b9850ec",
      "metadata": {
        "id": "9b9850ec"
      },
      "outputs": [],
      "source": [
        "y_pred = np.array([np.argmax(vector) for vector in (y_pred>=0.5)])"
      ]
    },
    {
      "cell_type": "markdown",
      "id": "01060b33",
      "metadata": {
        "id": "01060b33"
      },
      "source": [
        "### Percision, Recall, F1 Score, Confusion matrix"
      ]
    },
    {
      "cell_type": "code",
      "execution_count": 27,
      "id": "2850dd09",
      "metadata": {
        "scrolled": true,
        "id": "2850dd09",
        "outputId": "5bc53a23-62f5-457e-faef-c23c387d4a43",
        "colab": {
          "base_uri": "https://localhost:8080/"
        }
      },
      "outputs": [
        {
          "output_type": "stream",
          "name": "stdout",
          "text": [
            "Percision Score : 0.9949\n",
            "\n",
            "Recall Score : 0.9949\n",
            "\n",
            "F1 Score : 0.9949\n",
            "\n",
            "Confusion Matrix : \n",
            "\n",
            "[[1998    0    0    0    0    1    0    1    0    0]\n",
            " [   1 1999    0    0    0    0    0    0    0    0]\n",
            " [   2    3 1988    1    3    0    1    0    0    2]\n",
            " [   0    0   23 1961   16    0    0    0    0    0]\n",
            " [   0    0    5    0 1995    0    0    0    0    0]\n",
            " [  10    0    0    0    4 1985    0    0    1    0]\n",
            " [   0    1    0    0    3    2 1988    0    0    6]\n",
            " [   0    3    1    0    0    0    1 1995    0    0]\n",
            " [   0    2    0    0    0    0    0    0 1998    0]\n",
            " [   1    6    0    0    0    0    2    0    0 1991]]\n"
          ]
        }
      ],
      "source": [
        "print('Percision Score : {}\\n'.format(precision_score(y_test, y_pred, labels=[0, 1, 2, 3, 4, 5, 6, 7, 8, 9], average='micro')))\n",
        "print('Recall Score : {}\\n'.format(recall_score(y_test, y_pred, labels=[0, 1, 2, 3, 4, 5, 6, 7, 8, 9], average='micro')))\n",
        "print('F1 Score : {}\\n'.format(f1_score(y_test, y_pred, labels=[0, 1, 2, 3, 4, 5, 6, 7, 8, 9], average='micro')))\n",
        "print('Confusion Matrix : \\n\\n{}'.format(confusion_matrix(y_test, y_pred, labels=[0, 1, 2, 3, 4, 5, 6, 7, 8, 9])))"
      ]
    },
    {
      "cell_type": "code",
      "source": [
        "def preprocess_image(image_path, target_size):\n",
        "    \"\"\"\n",
        "    Preprocess the image to fit the model's expected input.\n",
        "\n",
        "    Args:\n",
        "    image_path (str): Path to the image.\n",
        "    target_size (tuple): The target size for resizing the image (height, width).\n",
        "\n",
        "    Returns:\n",
        "    numpy array: The preprocessed image.\n",
        "    \"\"\"\n",
        "    image = cv2.imread(image_path)  # Read the image in RGB\n",
        "    image = cv2.cvtColor(image, cv2.COLOR_BGR2GRAY)  # Convert to grayscale\n",
        "    _, image = cv2.threshold(image, 127, 255, cv2.THRESH_BINARY)  # Binarize the image\n",
        "    image = cv2.resize(image, target_size)  # Resize to target size\n",
        "    image = image.astype('float32') / 255.0  # Normalize to [0, 1]\n",
        "    return np.expand_dims(np.expand_dims(image, axis=-1), axis=0)  # Add channel and batch dimensions\n",
        "\n",
        "# Predict images\n",
        "def predict_images(model, input_folder):\n",
        "    \"\"\"\n",
        "    Predict the class of each image in the input folder using the given model.\n",
        "\n",
        "    Args:\n",
        "    model (keras.Model): The pre-trained model.\n",
        "    input_folder (str): Path to the input folder containing images.\n",
        "    \"\"\"\n",
        "    image_files = [os.path.join(input_folder, file) for file in os.listdir(input_folder) if file.lower().endswith(('.png', '.jpg', '.jpeg', '.bmp', '.tiff'))]\n",
        "    target_size = (image_size, image_size)  # Assuming model input shape is (image_size, image_size, 1)\n",
        "\n",
        "    for image_file in image_files:\n",
        "        # Preprocess and display the image\n",
        "        preprocessed_image = preprocess_image(image_file, target_size)\n",
        "        plt.imshow(preprocessed_image[0, :, :, 0], cmap='gray')\n",
        "        plt.title(os.path.basename(image_file))\n",
        "        plt.show()\n",
        "\n",
        "        # Predict the image\n",
        "        prediction = model.predict(preprocessed_image, verbose=1)\n",
        "        predicted_class = np.argmax(prediction, axis=1)  # Get the index of the highest probability class\n",
        "        print(f\"Prediction for {os.path.basename(image_file)}: {predicted_class}\")\n",
        "\n",
        "\n",
        "# Set the image size\n",
        "image_size = 40 # Set this to the input size your model expects\n",
        "\n",
        "# Usage example:\n",
        "predict_images(DCNN_model, '/content/In')"
      ],
      "metadata": {
        "colab": {
          "base_uri": "https://localhost:8080/",
          "height": 1000
        },
        "id": "dmOIER_hG39L",
        "outputId": "837d876e-abf7-4dd3-f96f-032e420bcf44"
      },
      "id": "dmOIER_hG39L",
      "execution_count": 40,
      "outputs": [
        {
          "output_type": "display_data",
          "data": {
            "text/plain": [
              "<Figure size 640x480 with 1 Axes>"
            ],
            "image/png": "[encoded data removed]"
          },
          "metadata": {}
        },
        {
          "output_type": "stream",
          "name": "stdout",
          "text": [
            "1/1 [==============================] - 0s 20ms/step\n",
            "Prediction for 123.png: [5]\n"
          ]
        },
        {
          "output_type": "display_data",
          "data": {
            "text/plain": [
              "<Figure size 640x480 with 1 Axes>"
            ],
            "image/png": "[encoded data removed]"
          },
          "metadata": {}
        },
        {
          "output_type": "stream",
          "name": "stdout",
          "text": [
            "1/1 [==============================] - 0s 21ms/step\n",
            "Prediction for 125.png: [0]\n"
          ]
        },
        {
          "output_type": "display_data",
          "data": {
            "text/plain": [
              "<Figure size 640x480 with 1 Axes>"
            ],
            "image/png": "[encoded data removed]"
          },
          "metadata": {}
        },
        {
          "output_type": "stream",
          "name": "stdout",
          "text": [
            "1/1 [==============================] - 0s 21ms/step\n",
            "Prediction for 124.png: [6]\n"
          ]
        }
      ]
    },
    {
      "cell_type": "code",
      "source": [],
      "metadata": {
        "id": "Piq-4o63JHbn"
      },
      "id": "Piq-4o63JHbn",
      "execution_count": null,
      "outputs": []
    }
  ],
  "metadata": {
    "kernelspec": {
      "display_name": "Python 3",
      "name": "python3"
    },
    "language_info": {
      "codemirror_mode": {
        "name": "ipython",
        "version": 3
      },
      "file_extension": ".py",
      "mimetype": "text/x-python",
      "name": "python",
      "nbconvert_exporter": "python",
      "pygments_lexer": "ipython3",
      "version": "3.9.6"
    },
    "papermill": {
      "default_parameters": {},
      "duration": 101.445899,
      "end_time": "2022-11-19T18:13:50.723116",
      "environment_variables": {},
      "exception": null,
      "input_path": "__notebook__.ipynb",
      "output_path": "__notebook__.ipynb",
      "parameters": {},
      "start_time": "2022-11-19T18:12:09.277217",
      "version": "2.3.4"
    },
    "vscode": {
      "interpreter": {
        "hash": "eaad02fa8db9cc5f6eaec66728a26705d1d226ad26e49b0f3a8a99320a7b4d72"
      }
    },
    "colab": {
      "provenance": [],
      "gpuType": "T4"
    },
    "accelerator": "GPU"
  },
  "nbformat": 4,
  "nbformat_minor": 5
}