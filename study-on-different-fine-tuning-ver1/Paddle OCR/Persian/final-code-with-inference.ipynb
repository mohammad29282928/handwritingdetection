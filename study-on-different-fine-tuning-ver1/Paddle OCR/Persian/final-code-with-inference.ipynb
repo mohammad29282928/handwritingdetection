{
  "nbformat": 4,
  "nbformat_minor": 0,
  "metadata": {
    "colab": {
      "provenance": [],
      "gpuType": "T4"
    },
    "kernelspec": {
      "name": "python3",
      "display_name": "Python 3"
    },
    "language_info": {
      "name": "python"
    },
    "accelerator": "GPU"
  },
  "cells": [
    {
      "cell_type": "code",
      "execution_count": 1,
      "metadata": {
        "colab": {
          "base_uri": "https://localhost:8080/"
        },
        "id": "8ug-UKC5RDh0",
        "outputId": "7dc74819-9fe6-4638-be74-2a8fa3832f4f"
      },
      "outputs": [
        {
          "output_type": "stream",
          "name": "stdout",
          "text": [
            "Cloning into 'PaddleOCR'...\n",
            "remote: Enumerating objects: 50911, done.\u001b[K\n",
            "remote: Counting objects: 100% (2135/2135), done.\u001b[K\n",
            "remote: Compressing objects: 100% (1301/1301), done.\u001b[K\n",
            "remote: Total 50911 (delta 995), reused 1819 (delta 790), pack-reused 48776\u001b[K\n",
            "Receiving objects: 100% (50911/50911), 385.73 MiB | 32.07 MiB/s, done.\n",
            "Resolving deltas: 100% (35361/35361), done.\n",
            "Updating files: 100% (2422/2422), done.\n"
          ]
        }
      ],
      "source": [
        "!git clone https://github.com/PaddlePaddle/PaddleOCR.git"
      ]
    },
    {
      "cell_type": "code",
      "source": [
        "!pip install -r /content/PaddleOCR/requirements.txt"
      ],
      "metadata": {
        "colab": {
          "base_uri": "https://localhost:8080/"
        },
        "id": "6OPaFr2RRJOd",
        "outputId": "96801a59-4952-4add-9a63-4f0a4df454d1"
      },
      "execution_count": 2,
      "outputs": [
        {
          "output_type": "stream",
          "name": "stdout",
          "text": [
            "Requirement already satisfied: shapely in /usr/local/lib/python3.10/dist-packages (from -r /content/PaddleOCR/requirements.txt (line 1)) (2.0.5)\n",
            "Requirement already satisfied: scikit-image in /usr/local/lib/python3.10/dist-packages (from -r /content/PaddleOCR/requirements.txt (line 2)) (0.23.2)\n",
            "Requirement already satisfied: imgaug in /usr/local/lib/python3.10/dist-packages (from -r /content/PaddleOCR/requirements.txt (line 3)) (0.4.0)\n",
            "Collecting pyclipper (from -r /content/PaddleOCR/requirements.txt (line 4))\n",
            "  Downloading pyclipper-1.3.0.post5-cp310-cp310-manylinux_2_12_x86_64.manylinux2010_x86_64.whl.metadata (9.0 kB)\n",
            "Collecting lmdb (from -r /content/PaddleOCR/requirements.txt (line 5))\n",
            "  Downloading lmdb-1.5.1-cp310-cp310-manylinux_2_17_x86_64.manylinux2014_x86_64.whl.metadata (1.1 kB)\n",
            "Requirement already satisfied: tqdm in /usr/local/lib/python3.10/dist-packages (from -r /content/PaddleOCR/requirements.txt (line 6)) (4.66.4)\n",
            "Requirement already satisfied: numpy<2.0 in /usr/local/lib/python3.10/dist-packages (from -r /content/PaddleOCR/requirements.txt (line 7)) (1.26.4)\n",
            "Collecting rapidfuzz (from -r /content/PaddleOCR/requirements.txt (line 8))\n",
            "  Downloading rapidfuzz-3.9.6-cp310-cp310-manylinux_2_17_x86_64.manylinux2014_x86_64.whl.metadata (12 kB)\n",
            "Requirement already satisfied: opencv-python in /usr/local/lib/python3.10/dist-packages (from -r /content/PaddleOCR/requirements.txt (line 9)) (4.10.0.84)\n",
            "Requirement already satisfied: opencv-contrib-python in /usr/local/lib/python3.10/dist-packages (from -r /content/PaddleOCR/requirements.txt (line 10)) (4.10.0.84)\n",
            "Requirement already satisfied: cython in /usr/local/lib/python3.10/dist-packages (from -r /content/PaddleOCR/requirements.txt (line 11)) (3.0.10)\n",
            "Requirement already satisfied: Pillow in /usr/local/lib/python3.10/dist-packages (from -r /content/PaddleOCR/requirements.txt (line 12)) (9.4.0)\n",
            "Requirement already satisfied: pyyaml in /usr/local/lib/python3.10/dist-packages (from -r /content/PaddleOCR/requirements.txt (line 13)) (6.0.1)\n",
            "Requirement already satisfied: requests in /usr/local/lib/python3.10/dist-packages (from -r /content/PaddleOCR/requirements.txt (line 14)) (2.31.0)\n",
            "Collecting albumentations==1.4.10 (from -r /content/PaddleOCR/requirements.txt (line 15))\n",
            "  Downloading albumentations-1.4.10-py3-none-any.whl.metadata (38 kB)\n",
            "Requirement already satisfied: scipy>=1.10.0 in /usr/local/lib/python3.10/dist-packages (from albumentations==1.4.10->-r /content/PaddleOCR/requirements.txt (line 15)) (1.13.1)\n",
            "Requirement already satisfied: typing-extensions>=4.9.0 in /usr/local/lib/python3.10/dist-packages (from albumentations==1.4.10->-r /content/PaddleOCR/requirements.txt (line 15)) (4.12.2)\n",
            "Requirement already satisfied: scikit-learn>=1.3.2 in /usr/local/lib/python3.10/dist-packages (from albumentations==1.4.10->-r /content/PaddleOCR/requirements.txt (line 15)) (1.3.2)\n",
            "Requirement already satisfied: pydantic>=2.7.0 in /usr/local/lib/python3.10/dist-packages (from albumentations==1.4.10->-r /content/PaddleOCR/requirements.txt (line 15)) (2.8.2)\n",
            "Requirement already satisfied: albucore>=0.0.11 in /usr/local/lib/python3.10/dist-packages (from albumentations==1.4.10->-r /content/PaddleOCR/requirements.txt (line 15)) (0.0.13)\n",
            "Requirement already satisfied: opencv-python-headless>=4.9.0.80 in /usr/local/lib/python3.10/dist-packages (from albumentations==1.4.10->-r /content/PaddleOCR/requirements.txt (line 15)) (4.10.0.84)\n",
            "Requirement already satisfied: networkx>=2.8 in /usr/local/lib/python3.10/dist-packages (from scikit-image->-r /content/PaddleOCR/requirements.txt (line 2)) (3.3)\n",
            "Requirement already satisfied: imageio>=2.33 in /usr/local/lib/python3.10/dist-packages (from scikit-image->-r /content/PaddleOCR/requirements.txt (line 2)) (2.34.2)\n",
            "Requirement already satisfied: tifffile>=2022.8.12 in /usr/local/lib/python3.10/dist-packages (from scikit-image->-r /content/PaddleOCR/requirements.txt (line 2)) (2024.7.24)\n",
            "Requirement already satisfied: packaging>=21 in /usr/local/lib/python3.10/dist-packages (from scikit-image->-r /content/PaddleOCR/requirements.txt (line 2)) (24.1)\n",
            "Requirement already satisfied: lazy-loader>=0.4 in /usr/local/lib/python3.10/dist-packages (from scikit-image->-r /content/PaddleOCR/requirements.txt (line 2)) (0.4)\n",
            "Requirement already satisfied: six in /usr/local/lib/python3.10/dist-packages (from imgaug->-r /content/PaddleOCR/requirements.txt (line 3)) (1.16.0)\n",
            "Requirement already satisfied: matplotlib in /usr/local/lib/python3.10/dist-packages (from imgaug->-r /content/PaddleOCR/requirements.txt (line 3)) (3.7.1)\n",
            "Requirement already satisfied: charset-normalizer<4,>=2 in /usr/local/lib/python3.10/dist-packages (from requests->-r /content/PaddleOCR/requirements.txt (line 14)) (3.3.2)\n",
            "Requirement already satisfied: idna<4,>=2.5 in /usr/local/lib/python3.10/dist-packages (from requests->-r /content/PaddleOCR/requirements.txt (line 14)) (3.7)\n",
            "Requirement already satisfied: urllib3<3,>=1.21.1 in /usr/local/lib/python3.10/dist-packages (from requests->-r /content/PaddleOCR/requirements.txt (line 14)) (2.0.7)\n",
            "Requirement already satisfied: certifi>=2017.4.17 in /usr/local/lib/python3.10/dist-packages (from requests->-r /content/PaddleOCR/requirements.txt (line 14)) (2024.7.4)\n",
            "Requirement already satisfied: tomli>=2.0.1 in /usr/local/lib/python3.10/dist-packages (from albucore>=0.0.11->albumentations==1.4.10->-r /content/PaddleOCR/requirements.txt (line 15)) (2.0.1)\n",
            "Requirement already satisfied: annotated-types>=0.4.0 in /usr/local/lib/python3.10/dist-packages (from pydantic>=2.7.0->albumentations==1.4.10->-r /content/PaddleOCR/requirements.txt (line 15)) (0.7.0)\n",
            "Requirement already satisfied: pydantic-core==2.20.1 in /usr/local/lib/python3.10/dist-packages (from pydantic>=2.7.0->albumentations==1.4.10->-r /content/PaddleOCR/requirements.txt (line 15)) (2.20.1)\n",
            "Requirement already satisfied: joblib>=1.1.1 in /usr/local/lib/python3.10/dist-packages (from scikit-learn>=1.3.2->albumentations==1.4.10->-r /content/PaddleOCR/requirements.txt (line 15)) (1.4.2)\n",
            "Requirement already satisfied: threadpoolctl>=2.0.0 in /usr/local/lib/python3.10/dist-packages (from scikit-learn>=1.3.2->albumentations==1.4.10->-r /content/PaddleOCR/requirements.txt (line 15)) (3.5.0)\n",
            "Requirement already satisfied: contourpy>=1.0.1 in /usr/local/lib/python3.10/dist-packages (from matplotlib->imgaug->-r /content/PaddleOCR/requirements.txt (line 3)) (1.2.1)\n",
            "Requirement already satisfied: cycler>=0.10 in /usr/local/lib/python3.10/dist-packages (from matplotlib->imgaug->-r /content/PaddleOCR/requirements.txt (line 3)) (0.12.1)\n",
            "Requirement already satisfied: fonttools>=4.22.0 in /usr/local/lib/python3.10/dist-packages (from matplotlib->imgaug->-r /content/PaddleOCR/requirements.txt (line 3)) (4.53.1)\n",
            "Requirement already satisfied: kiwisolver>=1.0.1 in /usr/local/lib/python3.10/dist-packages (from matplotlib->imgaug->-r /content/PaddleOCR/requirements.txt (line 3)) (1.4.5)\n",
            "Requirement already satisfied: pyparsing>=2.3.1 in /usr/local/lib/python3.10/dist-packages (from matplotlib->imgaug->-r /content/PaddleOCR/requirements.txt (line 3)) (3.1.2)\n",
            "Requirement already satisfied: python-dateutil>=2.7 in /usr/local/lib/python3.10/dist-packages (from matplotlib->imgaug->-r /content/PaddleOCR/requirements.txt (line 3)) (2.8.2)\n",
            "Downloading albumentations-1.4.10-py3-none-any.whl (161 kB)\n",
            "\u001b[2K   \u001b[90m━━━━━━━━━━━━━━━━━━━━━━━━━━━━━━━━━━━━━━━━\u001b[0m \u001b[32m161.9/161.9 kB\u001b[0m \u001b[31m8.9 MB/s\u001b[0m eta \u001b[36m0:00:00\u001b[0m\n",
            "\u001b[?25hDownloading pyclipper-1.3.0.post5-cp310-cp310-manylinux_2_12_x86_64.manylinux2010_x86_64.whl (908 kB)\n",
            "\u001b[2K   \u001b[90m━━━━━━━━━━━━━━━━━━━━━━━━━━━━━━━━━━━━━━━━\u001b[0m \u001b[32m908.3/908.3 kB\u001b[0m \u001b[31m39.7 MB/s\u001b[0m eta \u001b[36m0:00:00\u001b[0m\n",
            "\u001b[?25hDownloading lmdb-1.5.1-cp310-cp310-manylinux_2_17_x86_64.manylinux2014_x86_64.whl (294 kB)\n",
            "\u001b[2K   \u001b[90m━━━━━━━━━━━━━━━━━━━━━━━━━━━━━━━━━━━━━━━━\u001b[0m \u001b[32m294.9/294.9 kB\u001b[0m \u001b[31m26.2 MB/s\u001b[0m eta \u001b[36m0:00:00\u001b[0m\n",
            "\u001b[?25hDownloading rapidfuzz-3.9.6-cp310-cp310-manylinux_2_17_x86_64.manylinux2014_x86_64.whl (3.4 MB)\n",
            "\u001b[2K   \u001b[90m━━━━━━━━━━━━━━━━━━━━━━━━━━━━━━━━━━━━━━━━\u001b[0m \u001b[32m3.4/3.4 MB\u001b[0m \u001b[31m63.4 MB/s\u001b[0m eta \u001b[36m0:00:00\u001b[0m\n",
            "\u001b[?25hInstalling collected packages: pyclipper, lmdb, rapidfuzz, albumentations\n",
            "  Attempting uninstall: albumentations\n",
            "    Found existing installation: albumentations 1.4.12\n",
            "    Uninstalling albumentations-1.4.12:\n",
            "      Successfully uninstalled albumentations-1.4.12\n",
            "Successfully installed albumentations-1.4.10 lmdb-1.5.1 pyclipper-1.3.0.post5 rapidfuzz-3.9.6\n"
          ]
        }
      ]
    },
    {
      "cell_type": "code",
      "source": [
        "!pip install paddleocr"
      ],
      "metadata": {
        "colab": {
          "base_uri": "https://localhost:8080/"
        },
        "id": "DLbev7TU4PCm",
        "outputId": "7b9f5eca-1fcb-4e7f-ddae-26fdce3cd937"
      },
      "execution_count": 3,
      "outputs": [
        {
          "output_type": "stream",
          "name": "stdout",
          "text": [
            "Collecting paddleocr\n",
            "  Downloading paddleocr-2.8.1-py3-none-any.whl.metadata (19 kB)\n",
            "Requirement already satisfied: shapely in /usr/local/lib/python3.10/dist-packages (from paddleocr) (2.0.5)\n",
            "Requirement already satisfied: scikit-image in /usr/local/lib/python3.10/dist-packages (from paddleocr) (0.23.2)\n",
            "Requirement already satisfied: imgaug in /usr/local/lib/python3.10/dist-packages (from paddleocr) (0.4.0)\n",
            "Requirement already satisfied: pyclipper in /usr/local/lib/python3.10/dist-packages (from paddleocr) (1.3.0.post5)\n",
            "Requirement already satisfied: lmdb in /usr/local/lib/python3.10/dist-packages (from paddleocr) (1.5.1)\n",
            "Requirement already satisfied: tqdm in /usr/local/lib/python3.10/dist-packages (from paddleocr) (4.66.4)\n",
            "Requirement already satisfied: numpy<2.0 in /usr/local/lib/python3.10/dist-packages (from paddleocr) (1.26.4)\n",
            "Requirement already satisfied: rapidfuzz in /usr/local/lib/python3.10/dist-packages (from paddleocr) (3.9.6)\n",
            "Requirement already satisfied: opencv-python in /usr/local/lib/python3.10/dist-packages (from paddleocr) (4.10.0.84)\n",
            "Requirement already satisfied: opencv-contrib-python in /usr/local/lib/python3.10/dist-packages (from paddleocr) (4.10.0.84)\n",
            "Requirement already satisfied: cython in /usr/local/lib/python3.10/dist-packages (from paddleocr) (3.0.10)\n",
            "Requirement already satisfied: Pillow in /usr/local/lib/python3.10/dist-packages (from paddleocr) (9.4.0)\n",
            "Requirement already satisfied: pyyaml in /usr/local/lib/python3.10/dist-packages (from paddleocr) (6.0.1)\n",
            "Collecting python-docx (from paddleocr)\n",
            "  Downloading python_docx-1.1.2-py3-none-any.whl.metadata (2.0 kB)\n",
            "Requirement already satisfied: beautifulsoup4 in /usr/local/lib/python3.10/dist-packages (from paddleocr) (4.12.3)\n",
            "Requirement already satisfied: fonttools>=4.24.0 in /usr/local/lib/python3.10/dist-packages (from paddleocr) (4.53.1)\n",
            "Collecting fire>=0.3.0 (from paddleocr)\n",
            "  Downloading fire-0.6.0.tar.gz (88 kB)\n",
            "\u001b[2K     \u001b[90m━━━━━━━━━━━━━━━━━━━━━━━━━━━━━━━━━━━━━━━━\u001b[0m \u001b[32m88.4/88.4 kB\u001b[0m \u001b[31m3.9 MB/s\u001b[0m eta \u001b[36m0:00:00\u001b[0m\n",
            "\u001b[?25h  Preparing metadata (setup.py) ... \u001b[?25l\u001b[?25hdone\n",
            "Requirement already satisfied: requests in /usr/local/lib/python3.10/dist-packages (from paddleocr) (2.31.0)\n",
            "Requirement already satisfied: six in /usr/local/lib/python3.10/dist-packages (from fire>=0.3.0->paddleocr) (1.16.0)\n",
            "Requirement already satisfied: termcolor in /usr/local/lib/python3.10/dist-packages (from fire>=0.3.0->paddleocr) (2.4.0)\n",
            "Requirement already satisfied: soupsieve>1.2 in /usr/local/lib/python3.10/dist-packages (from beautifulsoup4->paddleocr) (2.5)\n",
            "Requirement already satisfied: scipy in /usr/local/lib/python3.10/dist-packages (from imgaug->paddleocr) (1.13.1)\n",
            "Requirement already satisfied: matplotlib in /usr/local/lib/python3.10/dist-packages (from imgaug->paddleocr) (3.7.1)\n",
            "Requirement already satisfied: imageio in /usr/local/lib/python3.10/dist-packages (from imgaug->paddleocr) (2.34.2)\n",
            "Requirement already satisfied: networkx>=2.8 in /usr/local/lib/python3.10/dist-packages (from scikit-image->paddleocr) (3.3)\n",
            "Requirement already satisfied: tifffile>=2022.8.12 in /usr/local/lib/python3.10/dist-packages (from scikit-image->paddleocr) (2024.7.24)\n",
            "Requirement already satisfied: packaging>=21 in /usr/local/lib/python3.10/dist-packages (from scikit-image->paddleocr) (24.1)\n",
            "Requirement already satisfied: lazy-loader>=0.4 in /usr/local/lib/python3.10/dist-packages (from scikit-image->paddleocr) (0.4)\n",
            "Requirement already satisfied: lxml>=3.1.0 in /usr/local/lib/python3.10/dist-packages (from python-docx->paddleocr) (4.9.4)\n",
            "Requirement already satisfied: typing-extensions>=4.9.0 in /usr/local/lib/python3.10/dist-packages (from python-docx->paddleocr) (4.12.2)\n",
            "Requirement already satisfied: charset-normalizer<4,>=2 in /usr/local/lib/python3.10/dist-packages (from requests->paddleocr) (3.3.2)\n",
            "Requirement already satisfied: idna<4,>=2.5 in /usr/local/lib/python3.10/dist-packages (from requests->paddleocr) (3.7)\n",
            "Requirement already satisfied: urllib3<3,>=1.21.1 in /usr/local/lib/python3.10/dist-packages (from requests->paddleocr) (2.0.7)\n",
            "Requirement already satisfied: certifi>=2017.4.17 in /usr/local/lib/python3.10/dist-packages (from requests->paddleocr) (2024.7.4)\n",
            "Requirement already satisfied: contourpy>=1.0.1 in /usr/local/lib/python3.10/dist-packages (from matplotlib->imgaug->paddleocr) (1.2.1)\n",
            "Requirement already satisfied: cycler>=0.10 in /usr/local/lib/python3.10/dist-packages (from matplotlib->imgaug->paddleocr) (0.12.1)\n",
            "Requirement already satisfied: kiwisolver>=1.0.1 in /usr/local/lib/python3.10/dist-packages (from matplotlib->imgaug->paddleocr) (1.4.5)\n",
            "Requirement already satisfied: pyparsing>=2.3.1 in /usr/local/lib/python3.10/dist-packages (from matplotlib->imgaug->paddleocr) (3.1.2)\n",
            "Requirement already satisfied: python-dateutil>=2.7 in /usr/local/lib/python3.10/dist-packages (from matplotlib->imgaug->paddleocr) (2.8.2)\n",
            "Downloading paddleocr-2.8.1-py3-none-any.whl (407 kB)\n",
            "\u001b[2K   \u001b[90m━━━━━━━━━━━━━━━━━━━━━━━━━━━━━━━━━━━━━━━━\u001b[0m \u001b[32m407.5/407.5 kB\u001b[0m \u001b[31m17.4 MB/s\u001b[0m eta \u001b[36m0:00:00\u001b[0m\n",
            "\u001b[?25hDownloading python_docx-1.1.2-py3-none-any.whl (244 kB)\n",
            "\u001b[2K   \u001b[90m━━━━━━━━━━━━━━━━━━━━━━━━━━━━━━━━━━━━━━━━\u001b[0m \u001b[32m244.3/244.3 kB\u001b[0m \u001b[31m20.6 MB/s\u001b[0m eta \u001b[36m0:00:00\u001b[0m\n",
            "\u001b[?25hBuilding wheels for collected packages: fire\n",
            "  Building wheel for fire (setup.py) ... \u001b[?25l\u001b[?25hdone\n",
            "  Created wheel for fire: filename=fire-0.6.0-py2.py3-none-any.whl size=117029 sha256=bf67889c57fe084da477a925d4695335087028fcdaf03c892a522f0ef219bb5d\n",
            "  Stored in directory: /root/.cache/pip/wheels/d6/6d/5d/5b73fa0f46d01a793713f8859201361e9e581ced8c75e5c6a3\n",
            "Successfully built fire\n",
            "Installing collected packages: python-docx, fire, paddleocr\n",
            "Successfully installed fire-0.6.0 paddleocr-2.8.1 python-docx-1.1.2\n"
          ]
        }
      ]
    },
    {
      "cell_type": "markdown",
      "source": [
        "## 👉 config Phase"
      ],
      "metadata": {
        "id": "Rv0Fc8qVyLXE"
      }
    },
    {
      "cell_type": "code",
      "source": [
        "!wget https://paddleocr.bj.bcebos.com/dygraph_v2.0/multilingual/fa_mobile_v2.0_rec_train.tar"
      ],
      "metadata": {
        "colab": {
          "base_uri": "https://localhost:8080/"
        },
        "id": "gEaRza_gSmjL",
        "outputId": "30da9e93-1a7d-4f42-c2b9-f700f699b67a"
      },
      "execution_count": 4,
      "outputs": [
        {
          "output_type": "stream",
          "name": "stdout",
          "text": [
            "--2024-08-07 07:20:28--  https://paddleocr.bj.bcebos.com/dygraph_v2.0/multilingual/fa_mobile_v2.0_rec_train.tar\n",
            "Resolving paddleocr.bj.bcebos.com (paddleocr.bj.bcebos.com)... 103.235.47.176, 2409:8c04:1001:1203:0:ff:b0bb:4f27\n",
            "Connecting to paddleocr.bj.bcebos.com (paddleocr.bj.bcebos.com)|103.235.47.176|:443... connected.\n",
            "HTTP request sent, awaiting response... 200 OK\n",
            "Length: 13905920 (13M) [application/x-tar]\n",
            "Saving to: ‘fa_mobile_v2.0_rec_train.tar’\n",
            "\n",
            "fa_mobile_v2.0_rec_ 100%[===================>]  13.26M  2.13MB/s    in 12s     \n",
            "\n",
            "2024-08-07 07:20:43 (1.06 MB/s) - ‘fa_mobile_v2.0_rec_train.tar’ saved [13905920/13905920]\n",
            "\n"
          ]
        }
      ]
    },
    {
      "cell_type": "code",
      "source": [
        "!mkdir /content/pre-trained"
      ],
      "metadata": {
        "id": "xWiDybDETM2m"
      },
      "execution_count": 5,
      "outputs": []
    },
    {
      "cell_type": "code",
      "source": [
        "!mkdir /content/log-models"
      ],
      "metadata": {
        "id": "A-A-HROScqN8"
      },
      "execution_count": 6,
      "outputs": []
    },
    {
      "cell_type": "code",
      "source": [
        "!cp fa_mobile_v2.0_rec_train.tar /content/pre-trained"
      ],
      "metadata": {
        "id": "JXNg9fxvTApj"
      },
      "execution_count": 7,
      "outputs": []
    },
    {
      "cell_type": "code",
      "source": [
        "!tar -xvf /content/pre-trained/fa_mobile_v2.0_rec_train.tar -C /content/pre-trained/\n"
      ],
      "metadata": {
        "colab": {
          "base_uri": "https://localhost:8080/"
        },
        "id": "zz3ktB_fSuqc",
        "outputId": "d63b1f81-7411-4166-9119-b639633e0d00"
      },
      "execution_count": 8,
      "outputs": [
        {
          "output_type": "stream",
          "name": "stdout",
          "text": [
            "best_accuracy.states\n",
            "best_accuracy.pdopt\n",
            "best_accuracy.pdparams\n",
            "train.log\n"
          ]
        }
      ]
    },
    {
      "cell_type": "code",
      "source": [
        "!gdown 16hKdCSCeCAzV7SMVGxIx9hmchavW5lBw"
      ],
      "metadata": {
        "colab": {
          "base_uri": "https://localhost:8080/"
        },
        "id": "z4ETVOp9W-o_",
        "outputId": "c724ef4b-61a1-42ed-ed85-d05e1eb3b2b2"
      },
      "execution_count": 9,
      "outputs": [
        {
          "output_type": "stream",
          "name": "stdout",
          "text": [
            "Downloading...\n",
            "From: https://drive.google.com/uc?id=16hKdCSCeCAzV7SMVGxIx9hmchavW5lBw\n",
            "To: /content/images.zip\n",
            "\r  0% 0.00/4.53M [00:00<?, ?B/s]\r100% 4.53M/4.53M [00:00<00:00, 27.6MB/s]\r100% 4.53M/4.53M [00:00<00:00, 27.5MB/s]\n"
          ]
        }
      ]
    },
    {
      "cell_type": "code",
      "source": [
        "!unzip images.zip"
      ],
      "metadata": {
        "id": "7b-zic5yXEMB",
        "colab": {
          "base_uri": "https://localhost:8080/"
        },
        "outputId": "93b3b980-6036-44f6-cba6-d1049098be80"
      },
      "execution_count": 10,
      "outputs": [
        {
          "output_type": "stream",
          "name": "stdout",
          "text": [
            "Archive:  images.zip\n",
            "   creating: images/\n",
            "  inflating: images/88.png           \n",
            "  inflating: __MACOSX/images/._88.png  \n",
            "  inflating: images/77.png           \n",
            "  inflating: __MACOSX/images/._77.png  \n",
            "  inflating: images/63.png           \n",
            "  inflating: __MACOSX/images/._63.png  \n",
            "  inflating: images/62.png           \n",
            "  inflating: __MACOSX/images/._62.png  \n",
            "  inflating: images/76.png           \n",
            "  inflating: __MACOSX/images/._76.png  \n",
            "  inflating: images/89.png           \n",
            "  inflating: __MACOSX/images/._89.png  \n",
            "  inflating: images/48.jpg           \n",
            "  inflating: __MACOSX/images/._48.jpg  \n",
            "  inflating: images/60.png           \n",
            "  inflating: __MACOSX/images/._60.png  \n",
            "  inflating: images/74.png           \n",
            "  inflating: __MACOSX/images/._74.png  \n",
            "  inflating: images/75.png           \n",
            "  inflating: __MACOSX/images/._75.png  \n",
            "  inflating: images/61.png           \n",
            "  inflating: __MACOSX/images/._61.png  \n",
            "  inflating: images/49.jpg           \n",
            "  inflating: __MACOSX/images/._49.jpg  \n",
            "  inflating: images/59.png           \n",
            "  inflating: __MACOSX/images/._59.png  \n",
            "  inflating: images/65.png           \n",
            "  inflating: __MACOSX/images/._65.png  \n",
            "  inflating: images/71.png           \n",
            "  inflating: __MACOSX/images/._71.png  \n",
            "  inflating: images/70.png           \n",
            "  inflating: __MACOSX/images/._70.png  \n",
            "  inflating: images/64.png           \n",
            "  inflating: __MACOSX/images/._64.png  \n",
            "  inflating: images/58.png           \n",
            "  inflating: __MACOSX/images/._58.png  \n",
            "  inflating: images/99.png           \n",
            "  inflating: __MACOSX/images/._99.png  \n",
            "  inflating: images/8.png            \n",
            "  inflating: __MACOSX/images/._8.png  \n",
            "  inflating: images/72.png           \n",
            "  inflating: __MACOSX/images/._72.png  \n",
            "  inflating: images/66.png           \n",
            "  inflating: __MACOSX/images/._66.png  \n",
            "  inflating: images/67.png           \n",
            "  inflating: __MACOSX/images/._67.png  \n",
            "  inflating: images/73.png           \n",
            "  inflating: __MACOSX/images/._73.png  \n",
            "  inflating: images/9.png            \n",
            "  inflating: __MACOSX/images/._9.png  \n",
            "  inflating: images/98.png           \n",
            "  inflating: __MACOSX/images/._98.png  \n",
            "  inflating: images/14.jpg           \n",
            "  inflating: __MACOSX/images/._14.jpg  \n",
            "  inflating: images/28.jpg           \n",
            "  inflating: __MACOSX/images/._28.jpg  \n",
            "  inflating: images/101.png          \n",
            "  inflating: __MACOSX/images/._101.png  \n",
            "  inflating: images/100.png          \n",
            "  inflating: __MACOSX/images/._100.png  \n",
            "  inflating: images/29.jpg           \n",
            "  inflating: __MACOSX/images/._29.jpg  \n",
            "  inflating: images/15.jpg           \n",
            "  inflating: __MACOSX/images/._15.jpg  \n",
            "  inflating: images/17.jpg           \n",
            "  inflating: __MACOSX/images/._17.jpg  \n",
            "  inflating: images/102.png          \n",
            "  inflating: __MACOSX/images/._102.png  \n",
            "  inflating: images/103.png          \n",
            "  inflating: __MACOSX/images/._103.png  \n",
            "  inflating: images/16.jpg           \n",
            "  inflating: __MACOSX/images/._16.jpg  \n",
            "  inflating: images/107.png          \n",
            "  inflating: __MACOSX/images/._107.png  \n",
            "  inflating: images/12.png           \n",
            "  inflating: __MACOSX/images/._12.png  \n",
            "  inflating: images/13.png           \n",
            "  inflating: __MACOSX/images/._13.png  \n",
            "  inflating: images/106.png          \n",
            "  inflating: __MACOSX/images/._106.png  \n",
            "  inflating: images/39.jpg           \n",
            "  inflating: __MACOSX/images/._39.jpg  \n",
            "  inflating: images/110.png          \n",
            "  inflating: __MACOSX/images/._110.png  \n",
            "  inflating: images/104.png          \n",
            "  inflating: __MACOSX/images/._104.png  \n",
            "  inflating: images/11.png           \n",
            "  inflating: __MACOSX/images/._11.png  \n",
            "  inflating: images/10.png           \n",
            "  inflating: __MACOSX/images/._10.png  \n",
            "  inflating: images/105.png          \n",
            "  inflating: __MACOSX/images/._105.png  \n",
            "  inflating: images/111.png          \n",
            "  inflating: __MACOSX/images/._111.png  \n",
            "  inflating: images/38.jpg           \n",
            "  inflating: __MACOSX/images/._38.jpg  \n",
            "  inflating: images/21.jpg           \n",
            "  inflating: __MACOSX/images/._21.jpg  \n",
            "  inflating: images/35.jpg           \n",
            "  inflating: __MACOSX/images/._35.jpg  \n",
            "  inflating: images/108.png          \n",
            "  inflating: __MACOSX/images/._108.png  \n",
            "  inflating: images/109.png          \n",
            "  inflating: __MACOSX/images/._109.png  \n",
            "  inflating: images/34.jpg           \n",
            "  inflating: __MACOSX/images/._34.jpg  \n",
            "  inflating: images/20.jpg           \n",
            "  inflating: __MACOSX/images/._20.jpg  \n",
            "  inflating: images/36.jpg           \n",
            "  inflating: __MACOSX/images/._36.jpg  \n",
            "  inflating: images/22.jpg           \n",
            "  inflating: __MACOSX/images/._22.jpg  \n",
            "  inflating: images/23.jpg           \n",
            "  inflating: __MACOSX/images/._23.jpg  \n",
            "  inflating: images/37.jpg           \n",
            "  inflating: __MACOSX/images/._37.jpg  \n",
            "  inflating: images/33.jpg           \n",
            "  inflating: __MACOSX/images/._33.jpg  \n",
            "  inflating: images/27.jpg           \n",
            "  inflating: __MACOSX/images/._27.jpg  \n",
            "  inflating: images/111.ipynb        \n",
            "  inflating: __MACOSX/images/._111.ipynb  \n",
            "  inflating: images/26.jpg           \n",
            "  inflating: __MACOSX/images/._26.jpg  \n",
            "  inflating: images/32.jpg           \n",
            "  inflating: __MACOSX/images/._32.jpg  \n",
            "  inflating: images/18.jpg           \n",
            "  inflating: __MACOSX/images/._18.jpg  \n",
            "  inflating: images/24.jpg           \n",
            "  inflating: __MACOSX/images/._24.jpg  \n",
            "  inflating: images/30.jpg           \n",
            "  inflating: __MACOSX/images/._30.jpg  \n",
            "  inflating: images/31.jpg           \n",
            "  inflating: __MACOSX/images/._31.jpg  \n",
            "  inflating: images/25.jpg           \n",
            "  inflating: __MACOSX/images/._25.jpg  \n",
            "  inflating: images/19.jpg           \n",
            "  inflating: __MACOSX/images/._19.jpg  \n",
            "  inflating: images/42.jpg           \n",
            "  inflating: __MACOSX/images/._42.jpg  \n",
            "  inflating: images/95.png           \n",
            "  inflating: __MACOSX/images/._95.png  \n",
            "  inflating: images/81.png           \n",
            "  inflating: __MACOSX/images/._81.png  \n",
            "  inflating: images/4.png            \n",
            "  inflating: __MACOSX/images/._4.png  \n",
            "  inflating: images/56.png           \n",
            "  inflating: __MACOSX/images/._56.png  \n",
            "  inflating: images/5.png            \n",
            "  inflating: __MACOSX/images/._5.png  \n",
            "  inflating: images/57.png           \n",
            "  inflating: __MACOSX/images/._57.png  \n",
            "  inflating: images/80.png           \n",
            "  inflating: __MACOSX/images/._80.png  \n",
            "  inflating: images/94.png           \n",
            "  inflating: __MACOSX/images/._94.png  \n",
            "  inflating: images/43.jpg           \n",
            "  inflating: __MACOSX/images/._43.jpg  \n",
            "  inflating: images/41.jpg           \n",
            "  inflating: __MACOSX/images/._41.jpg  \n",
            "  inflating: images/82.png           \n",
            "  inflating: __MACOSX/images/._82.png  \n",
            "  inflating: images/96.png           \n",
            "  inflating: __MACOSX/images/._96.png  \n",
            "  inflating: images/55.png           \n",
            "  inflating: __MACOSX/images/._55.png  \n",
            "  inflating: images/7.png            \n",
            "  inflating: __MACOSX/images/._7.png  \n",
            "  inflating: images/69.png           \n",
            "  inflating: __MACOSX/images/._69.png  \n",
            "  inflating: images/68.png           \n",
            "  inflating: __MACOSX/images/._68.png  \n",
            "  inflating: images/54.png           \n",
            "  inflating: __MACOSX/images/._54.png  \n",
            "  inflating: images/6.png            \n",
            "  inflating: __MACOSX/images/._6.png  \n",
            "  inflating: images/97.png           \n",
            "  inflating: __MACOSX/images/._97.png  \n",
            "  inflating: images/83.png           \n",
            "  inflating: __MACOSX/images/._83.png  \n",
            "  inflating: images/40.jpg           \n",
            "  inflating: __MACOSX/images/._40.jpg  \n",
            "  inflating: images/50.jpg           \n",
            "  inflating: __MACOSX/images/._50.jpg  \n",
            "  inflating: images/44.jpg           \n",
            "  inflating: __MACOSX/images/._44.jpg  \n",
            "  inflating: images/87.png           \n",
            "  inflating: __MACOSX/images/._87.png  \n",
            "  inflating: images/93.png           \n",
            "  inflating: __MACOSX/images/._93.png  \n",
            "  inflating: images/78.png           \n",
            "  inflating: __MACOSX/images/._78.png  \n",
            "  inflating: images/2.png            \n",
            "  inflating: __MACOSX/images/._2.png  \n",
            "  inflating: images/3.png            \n",
            "  inflating: __MACOSX/images/._3.png  \n",
            "  inflating: images/51.png           \n",
            "  inflating: __MACOSX/images/._51.png  \n",
            "  inflating: images/79.png           \n",
            "  inflating: __MACOSX/images/._79.png  \n",
            "  inflating: images/92.png           \n",
            "  inflating: __MACOSX/images/._92.png  \n",
            "  inflating: images/86.png           \n",
            "  inflating: __MACOSX/images/._86.png  \n",
            "  inflating: images/45.jpg           \n",
            "  inflating: __MACOSX/images/._45.jpg  \n",
            "  inflating: images/47.jpg           \n",
            "  inflating: __MACOSX/images/._47.jpg  \n",
            "  inflating: images/90.png           \n",
            "  inflating: __MACOSX/images/._90.png  \n",
            "  inflating: images/84.png           \n",
            "  inflating: __MACOSX/images/._84.png  \n",
            "  inflating: images/53.png           \n",
            "  inflating: __MACOSX/images/._53.png  \n",
            "  inflating: images/1.png            \n",
            "  inflating: __MACOSX/images/._1.png  \n",
            "  inflating: images/52.png           \n",
            "  inflating: __MACOSX/images/._52.png  \n",
            "  inflating: images/85.png           \n",
            "  inflating: __MACOSX/images/._85.png  \n",
            "  inflating: images/91.png           \n",
            "  inflating: __MACOSX/images/._91.png  \n",
            "  inflating: images/46.jpg           \n",
            "  inflating: __MACOSX/images/._46.jpg  \n"
          ]
        }
      ]
    },
    {
      "cell_type": "code",
      "source": [
        "import pandas as pd\n",
        "\n",
        "# Load the CSV file into a DataFrame\n",
        "df = pd.read_excel('/content/ocr-image_to_txt.xlsx')\n",
        "\n",
        "# Add the specified string to the beginning of each entry in the 'file_name' column\n",
        "df['file_name'] = df['file_name'].str.replace(\"/Users/hmi/Documents/perset/\", '/content/images/')\n",
        "\n",
        "# Save the updated DataFrame back to a CSV file\n",
        "df.to_csv('/content/ocr-image_to_txt.csv', index=False)\n"
      ],
      "metadata": {
        "id": "IpEZNQdVXPLu"
      },
      "execution_count": 11,
      "outputs": []
    },
    {
      "cell_type": "code",
      "source": [
        "!mkdir /content/data\n",
        "!mkdir /content/data/train\n",
        "!mkdir /content/data/test\n",
        "!mkdir /content/data/val"
      ],
      "metadata": {
        "id": "WJSrQbIwYx9v"
      },
      "execution_count": 12,
      "outputs": []
    },
    {
      "cell_type": "code",
      "source": [
        "!pip install paddlepaddle"
      ],
      "metadata": {
        "colab": {
          "base_uri": "https://localhost:8080/"
        },
        "id": "Aq0fd4a4Udzk",
        "outputId": "e1dbca8d-5ded-4a8c-8b98-e6c85e847d8b"
      },
      "execution_count": 13,
      "outputs": [
        {
          "output_type": "stream",
          "name": "stdout",
          "text": [
            "Collecting paddlepaddle\n",
            "  Downloading paddlepaddle-2.6.1-cp310-cp310-manylinux1_x86_64.whl.metadata (8.6 kB)\n",
            "Collecting httpx (from paddlepaddle)\n",
            "  Downloading httpx-0.27.0-py3-none-any.whl.metadata (7.2 kB)\n",
            "Requirement already satisfied: numpy>=1.13 in /usr/local/lib/python3.10/dist-packages (from paddlepaddle) (1.26.4)\n",
            "Requirement already satisfied: Pillow in /usr/local/lib/python3.10/dist-packages (from paddlepaddle) (9.4.0)\n",
            "Requirement already satisfied: decorator in /usr/local/lib/python3.10/dist-packages (from paddlepaddle) (4.4.2)\n",
            "Collecting astor (from paddlepaddle)\n",
            "  Downloading astor-0.8.1-py2.py3-none-any.whl.metadata (4.2 kB)\n",
            "Requirement already satisfied: opt-einsum==3.3.0 in /usr/local/lib/python3.10/dist-packages (from paddlepaddle) (3.3.0)\n",
            "Requirement already satisfied: protobuf>=3.20.2 in /usr/local/lib/python3.10/dist-packages (from paddlepaddle) (3.20.3)\n",
            "Requirement already satisfied: anyio in /usr/local/lib/python3.10/dist-packages (from httpx->paddlepaddle) (3.7.1)\n",
            "Requirement already satisfied: certifi in /usr/local/lib/python3.10/dist-packages (from httpx->paddlepaddle) (2024.7.4)\n",
            "Collecting httpcore==1.* (from httpx->paddlepaddle)\n",
            "  Downloading httpcore-1.0.5-py3-none-any.whl.metadata (20 kB)\n",
            "Requirement already satisfied: idna in /usr/local/lib/python3.10/dist-packages (from httpx->paddlepaddle) (3.7)\n",
            "Requirement already satisfied: sniffio in /usr/local/lib/python3.10/dist-packages (from httpx->paddlepaddle) (1.3.1)\n",
            "Collecting h11<0.15,>=0.13 (from httpcore==1.*->httpx->paddlepaddle)\n",
            "  Downloading h11-0.14.0-py3-none-any.whl.metadata (8.2 kB)\n",
            "Requirement already satisfied: exceptiongroup in /usr/local/lib/python3.10/dist-packages (from anyio->httpx->paddlepaddle) (1.2.2)\n",
            "Downloading paddlepaddle-2.6.1-cp310-cp310-manylinux1_x86_64.whl (125.9 MB)\n",
            "\u001b[2K   \u001b[90m━━━━━━━━━━━━━━━━━━━━━━━━━━━━━━━━━━━━━━━━\u001b[0m \u001b[32m125.9/125.9 MB\u001b[0m \u001b[31m7.9 MB/s\u001b[0m eta \u001b[36m0:00:00\u001b[0m\n",
            "\u001b[?25hDownloading astor-0.8.1-py2.py3-none-any.whl (27 kB)\n",
            "Downloading httpx-0.27.0-py3-none-any.whl (75 kB)\n",
            "\u001b[2K   \u001b[90m━━━━━━━━━━━━━━━━━━━━━━━━━━━━━━━━━━━━━━━━\u001b[0m \u001b[32m75.6/75.6 kB\u001b[0m \u001b[31m7.2 MB/s\u001b[0m eta \u001b[36m0:00:00\u001b[0m\n",
            "\u001b[?25hDownloading httpcore-1.0.5-py3-none-any.whl (77 kB)\n",
            "\u001b[2K   \u001b[90m━━━━━━━━━━━━━━━━━━━━━━━━━━━━━━━━━━━━━━━━\u001b[0m \u001b[32m77.9/77.9 kB\u001b[0m \u001b[31m7.8 MB/s\u001b[0m eta \u001b[36m0:00:00\u001b[0m\n",
            "\u001b[?25hDownloading h11-0.14.0-py3-none-any.whl (58 kB)\n",
            "\u001b[2K   \u001b[90m━━━━━━━━━━━━━━━━━━━━━━━━━━━━━━━━━━━━━━━━\u001b[0m \u001b[32m58.3/58.3 kB\u001b[0m \u001b[31m5.6 MB/s\u001b[0m eta \u001b[36m0:00:00\u001b[0m\n",
            "\u001b[?25hInstalling collected packages: h11, astor, httpcore, httpx, paddlepaddle\n",
            "Successfully installed astor-0.8.1 h11-0.14.0 httpcore-1.0.5 httpx-0.27.0 paddlepaddle-2.6.1\n"
          ]
        }
      ]
    },
    {
      "cell_type": "code",
      "source": [
        "import pandas as pd\n",
        "import os\n",
        "\n",
        "def split_csv_file(csv_file_path, train_csv_path, val_csv_path, val_ratio=0.15):\n",
        "    # Read the CSV file into a pandas DataFrame, skipping the first row (header)\n",
        "    df = pd.read_csv(csv_file_path, skiprows=1, header=None)\n",
        "\n",
        "    # Calculate the split index\n",
        "    total_lines = len(df)\n",
        "    val_index = int(total_lines * val_ratio)\n",
        "\n",
        "    # Split the DataFrame into validation and training sets\n",
        "    val_df = df.iloc[:val_index]\n",
        "    train_df = df.iloc[val_index:]\n",
        "\n",
        "    # Save the validation set to the CSV file\n",
        "    val_df.to_csv(val_csv_path, index=False, header=False)\n",
        "\n",
        "    # Save the training set to the CSV file\n",
        "    train_df.to_csv(train_csv_path, index=False, header=False)\n",
        "\n",
        "# Usage\n",
        "csv_file_path = '/content/ocr-image_to_txt.csv'\n",
        "train_csv_path = '/content/data/train/output_train.csv'\n",
        "val_csv_path = '/content/data/val/output_val.csv'\n",
        "\n",
        "split_csv_file(csv_file_path, train_csv_path, val_csv_path)\n"
      ],
      "metadata": {
        "id": "WhRe6GmTgVnU"
      },
      "execution_count": 14,
      "outputs": []
    },
    {
      "cell_type": "code",
      "source": [
        "!python /content/PaddleOCR/ppocr/utils/gen_label.py --mode=\"rec\" --input_path=/content/data/train/output_train.csv --output_label=/content/data/train/output_label.txt\n",
        "\n"
      ],
      "metadata": {
        "colab": {
          "base_uri": "https://localhost:8080/"
        },
        "id": "B875x2dNdaDh",
        "outputId": "d76395e5-842a-4395-9c4c-4037f395ae76"
      },
      "execution_count": 15,
      "outputs": [
        {
          "output_type": "stream",
          "name": "stdout",
          "text": [
            "Generate rec label\n"
          ]
        }
      ]
    },
    {
      "cell_type": "code",
      "source": [
        "!python /content/PaddleOCR/ppocr/utils/gen_label.py --mode=\"rec\" --input_path=/content/data/val/output_val.csv --output_label=/content/data/val/output_label.txt\n"
      ],
      "metadata": {
        "colab": {
          "base_uri": "https://localhost:8080/"
        },
        "id": "2qXXU4Iwd2hF",
        "outputId": "a530e562-c663-4270-edb3-6e235b5c6dc6"
      },
      "execution_count": 16,
      "outputs": [
        {
          "output_type": "stream",
          "name": "stdout",
          "text": [
            "Generate rec label\n"
          ]
        }
      ]
    },
    {
      "cell_type": "markdown",
      "source": [
        "## 👉 train Phase"
      ],
      "metadata": {
        "id": "8Dt3YvR-qRvY"
      }
    },
    {
      "cell_type": "code",
      "source": [
        "!pip install paddlepaddle paddleocr\n"
      ],
      "metadata": {
        "colab": {
          "base_uri": "https://localhost:8080/"
        },
        "id": "NUP6B-vm4z-3",
        "outputId": "7d5b1304-bdfb-407f-b4a6-45b35271edc9"
      },
      "execution_count": 2,
      "outputs": [
        {
          "output_type": "stream",
          "name": "stdout",
          "text": [
            "Collecting paddlepaddle\n",
            "  Downloading paddlepaddle-2.6.1-cp310-cp310-manylinux1_x86_64.whl.metadata (8.6 kB)\n",
            "Collecting paddleocr\n",
            "  Downloading paddleocr-2.8.1-py3-none-any.whl.metadata (19 kB)\n",
            "Collecting httpx (from paddlepaddle)\n",
            "  Downloading httpx-0.27.0-py3-none-any.whl.metadata (7.2 kB)\n",
            "Requirement already satisfied: numpy>=1.13 in /usr/local/lib/python3.10/dist-packages (from paddlepaddle) (1.26.4)\n",
            "Requirement already satisfied: Pillow in /usr/local/lib/python3.10/dist-packages (from paddlepaddle) (9.4.0)\n",
            "Requirement already satisfied: decorator in /usr/local/lib/python3.10/dist-packages (from paddlepaddle) (4.4.2)\n",
            "Collecting astor (from paddlepaddle)\n",
            "  Downloading astor-0.8.1-py2.py3-none-any.whl.metadata (4.2 kB)\n",
            "Requirement already satisfied: opt-einsum==3.3.0 in /usr/local/lib/python3.10/dist-packages (from paddlepaddle) (3.3.0)\n",
            "Requirement already satisfied: protobuf>=3.20.2 in /usr/local/lib/python3.10/dist-packages (from paddlepaddle) (3.20.3)\n",
            "Requirement already satisfied: shapely in /usr/local/lib/python3.10/dist-packages (from paddleocr) (2.0.5)\n",
            "Requirement already satisfied: scikit-image in /usr/local/lib/python3.10/dist-packages (from paddleocr) (0.23.2)\n",
            "Requirement already satisfied: imgaug in /usr/local/lib/python3.10/dist-packages (from paddleocr) (0.4.0)\n",
            "Collecting pyclipper (from paddleocr)\n",
            "  Downloading pyclipper-1.3.0.post5-cp310-cp310-manylinux_2_12_x86_64.manylinux2010_x86_64.whl.metadata (9.0 kB)\n",
            "Collecting lmdb (from paddleocr)\n",
            "  Downloading lmdb-1.5.1-cp310-cp310-manylinux_2_17_x86_64.manylinux2014_x86_64.whl.metadata (1.1 kB)\n",
            "Requirement already satisfied: tqdm in /usr/local/lib/python3.10/dist-packages (from paddleocr) (4.66.4)\n",
            "Collecting rapidfuzz (from paddleocr)\n",
            "  Downloading rapidfuzz-3.9.6-cp310-cp310-manylinux_2_17_x86_64.manylinux2014_x86_64.whl.metadata (12 kB)\n",
            "Requirement already satisfied: opencv-python in /usr/local/lib/python3.10/dist-packages (from paddleocr) (4.10.0.84)\n",
            "Requirement already satisfied: opencv-contrib-python in /usr/local/lib/python3.10/dist-packages (from paddleocr) (4.10.0.84)\n",
            "Requirement already satisfied: cython in /usr/local/lib/python3.10/dist-packages (from paddleocr) (3.0.10)\n",
            "Requirement already satisfied: pyyaml in /usr/local/lib/python3.10/dist-packages (from paddleocr) (6.0.1)\n",
            "Collecting python-docx (from paddleocr)\n",
            "  Downloading python_docx-1.1.2-py3-none-any.whl.metadata (2.0 kB)\n",
            "Requirement already satisfied: beautifulsoup4 in /usr/local/lib/python3.10/dist-packages (from paddleocr) (4.12.3)\n",
            "Requirement already satisfied: fonttools>=4.24.0 in /usr/local/lib/python3.10/dist-packages (from paddleocr) (4.53.1)\n",
            "Collecting fire>=0.3.0 (from paddleocr)\n",
            "  Downloading fire-0.6.0.tar.gz (88 kB)\n",
            "\u001b[2K     \u001b[90m━━━━━━━━━━━━━━━━━━━━━━━━━━━━━━━━━━━━━━━━\u001b[0m \u001b[32m88.4/88.4 kB\u001b[0m \u001b[31m3.5 MB/s\u001b[0m eta \u001b[36m0:00:00\u001b[0m\n",
            "\u001b[?25h  Preparing metadata (setup.py) ... \u001b[?25l\u001b[?25hdone\n",
            "Requirement already satisfied: requests in /usr/local/lib/python3.10/dist-packages (from paddleocr) (2.31.0)\n",
            "Requirement already satisfied: six in /usr/local/lib/python3.10/dist-packages (from fire>=0.3.0->paddleocr) (1.16.0)\n",
            "Requirement already satisfied: termcolor in /usr/local/lib/python3.10/dist-packages (from fire>=0.3.0->paddleocr) (2.4.0)\n",
            "Requirement already satisfied: soupsieve>1.2 in /usr/local/lib/python3.10/dist-packages (from beautifulsoup4->paddleocr) (2.5)\n",
            "Requirement already satisfied: anyio in /usr/local/lib/python3.10/dist-packages (from httpx->paddlepaddle) (3.7.1)\n",
            "Requirement already satisfied: certifi in /usr/local/lib/python3.10/dist-packages (from httpx->paddlepaddle) (2024.7.4)\n",
            "Collecting httpcore==1.* (from httpx->paddlepaddle)\n",
            "  Downloading httpcore-1.0.5-py3-none-any.whl.metadata (20 kB)\n",
            "Requirement already satisfied: idna in /usr/local/lib/python3.10/dist-packages (from httpx->paddlepaddle) (3.7)\n",
            "Requirement already satisfied: sniffio in /usr/local/lib/python3.10/dist-packages (from httpx->paddlepaddle) (1.3.1)\n",
            "Collecting h11<0.15,>=0.13 (from httpcore==1.*->httpx->paddlepaddle)\n",
            "  Downloading h11-0.14.0-py3-none-any.whl.metadata (8.2 kB)\n",
            "Requirement already satisfied: scipy in /usr/local/lib/python3.10/dist-packages (from imgaug->paddleocr) (1.13.1)\n",
            "Requirement already satisfied: matplotlib in /usr/local/lib/python3.10/dist-packages (from imgaug->paddleocr) (3.7.1)\n",
            "Requirement already satisfied: imageio in /usr/local/lib/python3.10/dist-packages (from imgaug->paddleocr) (2.34.2)\n",
            "Requirement already satisfied: networkx>=2.8 in /usr/local/lib/python3.10/dist-packages (from scikit-image->paddleocr) (3.3)\n",
            "Requirement already satisfied: tifffile>=2022.8.12 in /usr/local/lib/python3.10/dist-packages (from scikit-image->paddleocr) (2024.7.24)\n",
            "Requirement already satisfied: packaging>=21 in /usr/local/lib/python3.10/dist-packages (from scikit-image->paddleocr) (24.1)\n",
            "Requirement already satisfied: lazy-loader>=0.4 in /usr/local/lib/python3.10/dist-packages (from scikit-image->paddleocr) (0.4)\n",
            "Requirement already satisfied: lxml>=3.1.0 in /usr/local/lib/python3.10/dist-packages (from python-docx->paddleocr) (4.9.4)\n",
            "Requirement already satisfied: typing-extensions>=4.9.0 in /usr/local/lib/python3.10/dist-packages (from python-docx->paddleocr) (4.12.2)\n",
            "Requirement already satisfied: charset-normalizer<4,>=2 in /usr/local/lib/python3.10/dist-packages (from requests->paddleocr) (3.3.2)\n",
            "Requirement already satisfied: urllib3<3,>=1.21.1 in /usr/local/lib/python3.10/dist-packages (from requests->paddleocr) (2.0.7)\n",
            "Requirement already satisfied: exceptiongroup in /usr/local/lib/python3.10/dist-packages (from anyio->httpx->paddlepaddle) (1.2.2)\n",
            "Requirement already satisfied: contourpy>=1.0.1 in /usr/local/lib/python3.10/dist-packages (from matplotlib->imgaug->paddleocr) (1.2.1)\n",
            "Requirement already satisfied: cycler>=0.10 in /usr/local/lib/python3.10/dist-packages (from matplotlib->imgaug->paddleocr) (0.12.1)\n",
            "Requirement already satisfied: kiwisolver>=1.0.1 in /usr/local/lib/python3.10/dist-packages (from matplotlib->imgaug->paddleocr) (1.4.5)\n",
            "Requirement already satisfied: pyparsing>=2.3.1 in /usr/local/lib/python3.10/dist-packages (from matplotlib->imgaug->paddleocr) (3.1.2)\n",
            "Requirement already satisfied: python-dateutil>=2.7 in /usr/local/lib/python3.10/dist-packages (from matplotlib->imgaug->paddleocr) (2.8.2)\n",
            "Downloading paddlepaddle-2.6.1-cp310-cp310-manylinux1_x86_64.whl (125.9 MB)\n",
            "\u001b[2K   \u001b[90m━━━━━━━━━━━━━━━━━━━━━━━━━━━━━━━━━━━━━━━━\u001b[0m \u001b[32m125.9/125.9 MB\u001b[0m \u001b[31m6.5 MB/s\u001b[0m eta \u001b[36m0:00:00\u001b[0m\n",
            "\u001b[?25hDownloading paddleocr-2.8.1-py3-none-any.whl (407 kB)\n",
            "\u001b[2K   \u001b[90m━━━━━━━━━━━━━━━━━━━━━━━━━━━━━━━━━━━━━━━━\u001b[0m \u001b[32m407.5/407.5 kB\u001b[0m \u001b[31m23.0 MB/s\u001b[0m eta \u001b[36m0:00:00\u001b[0m\n",
            "\u001b[?25hDownloading astor-0.8.1-py2.py3-none-any.whl (27 kB)\n",
            "Downloading httpx-0.27.0-py3-none-any.whl (75 kB)\n",
            "\u001b[2K   \u001b[90m━━━━━━━━━━━━━━━━━━━━━━━━━━━━━━━━━━━━━━━━\u001b[0m \u001b[32m75.6/75.6 kB\u001b[0m \u001b[31m5.1 MB/s\u001b[0m eta \u001b[36m0:00:00\u001b[0m\n",
            "\u001b[?25hDownloading httpcore-1.0.5-py3-none-any.whl (77 kB)\n",
            "\u001b[2K   \u001b[90m━━━━━━━━━━━━━━━━━━━━━━━━━━━━━━━━━━━━━━━━\u001b[0m \u001b[32m77.9/77.9 kB\u001b[0m \u001b[31m4.8 MB/s\u001b[0m eta \u001b[36m0:00:00\u001b[0m\n",
            "\u001b[?25hDownloading lmdb-1.5.1-cp310-cp310-manylinux_2_17_x86_64.manylinux2014_x86_64.whl (294 kB)\n",
            "\u001b[2K   \u001b[90m━━━━━━━━━━━━━━━━━━━━━━━━━━━━━━━━━━━━━━━━\u001b[0m \u001b[32m294.9/294.9 kB\u001b[0m \u001b[31m13.9 MB/s\u001b[0m eta \u001b[36m0:00:00\u001b[0m\n",
            "\u001b[?25hDownloading pyclipper-1.3.0.post5-cp310-cp310-manylinux_2_12_x86_64.manylinux2010_x86_64.whl (908 kB)\n",
            "\u001b[2K   \u001b[90m━━━━━━━━━━━━━━━━━━━━━━━━━━━━━━━━━━━━━━━━\u001b[0m \u001b[32m908.3/908.3 kB\u001b[0m \u001b[31m23.2 MB/s\u001b[0m eta \u001b[36m0:00:00\u001b[0m\n",
            "\u001b[?25hDownloading python_docx-1.1.2-py3-none-any.whl (244 kB)\n",
            "\u001b[2K   \u001b[90m━━━━━━━━━━━━━━━━━━━━━━━━━━━━━━━━━━━━━━━━\u001b[0m \u001b[32m244.3/244.3 kB\u001b[0m \u001b[31m12.4 MB/s\u001b[0m eta \u001b[36m0:00:00\u001b[0m\n",
            "\u001b[?25hDownloading rapidfuzz-3.9.6-cp310-cp310-manylinux_2_17_x86_64.manylinux2014_x86_64.whl (3.4 MB)\n",
            "\u001b[2K   \u001b[90m━━━━━━━━━━━━━━━━━━━━━━━━━━━━━━━━━━━━━━━━\u001b[0m \u001b[32m3.4/3.4 MB\u001b[0m \u001b[31m44.8 MB/s\u001b[0m eta \u001b[36m0:00:00\u001b[0m\n",
            "\u001b[?25hDownloading h11-0.14.0-py3-none-any.whl (58 kB)\n",
            "\u001b[2K   \u001b[90m━━━━━━━━━━━━━━━━━━━━━━━━━━━━━━━━━━━━━━━━\u001b[0m \u001b[32m58.3/58.3 kB\u001b[0m \u001b[31m2.8 MB/s\u001b[0m eta \u001b[36m0:00:00\u001b[0m\n",
            "\u001b[?25hBuilding wheels for collected packages: fire\n",
            "  Building wheel for fire (setup.py) ... \u001b[?25l\u001b[?25hdone\n",
            "  Created wheel for fire: filename=fire-0.6.0-py2.py3-none-any.whl size=117029 sha256=34296715955184b3c371d36de54e84283ae28fbf6e7acd3df2887ed54c3eb121\n",
            "  Stored in directory: /root/.cache/pip/wheels/d6/6d/5d/5b73fa0f46d01a793713f8859201361e9e581ced8c75e5c6a3\n",
            "Successfully built fire\n",
            "Installing collected packages: pyclipper, lmdb, rapidfuzz, python-docx, h11, fire, astor, httpcore, httpx, paddlepaddle, paddleocr\n",
            "Successfully installed astor-0.8.1 fire-0.6.0 h11-0.14.0 httpcore-1.0.5 httpx-0.27.0 lmdb-1.5.1 paddleocr-2.8.1 paddlepaddle-2.6.1 pyclipper-1.3.0.post5 python-docx-1.1.2 rapidfuzz-3.9.6\n"
          ]
        }
      ]
    },
    {
      "cell_type": "code",
      "source": [
        "!mkdir /content/infer_model"
      ],
      "metadata": {
        "id": "aUbH0nvvwhWJ"
      },
      "execution_count": 20,
      "outputs": []
    },
    {
      "cell_type": "code",
      "source": [
        "!python3 /content/PaddleOCR/tools/train.py -c /content/en_PP-OCRv3_rec.yml -o Global.pretrained_model=/content/pre-trained/best_accuracy"
      ],
      "metadata": {
        "colab": {
          "base_uri": "https://localhost:8080/"
        },
        "id": "Ttjur_d4RVzQ",
        "outputId": "65115f08-3b44-4be7-a9eb-8e7631ab3be3"
      },
      "execution_count": 1,
      "outputs": [
        {
          "output_type": "stream",
          "name": "stdout",
          "text": [
            "python3: can't open file '/content/PaddleOCR/tools/train.py': [Errno 2] No such file or directory\n"
          ]
        }
      ]
    },
    {
      "cell_type": "code",
      "source": [],
      "metadata": {
        "id": "dRyY4ghX_Ej-"
      },
      "execution_count": null,
      "outputs": []
    },
    {
      "cell_type": "markdown",
      "source": [
        "## **👉 inference Phase**"
      ],
      "metadata": {
        "id": "Ds_kHYTjqAtI"
      }
    },
    {
      "cell_type": "code",
      "source": [
        "!mkdir /content/infer_model"
      ],
      "metadata": {
        "id": "cuSsq3Uyo2m7"
      },
      "execution_count": null,
      "outputs": []
    },
    {
      "cell_type": "code",
      "source": [
        "!python3 /content/PaddleOCR/tools/export_model.py -c /content/log-models/config.yml  -o Global.pretrained_model=/content/log-models/best_accuracy Global.save_inference_dir=/content/infer_model\n"
      ],
      "metadata": {
        "colab": {
          "base_uri": "https://localhost:8080/"
        },
        "id": "P-R2ZSTkoLCf",
        "outputId": "91f5d54f-8e8c-4cde-a9ef-48f72912a1da"
      },
      "execution_count": 23,
      "outputs": [
        {
          "output_type": "stream",
          "name": "stdout",
          "text": [
            "[2024/08/07 07:49:28] ppocr INFO: load pretrain successful from /content/log-models/best_accuracy\n",
            "I0807 07:49:29.832141  9996 program_interpreter.cc:212] New Executor is Running.\n",
            "[2024/08/07 07:49:29] ppocr INFO: inference model is saved to /content/infer_model/inference\n",
            "[2024/08/07 07:49:29] ppocr INFO: Export inference config file to /content/infer_model/inference.yml\n"
          ]
        }
      ]
    },
    {
      "cell_type": "code",
      "source": [
        "!pip install paddleocr"
      ],
      "metadata": {
        "colab": {
          "base_uri": "https://localhost:8080/"
        },
        "id": "wOZMLdZ-qwvq",
        "outputId": "cabe6ca7-90de-4712-8bda-213444671f2b"
      },
      "execution_count": null,
      "outputs": [
        {
          "output_type": "stream",
          "name": "stdout",
          "text": [
            "Collecting paddleocr\n",
            "  Downloading paddleocr-2.8.1-py3-none-any.whl.metadata (19 kB)\n",
            "Requirement already satisfied: shapely in /usr/local/lib/python3.10/dist-packages (from paddleocr) (2.0.5)\n",
            "Requirement already satisfied: scikit-image in /usr/local/lib/python3.10/dist-packages (from paddleocr) (0.23.2)\n",
            "Requirement already satisfied: imgaug in /usr/local/lib/python3.10/dist-packages (from paddleocr) (0.4.0)\n",
            "Requirement already satisfied: pyclipper in /usr/local/lib/python3.10/dist-packages (from paddleocr) (1.3.0.post5)\n",
            "Requirement already satisfied: lmdb in /usr/local/lib/python3.10/dist-packages (from paddleocr) (1.5.1)\n",
            "Requirement already satisfied: tqdm in /usr/local/lib/python3.10/dist-packages (from paddleocr) (4.66.4)\n",
            "Requirement already satisfied: numpy<2.0 in /usr/local/lib/python3.10/dist-packages (from paddleocr) (1.26.4)\n",
            "Requirement already satisfied: rapidfuzz in /usr/local/lib/python3.10/dist-packages (from paddleocr) (3.9.5)\n",
            "Requirement already satisfied: opencv-python in /usr/local/lib/python3.10/dist-packages (from paddleocr) (4.10.0.84)\n",
            "Requirement already satisfied: opencv-contrib-python in /usr/local/lib/python3.10/dist-packages (from paddleocr) (4.10.0.84)\n",
            "Requirement already satisfied: cython in /usr/local/lib/python3.10/dist-packages (from paddleocr) (3.0.10)\n",
            "Requirement already satisfied: Pillow in /usr/local/lib/python3.10/dist-packages (from paddleocr) (9.4.0)\n",
            "Requirement already satisfied: pyyaml in /usr/local/lib/python3.10/dist-packages (from paddleocr) (6.0.1)\n",
            "Collecting python-docx (from paddleocr)\n",
            "  Downloading python_docx-1.1.2-py3-none-any.whl.metadata (2.0 kB)\n",
            "Requirement already satisfied: beautifulsoup4 in /usr/local/lib/python3.10/dist-packages (from paddleocr) (4.12.3)\n",
            "Requirement already satisfied: fonttools>=4.24.0 in /usr/local/lib/python3.10/dist-packages (from paddleocr) (4.53.1)\n",
            "Collecting fire>=0.3.0 (from paddleocr)\n",
            "  Downloading fire-0.6.0.tar.gz (88 kB)\n",
            "\u001b[2K     \u001b[90m━━━━━━━━━━━━━━━━━━━━━━━━━━━━━━━━━━━━━━━━\u001b[0m \u001b[32m88.4/88.4 kB\u001b[0m \u001b[31m5.4 MB/s\u001b[0m eta \u001b[36m0:00:00\u001b[0m\n",
            "\u001b[?25h  Preparing metadata (setup.py) ... \u001b[?25l\u001b[?25hdone\n",
            "Requirement already satisfied: requests in /usr/local/lib/python3.10/dist-packages (from paddleocr) (2.31.0)\n",
            "Requirement already satisfied: six in /usr/local/lib/python3.10/dist-packages (from fire>=0.3.0->paddleocr) (1.16.0)\n",
            "Requirement already satisfied: termcolor in /usr/local/lib/python3.10/dist-packages (from fire>=0.3.0->paddleocr) (2.4.0)\n",
            "Requirement already satisfied: soupsieve>1.2 in /usr/local/lib/python3.10/dist-packages (from beautifulsoup4->paddleocr) (2.5)\n",
            "Requirement already satisfied: scipy in /usr/local/lib/python3.10/dist-packages (from imgaug->paddleocr) (1.13.1)\n",
            "Requirement already satisfied: matplotlib in /usr/local/lib/python3.10/dist-packages (from imgaug->paddleocr) (3.7.1)\n",
            "Requirement already satisfied: imageio in /usr/local/lib/python3.10/dist-packages (from imgaug->paddleocr) (2.34.2)\n",
            "Requirement already satisfied: networkx>=2.8 in /usr/local/lib/python3.10/dist-packages (from scikit-image->paddleocr) (3.3)\n",
            "Requirement already satisfied: tifffile>=2022.8.12 in /usr/local/lib/python3.10/dist-packages (from scikit-image->paddleocr) (2024.7.24)\n",
            "Requirement already satisfied: packaging>=21 in /usr/local/lib/python3.10/dist-packages (from scikit-image->paddleocr) (24.1)\n",
            "Requirement already satisfied: lazy-loader>=0.4 in /usr/local/lib/python3.10/dist-packages (from scikit-image->paddleocr) (0.4)\n",
            "Requirement already satisfied: lxml>=3.1.0 in /usr/local/lib/python3.10/dist-packages (from python-docx->paddleocr) (4.9.4)\n",
            "Requirement already satisfied: typing-extensions>=4.9.0 in /usr/local/lib/python3.10/dist-packages (from python-docx->paddleocr) (4.12.2)\n",
            "Requirement already satisfied: charset-normalizer<4,>=2 in /usr/local/lib/python3.10/dist-packages (from requests->paddleocr) (3.3.2)\n",
            "Requirement already satisfied: idna<4,>=2.5 in /usr/local/lib/python3.10/dist-packages (from requests->paddleocr) (3.7)\n",
            "Requirement already satisfied: urllib3<3,>=1.21.1 in /usr/local/lib/python3.10/dist-packages (from requests->paddleocr) (2.0.7)\n",
            "Requirement already satisfied: certifi>=2017.4.17 in /usr/local/lib/python3.10/dist-packages (from requests->paddleocr) (2024.7.4)\n",
            "Requirement already satisfied: contourpy>=1.0.1 in /usr/local/lib/python3.10/dist-packages (from matplotlib->imgaug->paddleocr) (1.2.1)\n",
            "Requirement already satisfied: cycler>=0.10 in /usr/local/lib/python3.10/dist-packages (from matplotlib->imgaug->paddleocr) (0.12.1)\n",
            "Requirement already satisfied: kiwisolver>=1.0.1 in /usr/local/lib/python3.10/dist-packages (from matplotlib->imgaug->paddleocr) (1.4.5)\n",
            "Requirement already satisfied: pyparsing>=2.3.1 in /usr/local/lib/python3.10/dist-packages (from matplotlib->imgaug->paddleocr) (3.1.2)\n",
            "Requirement already satisfied: python-dateutil>=2.7 in /usr/local/lib/python3.10/dist-packages (from matplotlib->imgaug->paddleocr) (2.8.2)\n",
            "Downloading paddleocr-2.8.1-py3-none-any.whl (407 kB)\n",
            "\u001b[2K   \u001b[90m━━━━━━━━━━━━━━━━━━━━━━━━━━━━━━━━━━━━━━━━\u001b[0m \u001b[32m407.5/407.5 kB\u001b[0m \u001b[31m18.1 MB/s\u001b[0m eta \u001b[36m0:00:00\u001b[0m\n",
            "\u001b[?25hDownloading python_docx-1.1.2-py3-none-any.whl (244 kB)\n",
            "\u001b[2K   \u001b[90m━━━━━━━━━━━━━━━━━━━━━━━━━━━━━━━━━━━━━━━━\u001b[0m \u001b[32m244.3/244.3 kB\u001b[0m \u001b[31m18.9 MB/s\u001b[0m eta \u001b[36m0:00:00\u001b[0m\n",
            "\u001b[?25hBuilding wheels for collected packages: fire\n",
            "  Building wheel for fire (setup.py) ... \u001b[?25l\u001b[?25hdone\n",
            "  Created wheel for fire: filename=fire-0.6.0-py2.py3-none-any.whl size=117029 sha256=bc4d97a64ee5b4514a274f9e0355d7fcd9c15e7a4f7577c3b22b1348f4685293\n",
            "  Stored in directory: /root/.cache/pip/wheels/d6/6d/5d/5b73fa0f46d01a793713f8859201361e9e581ced8c75e5c6a3\n",
            "Successfully built fire\n",
            "Installing collected packages: python-docx, fire, paddleocr\n",
            "Successfully installed fire-0.6.0 paddleocr-2.8.1 python-docx-1.1.2\n"
          ]
        }
      ]
    },
    {
      "cell_type": "code",
      "source": [
        "!python /content/PaddleOCR/tools/infer/predict_rec.py --image_dir=\"/content/images/98.png\" --rec_model_dir=\"/content/infer_model/\" --rec_image_shape=\"3, 48, 320\" --rec_char_dict_path=\"/content/fa_dict.txt\"\n"
      ],
      "metadata": {
        "colab": {
          "base_uri": "https://localhost:8080/"
        },
        "id": "Tioq5DU412Yz",
        "outputId": "1c3a2cc8-5e31-4baf-9b0c-7488dc92c6fc"
      },
      "execution_count": 33,
      "outputs": [
        {
          "output_type": "stream",
          "name": "stdout",
          "text": [
            "[2024/08/07 07:58:28] ppocr WARNING: The first GPU is used for inference by default, GPU ID: 0\n",
            "E0807 07:58:28.018537 12385 analysis_config.cc:125] Please use PaddlePaddle with GPU version.\n",
            "[2024/08/07 07:58:28] ppocr INFO: In PP-OCRv3, rec_image_shape parameter defaults to '3, 48, 320', if you are using recognition model with PP-OCRv2 or an older version, please set --rec_image_shape='3,32,320\n",
            "[2024/08/07 07:58:28] ppocr INFO: Predicts of /content/images/98.png:('د', 0.10241842269897461)\n"
          ]
        }
      ]
    },
    {
      "cell_type": "code",
      "source": [
        "from paddleocr import PaddleOCR, draw_ocr\n",
        "import matplotlib.pyplot as plt\n",
        "from PIL import Image\n",
        "\n",
        "# Define the paths to your model directory and the image file\n",
        "model_dir = '/content/infer_model'\n",
        "image_path = '/content/images/10.png'\n",
        "\n",
        "# Initialize the OCR model with the correct model directory\n",
        "ocr = PaddleOCR(\n",
        "    det_model_dir=model_dir,\n",
        "    rec_model_dir=model_dir,\n",
        "    cls_model_dir=model_dir,\n",
        "    use_angle_cls=True,\n",
        "    lang='fa',\n",
        "    use_gpu=False  # Set to True if you have GPU support in your Colab environment\n",
        ")\n",
        "\n",
        "# Run the OCR on the specified image\n",
        "result = ocr.ocr(image_path, cls=True)\n",
        "\n",
        "# Extract and print the recognized text\n",
        "for line in result:\n",
        "    for word_info in line:\n",
        "        print(word_info[1][0])\n",
        "\n",
        "# Optional: Visualize the results\n",
        "image = Image.open(image_path).convert('RGB')\n",
        "boxes = [line[0] for line in result]\n",
        "txts = [line[1][0] for line in result]\n",
        "scores = [line[1][1] for line in result]\n",
        "im_show = draw_ocr(image, boxes, txts, scores)\n",
        "im_show = Image.fromarray(im_show)\n",
        "\n",
        "# Display the image with recognized text\n",
        "plt.figure(figsize=(10, 10))\n",
        "plt.imshow(im_show)\n",
        "plt.axis('off')\n",
        "plt.show()\n"
      ],
      "metadata": {
        "colab": {
          "base_uri": "https://localhost:8080/"
        },
        "id": "7LS9NhctqblH",
        "outputId": "66c14ed4-973e-404d-9639-dcdb840dab21"
      },
      "execution_count": null,
      "outputs": [
        {
          "output_type": "stream",
          "name": "stdout",
          "text": [
            "[2024/08/05 09:12:33] ppocr DEBUG: Namespace(help='==SUPPRESS==', use_gpu=False, use_xpu=False, use_npu=False, use_mlu=False, ir_optim=True, use_tensorrt=False, min_subgraph_size=15, precision='fp32', gpu_mem=500, gpu_id=0, image_dir=None, page_num=0, det_algorithm='DB', det_model_dir='/content/infer_model', det_limit_side_len=960, det_limit_type='max', det_box_type='quad', det_db_thresh=0.3, det_db_box_thresh=0.6, det_db_unclip_ratio=1.5, max_batch_size=10, use_dilation=False, det_db_score_mode='fast', det_east_score_thresh=0.8, det_east_cover_thresh=0.1, det_east_nms_thresh=0.2, det_sast_score_thresh=0.5, det_sast_nms_thresh=0.2, det_pse_thresh=0, det_pse_box_thresh=0.85, det_pse_min_area=16, det_pse_scale=1, scales=[8, 16, 32], alpha=1.0, beta=1.0, fourier_degree=5, rec_algorithm='SVTR_LCNet', rec_model_dir='/content/infer_model', rec_image_inverse=True, rec_image_shape='3, 48, 320', rec_batch_num=6, max_text_length=25, rec_char_dict_path='/usr/local/lib/python3.10/dist-packages/paddleocr/ppocr/utils/dict/arabic_dict.txt', use_space_char=True, vis_font_path='./doc/fonts/simfang.ttf', drop_score=0.5, e2e_algorithm='PGNet', e2e_model_dir=None, e2e_limit_side_len=768, e2e_limit_type='max', e2e_pgnet_score_thresh=0.5, e2e_char_dict_path='./ppocr/utils/ic15_dict.txt', e2e_pgnet_valid_set='totaltext', e2e_pgnet_mode='fast', use_angle_cls=True, cls_model_dir='/content/infer_model', cls_image_shape='3, 48, 192', label_list=['0', '180'], cls_batch_num=6, cls_thresh=0.9, enable_mkldnn=False, cpu_threads=10, use_pdserving=False, warmup=False, sr_model_dir=None, sr_image_shape='3, 32, 128', sr_batch_num=1, draw_img_save_dir='./inference_results', save_crop_res=False, crop_res_save_dir='./output', use_mp=False, total_process_num=1, process_id=0, benchmark=False, save_log_path='./log_output/', show_log=True, use_onnx=False, return_word_box=False, output='./output', table_max_len=488, table_algorithm='TableAttn', table_model_dir=None, merge_no_span_structure=True, table_char_dict_path=None, layout_model_dir=None, layout_dict_path=None, layout_score_threshold=0.5, layout_nms_threshold=0.5, kie_algorithm='LayoutXLM', ser_model_dir=None, re_model_dir=None, use_visual_backbone=True, ser_dict_path='../train_data/XFUND/class_list_xfun.txt', ocr_order_method=None, mode='structure', image_orientation=False, layout=True, table=True, ocr=True, recovery=False, use_pdf2docx_api=False, invert=False, binarize=False, alphacolor=(255, 255, 255), lang='fa', det=True, rec=True, type='ocr', savefile=False, ocr_version='PP-OCRv4', structure_version='PP-StructureV2')\n"
          ]
        }
      ]
    },
    {
      "cell_type": "markdown",
      "source": [
        "## 👉 because built-in geb.label.py code remove space between persian words this part has written :\n",
        "## optional part for converting csv file to txt (don't run🙏)"
      ],
      "metadata": {
        "id": "VIq26r4Ek8Nq"
      }
    },
    {
      "cell_type": "code",
      "source": [
        "import pandas as pd\n",
        "\n",
        "def csv_to_txt_with_spacing(csv_file_path, val_txt_file_path, train_txt_file_path, val_ratio=0.15):\n",
        "    # Read the CSV file into a pandas DataFrame, skipping the first row (header)\n",
        "    df = pd.read_csv(csv_file_path, skiprows=1, header=None)\n",
        "\n",
        "    # Calculate the split index\n",
        "    total_lines = len(df)\n",
        "    val_index = int(total_lines * val_ratio)\n",
        "\n",
        "    # Split the DataFrame into validation and training sets\n",
        "    val_df = df.iloc[:val_index]\n",
        "    train_df = df.iloc[val_index:]\n",
        "\n",
        "    # Write the validation set to the txt file\n",
        "    with open(val_txt_file_path, 'w', encoding='utf-8') as val_txtfile:\n",
        "        for _, row in val_df.iterrows():\n",
        "            file_path = row[0].strip()\n",
        "            description = row[1].strip() if len(row) > 1 else \"\"\n",
        "            val_txtfile.write(f\"{file_path}\\t{description}\\n\")\n",
        "\n",
        "    # Write the training set to the txt file\n",
        "    with open(train_txt_file_path, 'w', encoding='utf-8') as train_txtfile:\n",
        "        for _, row in train_df.iterrows():\n",
        "            file_path = row[0].strip()\n",
        "            description = row[1].strip() if len(row) > 1 else \"\"\n",
        "            train_txtfile.write(f\"{file_path}\\t{description}\\n\")\n",
        "\n",
        "# Usage\n",
        "csv_file_path = '/content/ocr-image_to_txt.csv'\n",
        "val_txt_file_path = '/content/data/val/output_label.txt'\n",
        "train_txt_file_path = '/content/data/train/output_label.txt'\n",
        "csv_to_txt_with_spacing(csv_file_path, val_txt_file_path, train_txt_file_path)\n"
      ],
      "metadata": {
        "id": "l0dNcxQnk7DC"
      },
      "execution_count": null,
      "outputs": []
    }
  ]
}