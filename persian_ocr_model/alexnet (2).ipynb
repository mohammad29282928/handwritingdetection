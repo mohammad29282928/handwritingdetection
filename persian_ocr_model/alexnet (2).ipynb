{
  "metadata": {
    "accelerator": "GPU",
    "colab": {
      "gpuType": "T4",
      "provenance": []
    },
    "kaggle": {
      "accelerator": "gpu",
      "dataSources": [],
      "dockerImageVersionId": 30648,
      "isInternetEnabled": true,
      "language": "python",
      "sourceType": "notebook",
      "isGpuEnabled": true
    },
    "kernelspec": {
      "name": "python3",
      "display_name": "Python 3",
      "language": "python"
    },
    "language_info": {
      "name": "python",
      "version": "3.10.13",
      "mimetype": "text/x-python",
      "codemirror_mode": {
        "name": "ipython",
        "version": 3
      },
      "pygments_lexer": "ipython3",
      "nbconvert_exporter": "python",
      "file_extension": ".py"
    }
  },
  "nbformat_minor": 0,
  "nbformat": 4,
  "cells": [
    {
      "cell_type": "code",
      "source": [
        "import pandas as pd\n",
        "import numpy as np\n",
        "import matplotlib.pyplot as plt\n",
        "import cv2 as cv2\n",
        "import tensorflow as tf\n",
        "import os\n",
        "from sklearn.model_selection import train_test_split\n",
        "from tensorflow.keras.models import Sequential\n",
        "from tensorflow.keras.layers import Conv2D, MaxPooling2D, Bidirectional, LSTM, Dense, Dropout, Flatten, Embedding,Reshape,TimeDistributed\n",
        "from tensorflow.keras.preprocessing.text import Tokenizer\n",
        "from tensorflow.keras.preprocessing.sequence import pad_sequences\n",
        "from tensorflow.keras.preprocessing.image import img_to_array\n",
        "from tensorflow.keras.callbacks import EarlyStopping\n",
        "from tensorflow.keras.utils import to_categorical\n",
        "from tensorflow.keras.preprocessing.image import ImageDataGenerator\n",
        "from tensorflow.keras import layers, models\n",
        "from keras.utils import to_categorical\n",
        "from keras import layers\n",
        "import warnings\n",
        "\n",
        "warnings.filterwarnings('ignore')"
      ],
      "metadata": {
        "id": "mnnCcu2bAAeU",
        "execution": {
          "iopub.status.busy": "2024-02-14T08:50:26.466144Z",
          "iopub.execute_input": "2024-02-14T08:50:26.466441Z",
          "iopub.status.idle": "2024-02-14T08:50:40.775924Z",
          "shell.execute_reply.started": "2024-02-14T08:50:26.466416Z",
          "shell.execute_reply": "2024-02-14T08:50:40.775053Z"
        },
        "trusted": true
      },
      "execution_count": 2,
      "outputs": []
    },
    {
      "cell_type": "code",
      "source": [
        "! conda install -y gdown"
      ],
      "metadata": {
        "execution": {
          "iopub.status.busy": "2024-02-14T08:51:05.766492Z",
          "iopub.execute_input": "2024-02-14T08:51:05.766912Z",
          "iopub.status.idle": "2024-02-14T08:57:36.836999Z",
          "shell.execute_reply.started": "2024-02-14T08:51:05.766886Z",
          "shell.execute_reply": "2024-02-14T08:57:36.835266Z"
        },
        "trusted": true,
        "id": "hF3a5q0JwtPr",
        "outputId": "58cfbf90-ff2d-410b-89ce-f586b7339ac0"
      },
      "execution_count": null,
      "outputs": [
        {
          "name": "stdout",
          "text": "Retrieving notices: ...working... done\nCollecting package metadata (current_repodata.json): | WARNING conda.models.version:get_matcher(556): Using .* with relational operator is superfluous and deprecated and will be removed in a future version of conda. Your spec was 1.7.1.*, but conda is ignoring the .* and treating it as 1.7.1\ndone\nSolving environment: done\n\n\n==> WARNING: A newer version of conda exists. <==\n  current version: 23.7.4\n  latest version: 24.1.1\n\nPlease update conda by running\n\n    $ conda update -n base -c conda-forge conda\n\nOr to minimize the number of packages updated during conda update use\n\n     conda install conda=24.1.1\n\n\n\n## Package Plan ##\n\n  environment location: /opt/conda\n\n  added / updated specs:\n    - gdown\n\n\nThe following packages will be downloaded:\n\n    package                    |            build\n    ---------------------------|-----------------\n    ca-certificates-2024.2.2   |       hbcca054_0         152 KB  conda-forge\n    certifi-2024.2.2           |     pyhd8ed1ab_0         157 KB  conda-forge\n    filelock-3.13.1            |     pyhd8ed1ab_0          15 KB  conda-forge\n    gdown-5.1.0                |     pyhd8ed1ab_0          21 KB  conda-forge\n    openssl-3.2.1              |       hd590300_0         2.7 MB  conda-forge\n    scipy-1.12.0               |  py310hb13e2d6_2        15.7 MB  conda-forge\n    ------------------------------------------------------------\n                                           Total:        18.8 MB\n\nThe following NEW packages will be INSTALLED:\n\n  filelock           conda-forge/noarch::filelock-3.13.1-pyhd8ed1ab_0 \n  gdown              conda-forge/noarch::gdown-5.1.0-pyhd8ed1ab_0 \n\nThe following packages will be UPDATED:\n\n  ca-certificates                     2023.11.17-hbcca054_0 --> 2024.2.2-hbcca054_0 \n  certifi                           2023.11.17-pyhd8ed1ab_0 --> 2024.2.2-pyhd8ed1ab_0 \n  openssl                                  3.2.0-hd590300_1 --> 3.2.1-hd590300_0 \n  scipy                              1.12.0-py310hb13e2d6_1 --> 1.12.0-py310hb13e2d6_2 \n\n\n\nDownloading and Extracting Packages\nopenssl-3.2.1        | 2.7 MB    |                                       |   0% \nca-certificates-2024 | 152 KB    |                                       |   0% \u001b[A\n\nscipy-1.12.0         | 15.7 MB   |                                       |   0% \u001b[A\u001b[A\n\n\nfilelock-3.13.1      | 15 KB     |                                       |   0% \u001b[A\u001b[A\u001b[A\n\n\n\ngdown-5.1.0          | 21 KB     |                                       |   0% \u001b[A\u001b[A\u001b[A\u001b[A\n\n\n\n\nopenssl-3.2.1        | 2.7 MB    | 2                                     |   1% \u001b[A\u001b[A\u001b[A\u001b[A\u001b[A\nca-certificates-2024 | 152 KB    | ###9                                  |  11% \u001b[A\n\nscipy-1.12.0         | 15.7 MB   |                                       |   0% \u001b[A\u001b[A\n\n\n\n\ncertifi-2024.2.2     | 157 KB    | ###7                                  |  10% \u001b[A\u001b[A\u001b[A\u001b[A\u001b[A\n\n\nfilelock-3.13.1      | 15 KB     | ##################################### | 100% \u001b[A\u001b[A\u001b[A\n\n\nfilelock-3.13.1      | 15 KB     | ##################################### | 100% \u001b[A\u001b[A\u001b[A\n\n\n\ngdown-5.1.0          | 21 KB     | ##################################### | 100% \u001b[A\u001b[A\u001b[A\u001b[A\n\n\n\ngdown-5.1.0          | 21 KB     | ##################################### | 100% \u001b[A\u001b[A\u001b[A\u001b[A\nopenssl-3.2.1        | 2.7 MB    | ######################4               |  61% \u001b[A\n\n\n\n\ncertifi-2024.2.2     | 157 KB    | ##################################### | 100% \u001b[A\u001b[A\u001b[A\u001b[A\u001b[A\n\nscipy-1.12.0         | 15.7 MB   | ##9                                   |   8% \u001b[A\u001b[A\n\nopenssl-3.2.1        | 2.7 MB    | ##################################### | 100% \u001b[A\u001b[A\n\nscipy-1.12.0         | 15.7 MB   | ################################9     |  89% \u001b[A\u001b[A\n\n                                                                                \u001b[A\u001b[A\n                                                                                \u001b[A\n\n                                                                                \u001b[A\u001b[A\n\n\n                                                                                \u001b[A\u001b[A\u001b[A\n\n\n\n                                                                                \u001b[A\u001b[A\u001b[A\u001b[A\n\n\n\n\n                                                                                \u001b[A\u001b[A\u001b[A\u001b[A\u001b[A\nPreparing transaction: done\nVerifying transaction: done\nExecuting transaction: done\n",
          "output_type": "stream"
        }
      ]
    },
    {
      "cell_type": "code",
      "source": [
        "!gdown --id 1FD6lxf3yUFovc5b1vJVjER20wHY40FBH"
      ],
      "metadata": {
        "execution": {
          "iopub.status.busy": "2024-02-14T08:57:51.428475Z",
          "iopub.execute_input": "2024-02-14T08:57:51.429299Z",
          "iopub.status.idle": "2024-02-14T08:57:55.193470Z",
          "shell.execute_reply.started": "2024-02-14T08:57:51.429255Z",
          "shell.execute_reply": "2024-02-14T08:57:55.192373Z"
        },
        "trusted": true,
        "colab": {
          "base_uri": "https://localhost:8080/"
        },
        "id": "I-pwUUjQwtPs",
        "outputId": "baa9c9ef-f9f3-454e-b856-b4038398e838"
      },
      "execution_count": 3,
      "outputs": [
        {
          "output_type": "stream",
          "name": "stdout",
          "text": [
            "/usr/local/lib/python3.10/dist-packages/gdown/__main__.py:132: FutureWarning: Option `--id` was deprecated in version 4.3.1 and will be removed in 5.0. You don't need to pass it anymore to use a file ID.\n",
            "  warnings.warn(\n",
            "Downloading...\n",
            "From: https://drive.google.com/uc?id=1FD6lxf3yUFovc5b1vJVjER20wHY40FBH\n",
            "To: /content/integrate_2.csv\n",
            "100% 11.4M/11.4M [00:00<00:00, 22.6MB/s]\n"
          ]
        }
      ]
    },
    {
      "cell_type": "code",
      "source": [
        "df=pd.read_csv('integrate_2.csv')\n",
        "label=df['Label']"
      ],
      "metadata": {
        "id": "s0LyeuacAAeX",
        "execution": {
          "iopub.status.busy": "2024-02-14T08:58:43.968834Z",
          "iopub.execute_input": "2024-02-14T08:58:43.969205Z",
          "iopub.status.idle": "2024-02-14T08:58:44.308776Z",
          "shell.execute_reply.started": "2024-02-14T08:58:43.969176Z",
          "shell.execute_reply": "2024-02-14T08:58:44.307775Z"
        },
        "trusted": true
      },
      "execution_count": 4,
      "outputs": []
    },
    {
      "cell_type": "code",
      "source": [
        "df.shape"
      ],
      "metadata": {
        "colab": {
          "base_uri": "https://localhost:8080/"
        },
        "id": "hFCeb-TjBgMp",
        "outputId": "c458096b-49db-49a3-a69a-13da4069e59f",
        "execution": {
          "iopub.status.busy": "2024-02-14T08:58:51.861793Z",
          "iopub.execute_input": "2024-02-14T08:58:51.862530Z",
          "iopub.status.idle": "2024-02-14T08:58:51.869657Z",
          "shell.execute_reply.started": "2024-02-14T08:58:51.862488Z",
          "shell.execute_reply": "2024-02-14T08:58:51.868627Z"
        },
        "trusted": true
      },
      "execution_count": 4,
      "outputs": [
        {
          "output_type": "execute_result",
          "data": {
            "text/plain": [
              "(998431, 2)"
            ]
          },
          "metadata": {},
          "execution_count": 4
        }
      ]
    },
    {
      "cell_type": "code",
      "source": [
        "!gdown --id 1rJoqICofnT9vI3a1-M0Jp0ivkMTahaTy"
      ],
      "metadata": {
        "execution": {
          "iopub.status.busy": "2024-02-14T08:59:30.442217Z",
          "iopub.execute_input": "2024-02-14T08:59:30.442597Z",
          "iopub.status.idle": "2024-02-14T08:59:33.888342Z",
          "shell.execute_reply.started": "2024-02-14T08:59:30.442569Z",
          "shell.execute_reply": "2024-02-14T08:59:33.887363Z"
        },
        "trusted": true,
        "colab": {
          "base_uri": "https://localhost:8080/"
        },
        "id": "suAWJBfPwtPs",
        "outputId": "6e5f1877-cb2d-4492-b5b4-f946661a5cdd"
      },
      "execution_count": 5,
      "outputs": [
        {
          "output_type": "stream",
          "name": "stdout",
          "text": [
            "/usr/local/lib/python3.10/dist-packages/gdown/__main__.py:132: FutureWarning: Option `--id` was deprecated in version 4.3.1 and will be removed in 5.0. You don't need to pass it anymore to use a file ID.\n",
            "  warnings.warn(\n",
            "Downloading...\n",
            "From (original): https://drive.google.com/uc?id=1rJoqICofnT9vI3a1-M0Jp0ivkMTahaTy\n",
            "From (redirected): https://drive.google.com/uc?id=1rJoqICofnT9vI3a1-M0Jp0ivkMTahaTy&confirm=t&uuid=87e5a9cd-fc77-495a-967e-abf008db3cc7\n",
            "To: /content/New folder.zip\n",
            "100% 255M/255M [00:09<00:00, 26.8MB/s]\n"
          ]
        }
      ]
    },
    {
      "cell_type": "code",
      "source": [
        "import zipfile\n",
        "import io\n",
        "\n",
        "\n",
        "with zipfile.ZipFile('New folder.zip', 'r') as zip_ref:\n",
        "    zip_ref.extractall()"
      ],
      "metadata": {
        "id": "z4DUbRTKAAeX",
        "execution": {
          "iopub.status.busy": "2024-02-14T08:59:58.426335Z",
          "iopub.execute_input": "2024-02-14T08:59:58.427243Z",
          "iopub.status.idle": "2024-02-14T09:02:04.632261Z",
          "shell.execute_reply.started": "2024-02-14T08:59:58.427208Z",
          "shell.execute_reply": "2024-02-14T09:02:04.631243Z"
        },
        "trusted": true
      },
      "execution_count": 6,
      "outputs": []
    },
    {
      "cell_type": "code",
      "source": [
        "images = []\n",
        "\n",
        "for i in range(570749):\n",
        "    img_dir = f'New folder/{i}.png'\n",
        "    try:\n",
        "        img = cv2.imread(img_dir, cv2.IMREAD_GRAYSCALE)  # Read image in grayscale\n",
        "\n",
        "        height, original_width = img.shape\n",
        "        if 25 - original_width > 0:\n",
        "            add_width = (25 - original_width) / 2\n",
        "            left_columns = int(add_width)\n",
        "            right_columns = int(add_width)\n",
        "            new_width = 25\n",
        "            new_img = np.zeros((height, new_width), dtype=np.uint8)\n",
        "            new_img[:, left_columns:left_columns + original_width] = img\n",
        "            new_img = cv2.resize(new_img, (new_width, 30))\n",
        "        else:\n",
        "            new_img = cv2.resize(img, (25, 30))\n",
        "\n",
        "        _, binary_image = cv2.threshold(new_img, 128, 255, cv2.THRESH_BINARY)\n",
        "        images.append(binary_image)\n",
        "    except Exception as e:\n",
        "        print(f\"Error processing image {i}.png:\", str(e))"
      ],
      "metadata": {
        "id": "qEtjXq84LUkI",
        "execution": {
          "iopub.status.busy": "2024-02-14T09:06:42.226422Z",
          "iopub.execute_input": "2024-02-14T09:06:42.227121Z",
          "iopub.status.idle": "2024-02-14T09:07:11.786530Z",
          "shell.execute_reply.started": "2024-02-14T09:06:42.227093Z",
          "shell.execute_reply": "2024-02-14T09:07:11.785711Z"
        },
        "trusted": true
      },
      "execution_count": 7,
      "outputs": []
    },
    {
      "cell_type": "code",
      "source": [
        "len(images)"
      ],
      "metadata": {
        "colab": {
          "base_uri": "https://localhost:8080/"
        },
        "id": "1ubPXaxXAAeY",
        "outputId": "52f6413f-16e2-4f89-ccad-006996817e88",
        "execution": {
          "iopub.status.busy": "2024-02-14T09:07:24.878284Z",
          "iopub.execute_input": "2024-02-14T09:07:24.879065Z",
          "iopub.status.idle": "2024-02-14T09:07:24.885418Z",
          "shell.execute_reply.started": "2024-02-14T09:07:24.879035Z",
          "shell.execute_reply": "2024-02-14T09:07:24.884417Z"
        },
        "trusted": true
      },
      "execution_count": 8,
      "outputs": [
        {
          "output_type": "execute_result",
          "data": {
            "text/plain": [
              "570749"
            ]
          },
          "metadata": {},
          "execution_count": 8
        }
      ]
    },
    {
      "cell_type": "code",
      "source": [
        "len(df)"
      ],
      "metadata": {
        "colab": {
          "base_uri": "https://localhost:8080/"
        },
        "id": "UKhcUbp-lU49",
        "outputId": "76120b63-308b-443d-fd5c-8eed25c7411f"
      },
      "execution_count": 9,
      "outputs": [
        {
          "output_type": "execute_result",
          "data": {
            "text/plain": [
              "998431"
            ]
          },
          "metadata": {},
          "execution_count": 9
        }
      ]
    },
    {
      "cell_type": "code",
      "source": [
        "len(label)"
      ],
      "metadata": {
        "colab": {
          "base_uri": "https://localhost:8080/"
        },
        "id": "83QZHignlqwl",
        "outputId": "a0e752b8-d76f-4ed0-e2f0-81f06e04dbaf"
      },
      "execution_count": 10,
      "outputs": [
        {
          "output_type": "execute_result",
          "data": {
            "text/plain": [
              "998431"
            ]
          },
          "metadata": {},
          "execution_count": 10
        }
      ]
    },
    {
      "cell_type": "code",
      "source": [
        "i=570748\n",
        "plt.imshow(cv2.cvtColor(images[i], cv2.COLOR_BGR2RGB))\n",
        "plt.axis('off')\n",
        "plt.show()\n",
        "print(label[i])"
      ],
      "metadata": {
        "colab": {
          "base_uri": "https://localhost:8080/",
          "height": 423
        },
        "id": "yWzJjleDAAeY",
        "outputId": "24d199e4-20ad-4755-dffc-e186b6882b62",
        "execution": {
          "iopub.status.busy": "2024-02-14T09:07:30.401688Z",
          "iopub.execute_input": "2024-02-14T09:07:30.402038Z",
          "iopub.status.idle": "2024-02-14T09:07:30.501671Z",
          "shell.execute_reply.started": "2024-02-14T09:07:30.402010Z",
          "shell.execute_reply": "2024-02-14T09:07:30.500795Z"
        },
        "trusted": true
      },
      "execution_count": 8,
      "outputs": [
        {
          "output_type": "display_data",
          "data": {
            "text/plain": [
              "<Figure size 640x480 with 1 Axes>"
            ],
            "image/png": "[encoded data removed]"
          },
          "metadata": {}
        },
        {
          "output_type": "stream",
          "name": "stdout",
          "text": [
            "ر\n"
          ]
        }
      ]
    },
    {
      "cell_type": "code",
      "source": [
        "images = images[:570749]\n",
        "label = label[:570749]"
      ],
      "metadata": {
        "id": "JmcpXPZltKfN",
        "execution": {
          "iopub.status.busy": "2024-02-14T09:07:34.075726Z",
          "iopub.execute_input": "2024-02-14T09:07:34.076612Z",
          "iopub.status.idle": "2024-02-14T09:07:34.094337Z",
          "shell.execute_reply.started": "2024-02-14T09:07:34.076576Z",
          "shell.execute_reply": "2024-02-14T09:07:34.093441Z"
        },
        "trusted": true
      },
      "execution_count": 9,
      "outputs": []
    },
    {
      "cell_type": "code",
      "source": [
        "len(label)"
      ],
      "metadata": {
        "colab": {
          "base_uri": "https://localhost:8080/"
        },
        "id": "tgriTA1ftOkj",
        "outputId": "a98e7586-7265-474a-9cb0-c9ac04aaee3c",
        "execution": {
          "iopub.status.busy": "2024-02-14T09:07:35.168058Z",
          "iopub.execute_input": "2024-02-14T09:07:35.168429Z",
          "iopub.status.idle": "2024-02-14T09:07:35.174457Z",
          "shell.execute_reply.started": "2024-02-14T09:07:35.168401Z",
          "shell.execute_reply": "2024-02-14T09:07:35.173556Z"
        },
        "trusted": true
      },
      "execution_count": 10,
      "outputs": [
        {
          "output_type": "execute_result",
          "data": {
            "text/plain": [
              "570749"
            ]
          },
          "metadata": {},
          "execution_count": 10
        }
      ]
    },
    {
      "cell_type": "code",
      "source": [
        "label_map = {}\n",
        "current_label = 0\n",
        "numeric_labels = []\n",
        "\n",
        "for char in label:\n",
        "    if char not in label_map:\n",
        "        # If not, assign a new label\n",
        "        label_map[char] = current_label\n",
        "        current_label += 1\n",
        "    numeric_labels.append(label_map[char])"
      ],
      "metadata": {
        "id": "EWhxQUEittM4",
        "execution": {
          "iopub.status.busy": "2024-02-14T09:07:39.510205Z",
          "iopub.execute_input": "2024-02-14T09:07:39.510833Z",
          "iopub.status.idle": "2024-02-14T09:07:39.746854Z",
          "shell.execute_reply.started": "2024-02-14T09:07:39.510801Z",
          "shell.execute_reply": "2024-02-14T09:07:39.745879Z"
        },
        "trusted": true
      },
      "execution_count": 11,
      "outputs": []
    },
    {
      "cell_type": "code",
      "source": [
        "label_map"
      ],
      "metadata": {
        "colab": {
          "base_uri": "https://localhost:8080/"
        },
        "id": "nwPyp5FUAAeZ",
        "outputId": "32656593-59b5-4cfe-bbcb-2d3fa0b85934",
        "execution": {
          "iopub.status.busy": "2024-02-14T09:07:40.981660Z",
          "iopub.execute_input": "2024-02-14T09:07:40.982030Z",
          "iopub.status.idle": "2024-02-14T09:07:40.990419Z",
          "shell.execute_reply.started": "2024-02-14T09:07:40.982001Z",
          "shell.execute_reply": "2024-02-14T09:07:40.989490Z"
        },
        "trusted": true
      },
      "execution_count": 12,
      "outputs": [
        {
          "output_type": "execute_result",
          "data": {
            "text/plain": [
              "{'ر': 0,\n",
              " 'ا': 1,\n",
              " 'ﯾ': 2,\n",
              " 'ﻧ': 3,\n",
              " 'ﻪ': 4,\n",
              " 'ﻗ': 5,\n",
              " 'ﭘ': 6,\n",
              " 'ن': 7,\n",
              " 'د': 8,\n",
              " 'ﺗ': 9,\n",
              " 'پ': 10,\n",
              " 'ز': 11,\n",
              " 'ﻫ': 12,\n",
              " 'ل': 13,\n",
              " 'ﺳ': 14,\n",
              " 'و': 15,\n",
              " 'م': 16,\n",
              " 'ﺣ': 17,\n",
              " 'ﻣ': 18,\n",
              " 'ط': 19,\n",
              " 'آ': 20,\n",
              " 'ﭼ': 21,\n",
              " 'ﻓ': 22,\n",
              " 'ه': 23,\n",
              " 'ﺑ': 24,\n",
              " 'ی': 25,\n",
              " 'ﮐ': 26,\n",
              " 'ﻟ': 27,\n",
              " 'ژ': 28,\n",
              " 'ﺟ': 29,\n",
              " 'ﺧ': 30,\n",
              " 'ﻻ': 31,\n",
              " 'ﺻ': 32,\n",
              " 'ص': 33,\n",
              " 'ﺷ': 34,\n",
              " 'ت': 35,\n",
              " 'ﮔ': 36,\n",
              " 'ف': 37,\n",
              " 'ک': 38,\n",
              " 'ع': 39,\n",
              " 'ﻌ': 40,\n",
              " 'ﻬ': 41,\n",
              " 'ذ': 42,\n",
              " 'ح': 43,\n",
              " 'س': 44,\n",
              " 'گ': 45,\n",
              " 'خ': 46,\n",
              " 'ش': 47,\n",
              " 'ﺿ': 48,\n",
              " 'ﻋ': 49,\n",
              " 'ب': 50,\n",
              " 'ظ': 51,\n",
              " 'ﻏ': 52,\n",
              " 'ض': 53,\n",
              " 'ق': 54,\n",
              " 'ج': 55,\n",
              " 'چ': 56,\n",
              " 'ﺋ': 57,\n",
              " 'غ': 58,\n",
              " 'ث': 59,\n",
              " 'ﺛ': 60,\n",
              " 'ﻐ': 61,\n",
              " 'ﻳ': 62,\n",
              " '7': 63,\n",
              " '3': 64,\n",
              " '2': 65,\n",
              " '9': 66,\n",
              " '8': 67,\n",
              " '6': 68,\n",
              " '5': 69,\n",
              " '4': 70,\n",
              " '1': 71,\n",
              " '0': 72}"
            ]
          },
          "metadata": {},
          "execution_count": 12
        }
      ]
    },
    {
      "cell_type": "code",
      "source": [
        "len(label_map)"
      ],
      "metadata": {
        "colab": {
          "base_uri": "https://localhost:8080/"
        },
        "id": "_TAgGdvrN1Nx",
        "outputId": "dacdfdf7-01dd-4440-c9a6-1461837573bb",
        "execution": {
          "iopub.status.busy": "2024-02-14T09:07:47.322374Z",
          "iopub.execute_input": "2024-02-14T09:07:47.322748Z",
          "iopub.status.idle": "2024-02-14T09:07:47.328572Z",
          "shell.execute_reply.started": "2024-02-14T09:07:47.322719Z",
          "shell.execute_reply": "2024-02-14T09:07:47.327672Z"
        },
        "trusted": true
      },
      "execution_count": 16,
      "outputs": [
        {
          "output_type": "execute_result",
          "data": {
            "text/plain": [
              "73"
            ]
          },
          "metadata": {},
          "execution_count": 16
        }
      ]
    },
    {
      "cell_type": "code",
      "source": [
        "print(label[1523])\n",
        "print(numeric_labels[1523])"
      ],
      "metadata": {
        "colab": {
          "base_uri": "https://localhost:8080/"
        },
        "id": "9vsUlqKOAAea",
        "outputId": "72286e51-1a4b-404c-c7da-4a645987fd09",
        "execution": {
          "iopub.status.busy": "2024-02-14T09:07:48.127994Z",
          "iopub.execute_input": "2024-02-14T09:07:48.128356Z",
          "iopub.status.idle": "2024-02-14T09:07:48.133658Z",
          "shell.execute_reply.started": "2024-02-14T09:07:48.128327Z",
          "shell.execute_reply": "2024-02-14T09:07:48.132649Z"
        },
        "trusted": true
      },
      "execution_count": 17,
      "outputs": [
        {
          "output_type": "stream",
          "name": "stdout",
          "text": [
            "د\n",
            "8\n"
          ]
        }
      ]
    },
    {
      "cell_type": "code",
      "source": [
        "one_hot_labels = to_categorical(numeric_labels)\n",
        "print(\"Shape of One-Hot Encoded Labels:\", one_hot_labels.shape)"
      ],
      "metadata": {
        "colab": {
          "base_uri": "https://localhost:8080/"
        },
        "id": "ps9sazcVAAeb",
        "outputId": "6c2f756f-9ba4-4a48-a442-d7986814419c",
        "execution": {
          "iopub.status.busy": "2024-02-14T09:07:50.684617Z",
          "iopub.execute_input": "2024-02-14T09:07:50.685274Z",
          "iopub.status.idle": "2024-02-14T09:07:50.836853Z",
          "shell.execute_reply.started": "2024-02-14T09:07:50.685245Z",
          "shell.execute_reply": "2024-02-14T09:07:50.835912Z"
        },
        "trusted": true
      },
      "execution_count": 13,
      "outputs": [
        {
          "output_type": "stream",
          "name": "stdout",
          "text": [
            "Shape of One-Hot Encoded Labels: (570749, 73)\n"
          ]
        }
      ]
    },
    {
      "cell_type": "code",
      "source": [],
      "metadata": {
        "id": "FUD2M0AQwAG8"
      },
      "execution_count": null,
      "outputs": []
    },
    {
      "cell_type": "code",
      "source": [
        "from sklearn.utils import shuffle\n",
        "\n",
        "imgs, OHL = shuffle(images, one_hot_labels, random_state=42)"
      ],
      "metadata": {
        "id": "PnOWyo98AAeb",
        "execution": {
          "iopub.status.busy": "2024-02-14T09:07:53.713188Z",
          "iopub.execute_input": "2024-02-14T09:07:53.713844Z",
          "iopub.status.idle": "2024-02-14T09:07:54.021121Z",
          "shell.execute_reply.started": "2024-02-14T09:07:53.713812Z",
          "shell.execute_reply": "2024-02-14T09:07:54.020032Z"
        },
        "trusted": true
      },
      "execution_count": 14,
      "outputs": []
    },
    {
      "cell_type": "code",
      "source": [
        "del images\n",
        "del one_hot_labels\n"
      ],
      "metadata": {
        "id": "umyNM2CzwAgk",
        "execution": {
          "iopub.status.busy": "2024-02-14T09:07:56.573974Z",
          "iopub.execute_input": "2024-02-14T09:07:56.574322Z",
          "iopub.status.idle": "2024-02-14T09:07:56.593223Z",
          "shell.execute_reply.started": "2024-02-14T09:07:56.574294Z",
          "shell.execute_reply": "2024-02-14T09:07:56.592222Z"
        },
        "trusted": true
      },
      "execution_count": 15,
      "outputs": []
    },
    {
      "cell_type": "code",
      "source": [
        "plt.imshow(imgs[15162])\n",
        "print(np.argmax(OHL[15162]))"
      ],
      "metadata": {
        "colab": {
          "base_uri": "https://localhost:8080/",
          "height": 447
        },
        "id": "JtoJUnvCAAec",
        "outputId": "15f5b1b4-97ed-4091-d9b6-60fb8efb986c",
        "execution": {
          "iopub.status.busy": "2024-02-14T09:07:59.237845Z",
          "iopub.execute_input": "2024-02-14T09:07:59.238536Z",
          "iopub.status.idle": "2024-02-14T09:07:59.453430Z",
          "shell.execute_reply.started": "2024-02-14T09:07:59.238477Z",
          "shell.execute_reply": "2024-02-14T09:07:59.452545Z"
        },
        "trusted": true
      },
      "execution_count": 16,
      "outputs": [
        {
          "output_type": "stream",
          "name": "stdout",
          "text": [
            "50\n"
          ]
        },
        {
          "output_type": "display_data",
          "data": {
            "text/plain": [
              "<Figure size 640x480 with 1 Axes>"
            ],
            "image/png": "[encoded data removed]"
          },
          "metadata": {}
        }
      ]
    },
    {
      "cell_type": "code",
      "source": [
        "len(label.unique())"
      ],
      "metadata": {
        "colab": {
          "base_uri": "https://localhost:8080/"
        },
        "id": "gJ4QuH1Fu3G1",
        "outputId": "367144b5-e900-4941-cb44-866af286aba0"
      },
      "execution_count": 17,
      "outputs": [
        {
          "output_type": "execute_result",
          "data": {
            "text/plain": [
              "73"
            ]
          },
          "metadata": {},
          "execution_count": 17
        }
      ]
    },
    {
      "cell_type": "code",
      "source": [
        "imgs=np.expand_dims(imgs,axis=-1)\n",
        "imgs = np.array(imgs)\n",
        "imgs = imgs / 255.0"
      ],
      "metadata": {
        "id": "4YT37N9NAAec",
        "execution": {
          "iopub.status.busy": "2024-02-14T09:08:08.929930Z",
          "iopub.execute_input": "2024-02-14T09:08:08.930304Z",
          "iopub.status.idle": "2024-02-14T09:08:11.321333Z",
          "shell.execute_reply.started": "2024-02-14T09:08:08.930272Z",
          "shell.execute_reply": "2024-02-14T09:08:11.320522Z"
        },
        "trusted": true
      },
      "execution_count": 18,
      "outputs": []
    },
    {
      "cell_type": "code",
      "source": [
        "X_train, X_test, y_train, y_test = train_test_split(imgs, OHL, test_size=0.2, random_state=42,shuffle=False)"
      ],
      "metadata": {
        "id": "qqWXlwZlAAec",
        "execution": {
          "iopub.status.busy": "2024-02-14T09:08:13.876347Z",
          "iopub.execute_input": "2024-02-14T09:08:13.876956Z",
          "iopub.status.idle": "2024-02-14T09:08:14.926018Z",
          "shell.execute_reply.started": "2024-02-14T09:08:13.876928Z",
          "shell.execute_reply": "2024-02-14T09:08:14.925143Z"
        },
        "trusted": true
      },
      "execution_count": 19,
      "outputs": []
    },
    {
      "cell_type": "code",
      "source": [
        "del imgs\n",
        "del OHL"
      ],
      "metadata": {
        "id": "ggs2d1I0xohT",
        "execution": {
          "iopub.status.busy": "2024-02-14T09:08:17.776237Z",
          "iopub.execute_input": "2024-02-14T09:08:17.776702Z",
          "iopub.status.idle": "2024-02-14T09:08:17.788756Z",
          "shell.execute_reply.started": "2024-02-14T09:08:17.776673Z",
          "shell.execute_reply": "2024-02-14T09:08:17.787662Z"
        },
        "trusted": true
      },
      "execution_count": 20,
      "outputs": []
    },
    {
      "cell_type": "code",
      "source": [
        "def AlexNet(input_shape, num_classes):\n",
        "    model = models.Sequential([\n",
        "        layers.Conv2D(64, (3, 3), strides=(1, 1), activation='relu', input_shape=input_shape),\n",
        "        layers.MaxPooling2D(pool_size=(2, 2), strides=(2, 2)),\n",
        "        layers.Conv2D(192, (3, 3), padding='same', activation='relu'),\n",
        "        layers.MaxPooling2D(pool_size=(2, 2), strides=(2, 2)),\n",
        "        layers.Conv2D(384, (3, 3), padding='same', activation='relu'),\n",
        "        layers.Conv2D(256, (3, 3), padding='same', activation='relu'),\n",
        "        layers.Conv2D(256, (3, 3), padding='same', activation='relu'),\n",
        "        layers.MaxPooling2D(pool_size=(2, 2), strides=(2, 2)),\n",
        "        layers.Flatten(),\n",
        "        layers.Dense(4096, activation='relu'),\n",
        "        layers.Dropout(0.5),\n",
        "        layers.Dense(4096, activation='relu'),\n",
        "        layers.Dropout(0.5),\n",
        "        layers.Dense(num_classes, activation='softmax')\n",
        "    ])\n",
        "    return model"
      ],
      "metadata": {
        "id": "OeuhYO_rbrBz",
        "execution": {
          "iopub.status.busy": "2024-02-14T09:09:48.435027Z",
          "iopub.execute_input": "2024-02-14T09:09:48.435644Z",
          "iopub.status.idle": "2024-02-14T09:09:48.444269Z",
          "shell.execute_reply.started": "2024-02-14T09:09:48.435615Z",
          "shell.execute_reply": "2024-02-14T09:09:48.443288Z"
        },
        "trusted": true
      },
      "execution_count": 21,
      "outputs": []
    },
    {
      "cell_type": "code",
      "source": [
        "input_shape = (30, 25, 1)\n",
        "num_classes = len(label.unique())\n",
        "NN = AlexNet(input_shape, num_classes)"
      ],
      "metadata": {
        "id": "oWYgiJUzcV3P",
        "execution": {
          "iopub.status.busy": "2024-02-14T09:09:51.481839Z",
          "iopub.execute_input": "2024-02-14T09:09:51.482612Z",
          "iopub.status.idle": "2024-02-14T09:09:52.355226Z",
          "shell.execute_reply.started": "2024-02-14T09:09:51.482580Z",
          "shell.execute_reply": "2024-02-14T09:09:52.354421Z"
        },
        "trusted": true
      },
      "execution_count": 22,
      "outputs": []
    },
    {
      "cell_type": "code",
      "source": [
        "NN.compile(optimizer='adam', loss='categorical_crossentropy', metrics=['accuracy'])\n",
        "NN.summary()"
      ],
      "metadata": {
        "colab": {
          "base_uri": "https://localhost:8080/"
        },
        "id": "4ZVk6kFSAAed",
        "outputId": "c3242c27-6985-42c5-8cf0-a58c0993badd",
        "execution": {
          "iopub.status.busy": "2024-02-14T09:09:53.292051Z",
          "iopub.execute_input": "2024-02-14T09:09:53.292881Z",
          "iopub.status.idle": "2024-02-14T09:09:53.344727Z",
          "shell.execute_reply.started": "2024-02-14T09:09:53.292843Z",
          "shell.execute_reply": "2024-02-14T09:09:53.343856Z"
        },
        "trusted": true
      },
      "execution_count": 23,
      "outputs": [
        {
          "output_type": "stream",
          "name": "stdout",
          "text": [
            "Model: \"sequential\"\n",
            "_________________________________________________________________\n",
            " Layer (type)                Output Shape              Param #   \n",
            "=================================================================\n",
            " conv2d (Conv2D)             (None, 28, 23, 64)        640       \n",
            "                                                                 \n",
            " max_pooling2d (MaxPooling2  (None, 14, 11, 64)        0         \n",
            " D)                                                              \n",
            "                                                                 \n",
            " conv2d_1 (Conv2D)           (None, 14, 11, 192)       110784    \n",
            "                                                                 \n",
            " max_pooling2d_1 (MaxPoolin  (None, 7, 5, 192)         0         \n",
            " g2D)                                                            \n",
            "                                                                 \n",
            " conv2d_2 (Conv2D)           (None, 7, 5, 384)         663936    \n",
            "                                                                 \n",
            " conv2d_3 (Conv2D)           (None, 7, 5, 256)         884992    \n",
            "                                                                 \n",
            " conv2d_4 (Conv2D)           (None, 7, 5, 256)         590080    \n",
            "                                                                 \n",
            " max_pooling2d_2 (MaxPoolin  (None, 3, 2, 256)         0         \n",
            " g2D)                                                            \n",
            "                                                                 \n",
            " flatten (Flatten)           (None, 1536)              0         \n",
            "                                                                 \n",
            " dense (Dense)               (None, 4096)              6295552   \n",
            "                                                                 \n",
            " dropout (Dropout)           (None, 4096)              0         \n",
            "                                                                 \n",
            " dense_1 (Dense)             (None, 4096)              16781312  \n",
            "                                                                 \n",
            " dropout_1 (Dropout)         (None, 4096)              0         \n",
            "                                                                 \n",
            " dense_2 (Dense)             (None, 73)                299081    \n",
            "                                                                 \n",
            "=================================================================\n",
            "Total params: 25626377 (97.76 MB)\n",
            "Trainable params: 25626377 (97.76 MB)\n",
            "Non-trainable params: 0 (0.00 Byte)\n",
            "_________________________________________________________________\n"
          ]
        }
      ]
    },
    {
      "cell_type": "code",
      "source": [
        "early_stopping = EarlyStopping(monitor='val_loss', patience=4, restore_best_weights=True)\n",
        "history = NN.fit(X_train, y_train, epochs=15, batch_size=32,\n",
        "                         validation_data=(X_test, y_test), callbacks=[early_stopping])"
      ],
      "metadata": {
        "colab": {
          "base_uri": "https://localhost:8080/"
        },
        "id": "42SIWhPXAAed",
        "outputId": "2a05fd27-0c0a-45f7-e7ff-0d582c1b539b",
        "execution": {
          "iopub.status.busy": "2024-02-14T09:10:09.508995Z",
          "iopub.execute_input": "2024-02-14T09:10:09.509695Z",
          "iopub.status.idle": "2024-02-14T09:29:30.417777Z",
          "shell.execute_reply.started": "2024-02-14T09:10:09.509665Z",
          "shell.execute_reply": "2024-02-14T09:29:30.416898Z"
        },
        "trusted": true
      },
      "execution_count": 24,
      "outputs": [
        {
          "output_type": "stream",
          "name": "stdout",
          "text": [
            "Epoch 1/15\n",
            "14269/14269 [==============================] - 290s 19ms/step - loss: 0.6784 - accuracy: 0.8792 - val_loss: 0.5247 - val_accuracy: 0.9058\n",
            "Epoch 2/15\n",
            "14269/14269 [==============================] - 263s 18ms/step - loss: 0.5655 - accuracy: 0.9036 - val_loss: 0.4979 - val_accuracy: 0.9091\n",
            "Epoch 3/15\n",
            "14269/14269 [==============================] - 268s 19ms/step - loss: 0.5554 - accuracy: 0.9047 - val_loss: 0.6309 - val_accuracy: 0.8735\n",
            "Epoch 4/15\n",
            "14269/14269 [==============================] - 278s 19ms/step - loss: 0.5523 - accuracy: 0.9044 - val_loss: 0.5043 - val_accuracy: 0.9082\n",
            "Epoch 5/15\n",
            "14269/14269 [==============================] - 272s 19ms/step - loss: 0.5570 - accuracy: 0.9029 - val_loss: 0.5024 - val_accuracy: 0.9099\n",
            "Epoch 6/15\n",
            "14269/14269 [==============================] - 266s 19ms/step - loss: 0.6675 - accuracy: 0.8824 - val_loss: 0.5332 - val_accuracy: 0.9016\n"
          ]
        }
      ]
    },
    {
      "cell_type": "markdown",
      "source": [],
      "metadata": {
        "id": "lvaGCLr0E8eR"
      }
    },
    {
      "cell_type": "markdown",
      "source": [],
      "metadata": {
        "id": "0dPyJYEmE8b7"
      }
    },
    {
      "cell_type": "markdown",
      "source": [],
      "metadata": {
        "id": "2X4hedUSE8Zi"
      }
    },
    {
      "cell_type": "markdown",
      "source": [],
      "metadata": {
        "id": "s_VVDFltE8XH"
      }
    },
    {
      "cell_type": "code",
      "source": [
        "training_loss = history.history['loss']\n",
        "validation_loss = history.history['val_loss']\n",
        "training_accuracy = history.history['accuracy']\n",
        "validation_accuracy = history.history['val_accuracy']\n",
        "\n",
        "# Plotting the loss\n",
        "plt.figure(figsize=(12, 6))\n",
        "\n",
        "plt.subplot(1, 2, 1)\n",
        "plt.plot(training_loss, label='Training Loss')\n",
        "plt.plot(validation_loss, label='Validation Loss')\n",
        "plt.title('Training and Validation Loss')\n",
        "plt.xlabel('Epoch')\n",
        "plt.ylabel('Loss')\n",
        "plt.legend()\n",
        "\n",
        "# Plotting the accuracy\n",
        "plt.subplot(1, 2, 2)\n",
        "plt.plot(training_accuracy, label='Training Accuracy')\n",
        "plt.plot(validation_accuracy, label='Validation Accuracy')\n",
        "plt.title('Training and Validation Accuracy')\n",
        "plt.xlabel('Epoch')\n",
        "plt.ylabel('Accuracy')\n",
        "plt.legend()\n",
        "\n",
        "plt.tight_layout()\n",
        "plt.show()"
      ],
      "metadata": {
        "colab": {
          "base_uri": "https://localhost:8080/",
          "height": 569
        },
        "id": "dkL5KhnpAAed",
        "outputId": "17b03425-74c2-40c3-c86e-d253f6437141",
        "execution": {
          "iopub.status.busy": "2024-02-14T09:30:17.940114Z",
          "iopub.execute_input": "2024-02-14T09:30:17.940482Z",
          "iopub.status.idle": "2024-02-14T09:30:18.465785Z",
          "shell.execute_reply.started": "2024-02-14T09:30:17.940454Z",
          "shell.execute_reply": "2024-02-14T09:30:18.464905Z"
        },
        "trusted": true
      },
      "execution_count": 30,
      "outputs": [
        {
          "output_type": "display_data",
          "data": {
            "text/plain": [
              "<Figure size 1200x600 with 2 Axes>"
            ],
            "image/png": "[encoded data removed]"
          },
          "metadata": {}
        }
      ]
    },
    {
      "cell_type": "markdown",
      "source": [
        "****Test The Model****"
      ],
      "metadata": {
        "id": "as2Iw1OmAAed"
      }
    },
    {
      "cell_type": "code",
      "source": [
        "predictions=NN.predict(X_test,32)"
      ],
      "metadata": {
        "colab": {
          "base_uri": "https://localhost:8080/"
        },
        "id": "RzahKweUAAef",
        "outputId": "a89b7222-fe7b-49ee-b7e7-14a0e3402b18",
        "execution": {
          "iopub.status.busy": "2024-02-14T09:32:22.566924Z",
          "iopub.execute_input": "2024-02-14T09:32:22.567390Z",
          "iopub.status.idle": "2024-02-14T09:32:34.092852Z",
          "shell.execute_reply.started": "2024-02-14T09:32:22.567354Z",
          "shell.execute_reply": "2024-02-14T09:32:34.091992Z"
        },
        "trusted": true
      },
      "execution_count": 31,
      "outputs": [
        {
          "output_type": "stream",
          "name": "stdout",
          "text": [
            "3568/3568 [==============================] - 14s 4ms/step\n"
          ]
        }
      ]
    },
    {
      "cell_type": "code",
      "source": [
        "print(np.argmax(predictions[48]))\n",
        "print(np.argmax(y_test[48]))"
      ],
      "metadata": {
        "colab": {
          "base_uri": "https://localhost:8080/"
        },
        "id": "Kh88IU-3AAef",
        "outputId": "5e012063-9019-4285-a57a-16930eeb84a2",
        "execution": {
          "iopub.status.busy": "2024-02-14T09:32:34.094518Z",
          "iopub.execute_input": "2024-02-14T09:32:34.094821Z",
          "iopub.status.idle": "2024-02-14T09:32:34.099916Z",
          "shell.execute_reply.started": "2024-02-14T09:32:34.094796Z",
          "shell.execute_reply": "2024-02-14T09:32:34.099052Z"
        },
        "trusted": true
      },
      "execution_count": 32,
      "outputs": [
        {
          "output_type": "stream",
          "name": "stdout",
          "text": [
            "24\n",
            "24\n"
          ]
        }
      ]
    },
    {
      "cell_type": "code",
      "source": [
        "print(np.argmax(predictions[12]))\n",
        "print(np.argmax(y_test[12]))"
      ],
      "metadata": {
        "colab": {
          "base_uri": "https://localhost:8080/"
        },
        "id": "L6kW1r84AAef",
        "outputId": "17d38e02-7dc4-4f6f-9922-159c8f179e9c",
        "execution": {
          "iopub.status.busy": "2024-02-14T09:32:34.100967Z",
          "iopub.execute_input": "2024-02-14T09:32:34.101224Z",
          "iopub.status.idle": "2024-02-14T09:32:34.111144Z",
          "shell.execute_reply.started": "2024-02-14T09:32:34.101202Z",
          "shell.execute_reply": "2024-02-14T09:32:34.110315Z"
        },
        "trusted": true
      },
      "execution_count": 33,
      "outputs": [
        {
          "output_type": "stream",
          "name": "stdout",
          "text": [
            "40\n",
            "40\n"
          ]
        }
      ]
    },
    {
      "cell_type": "code",
      "source": [
        "NN.evaluate(X_test,y_test)"
      ],
      "metadata": {
        "colab": {
          "base_uri": "https://localhost:8080/"
        },
        "id": "rM6RzQtTAAeg",
        "outputId": "ba8f91a8-a411-4f43-a068-9ec17ca08305",
        "execution": {
          "iopub.status.busy": "2024-02-14T09:33:08.485601Z",
          "iopub.execute_input": "2024-02-14T09:33:08.486434Z",
          "iopub.status.idle": "2024-02-14T09:33:22.373268Z",
          "shell.execute_reply.started": "2024-02-14T09:33:08.486401Z",
          "shell.execute_reply": "2024-02-14T09:33:22.372474Z"
        },
        "trusted": true
      },
      "execution_count": 34,
      "outputs": [
        {
          "output_type": "stream",
          "name": "stdout",
          "text": [
            "3568/3568 [==============================] - 18s 5ms/step - loss: 0.4958 - accuracy: 0.9101\n"
          ]
        },
        {
          "output_type": "execute_result",
          "data": {
            "text/plain": [
              "[0.4958093464374542, 0.9101270437240601]"
            ]
          },
          "metadata": {},
          "execution_count": 34
        }
      ]
    },
    {
      "cell_type": "code",
      "source": [],
      "metadata": {
        "id": "6Y7DuKH_xH9f"
      },
      "execution_count": null,
      "outputs": []
    },
    {
      "cell_type": "code",
      "source": [
        "from google.colab import drive\n",
        "drive.mount('/content/drive')"
      ],
      "metadata": {
        "colab": {
          "base_uri": "https://localhost:8080/"
        },
        "id": "jOgBpUalxI5i",
        "outputId": "fc38f48c-1590-4601-d093-0810fa40872a"
      },
      "execution_count": 1,
      "outputs": [
        {
          "output_type": "stream",
          "name": "stdout",
          "text": [
            "Mounted at /content/drive\n"
          ]
        }
      ]
    },
    {
      "cell_type": "code",
      "source": [
        "# NN.save('ocr-NN',save_format='h5')\n",
        "NN.save('/content/drive/MyDrive/AlexNet.h5')\n"
      ],
      "metadata": {
        "id": "9fT2_Yt3AAeg",
        "execution": {
          "iopub.status.busy": "2024-02-14T09:33:49.551858Z",
          "iopub.execute_input": "2024-02-14T09:33:49.552627Z",
          "iopub.status.idle": "2024-02-14T09:33:50.114055Z",
          "shell.execute_reply.started": "2024-02-14T09:33:49.552592Z",
          "shell.execute_reply": "2024-02-14T09:33:50.113269Z"
        },
        "trusted": true
      },
      "execution_count": 25,
      "outputs": []
    },
    {
      "cell_type": "code",
      "source": [
        "from IPython.display import FileLink\n",
        "FileLink(r'AlexNet.h5')"
      ],
      "metadata": {
        "id": "I475NEcwAAeh",
        "execution": {
          "iopub.status.busy": "2024-02-14T09:37:19.643618Z",
          "iopub.execute_input": "2024-02-14T09:37:19.644381Z",
          "iopub.status.idle": "2024-02-14T09:37:19.650319Z",
          "shell.execute_reply.started": "2024-02-14T09:37:19.644352Z",
          "shell.execute_reply": "2024-02-14T09:37:19.649435Z"
        },
        "trusted": true,
        "outputId": "f8e92f26-f119-465d-8d8b-7b1012ccfe34"
      },
      "execution_count": null,
      "outputs": [
        {
          "execution_count": 36,
          "output_type": "execute_result",
          "data": {
            "text/plain": "/kaggle/working/AlexNet.h5",
            "text/html": "<a href='AlexNet.h5' target='_blank'>AlexNet.h5</a><br>"
          },
          "metadata": {}
        }
      ]
    },
    {
      "cell_type": "code",
      "source": [],
      "metadata": {
        "id": "EL5aAhrCwtP0"
      },
      "execution_count": null,
      "outputs": []
    }
  ]
}