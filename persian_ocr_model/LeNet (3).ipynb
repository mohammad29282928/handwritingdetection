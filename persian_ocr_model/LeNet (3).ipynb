{
  "cells": [
    {
      "cell_type": "code",
      "execution_count": 1,
      "metadata": {
        "id": "mnnCcu2bAAeU"
      },
      "outputs": [],
      "source": [
        "import pandas as pd\n",
        "import numpy as np\n",
        "import matplotlib.pyplot as plt\n",
        "import cv2 as cv2\n",
        "import tensorflow as tf\n",
        "import os\n",
        "from sklearn.model_selection import train_test_split\n",
        "from tensorflow.keras.models import Sequential\n",
        "from tensorflow.keras.layers import Conv2D, MaxPooling2D, Bidirectional, LSTM, Dense, Dropout, Flatten, Embedding,Reshape,TimeDistributed\n",
        "from tensorflow.keras.preprocessing.text import Tokenizer\n",
        "from tensorflow.keras.preprocessing.sequence import pad_sequences\n",
        "from tensorflow.keras.preprocessing.image import img_to_array\n",
        "from tensorflow.keras.callbacks import EarlyStopping\n",
        "from tensorflow.keras.utils import to_categorical\n",
        "from tensorflow.keras.preprocessing.image import ImageDataGenerator\n",
        "from tensorflow.keras import layers, models\n",
        "from keras.utils import to_categorical\n",
        "from keras import layers\n",
        "import warnings\n",
        "\n",
        "warnings.filterwarnings('ignore')"
      ]
    },
    {
      "cell_type": "code",
      "execution_count": 3,
      "metadata": {
        "colab": {
          "base_uri": "https://localhost:8080/"
        },
        "id": "Ag-o6RcmBKF7",
        "outputId": "23740036-04b5-4923-ac99-884edd7aa14c"
      },
      "outputs": [
        {
          "output_type": "stream",
          "name": "stdout",
          "text": [
            "Mounted at /content/drive\n"
          ]
        }
      ],
      "source": [
        "from google.colab import drive\n",
        "drive.mount('/content/drive')"
      ]
    },
    {
      "cell_type": "code",
      "execution_count": 5,
      "metadata": {
        "id": "s0LyeuacAAeX"
      },
      "outputs": [],
      "source": [
        "df=pd.read_csv('/content/drive/MyDrive/labels.csv')\n",
        "label=df['Label']"
      ]
    },
    {
      "cell_type": "code",
      "execution_count": 6,
      "metadata": {
        "colab": {
          "base_uri": "https://localhost:8080/"
        },
        "id": "hFCeb-TjBgMp",
        "outputId": "8e66c0f7-0e11-4a69-dc2d-7bbc6cd1f1eb"
      },
      "outputs": [
        {
          "output_type": "execute_result",
          "data": {
            "text/plain": [
              "(51744, 2)"
            ]
          },
          "metadata": {},
          "execution_count": 6
        }
      ],
      "source": [
        "df.shape"
      ]
    },
    {
      "cell_type": "code",
      "execution_count": 8,
      "metadata": {
        "id": "z4DUbRTKAAeX"
      },
      "outputs": [],
      "source": [
        "import zipfile\n",
        "import io\n",
        "\n",
        "\n",
        "with zipfile.ZipFile('/content/drive/MyDrive/archive (1).zip', 'r') as zip_ref:\n",
        "    zip_ref.extractall()"
      ]
    },
    {
      "cell_type": "code",
      "source": [
        "C:\\Users\\RGS\\Downloads\\archive (1).zip\\data\\data"
      ],
      "metadata": {
        "id": "U7YqjXgvsKya"
      },
      "execution_count": null,
      "outputs": []
    },
    {
      "cell_type": "code",
      "execution_count": 11,
      "metadata": {
        "id": "qEtjXq84LUkI"
      },
      "outputs": [],
      "source": [
        "images = []\n",
        "\n",
        "for i in range(51744):\n",
        "    img_dir = f'data/data/{i}.png'\n",
        "    try:\n",
        "        img = cv2.imread(img_dir, cv2.IMREAD_GRAYSCALE)  # Read image in grayscale\n",
        "\n",
        "        height, original_width = img.shape\n",
        "        if 25 - original_width > 0:\n",
        "            add_width = (25 - original_width) / 2\n",
        "            left_columns = int(add_width)\n",
        "            right_columns = int(add_width)\n",
        "            new_width = 25\n",
        "            new_img = np.zeros((height, new_width), dtype=np.uint8)\n",
        "            new_img[:, left_columns:left_columns + original_width] = img\n",
        "            new_img = cv2.resize(new_img, (new_width, 30))\n",
        "        else:\n",
        "            new_img = cv2.resize(img, (25, 30))\n",
        "\n",
        "        _, binary_image = cv2.threshold(new_img, 128, 255, cv2.THRESH_BINARY)\n",
        "        images.append(binary_image)\n",
        "    except Exception as e:\n",
        "        print(f\"Error processing image {i}.png:\", str(e))"
      ]
    },
    {
      "cell_type": "code",
      "execution_count": 12,
      "metadata": {
        "colab": {
          "base_uri": "https://localhost:8080/"
        },
        "id": "1ubPXaxXAAeY",
        "outputId": "195b5255-9d0d-46db-cb00-0f660271032a"
      },
      "outputs": [
        {
          "output_type": "execute_result",
          "data": {
            "text/plain": [
              "51744"
            ]
          },
          "metadata": {},
          "execution_count": 12
        }
      ],
      "source": [
        "len(images)"
      ]
    },
    {
      "cell_type": "code",
      "execution_count": 13,
      "metadata": {
        "colab": {
          "base_uri": "https://localhost:8080/"
        },
        "id": "UKhcUbp-lU49",
        "outputId": "bbf61820-21f9-4643-c597-e3b5f65efaae"
      },
      "outputs": [
        {
          "output_type": "execute_result",
          "data": {
            "text/plain": [
              "51744"
            ]
          },
          "metadata": {},
          "execution_count": 13
        }
      ],
      "source": [
        "len(df)"
      ]
    },
    {
      "cell_type": "code",
      "execution_count": 14,
      "metadata": {
        "colab": {
          "base_uri": "https://localhost:8080/"
        },
        "id": "83QZHignlqwl",
        "outputId": "e24a0869-69d6-48c3-e7f9-4904e309ea90"
      },
      "outputs": [
        {
          "output_type": "execute_result",
          "data": {
            "text/plain": [
              "51744"
            ]
          },
          "metadata": {},
          "execution_count": 14
        }
      ],
      "source": [
        "len(label)"
      ]
    },
    {
      "cell_type": "code",
      "execution_count": 18,
      "metadata": {
        "colab": {
          "base_uri": "https://localhost:8080/",
          "height": 423
        },
        "id": "yWzJjleDAAeY",
        "outputId": "7ff4c1e6-752b-4cc9-c084-cc98f142728a"
      },
      "outputs": [
        {
          "output_type": "display_data",
          "data": {
            "text/plain": [
              "<Figure size 640x480 with 1 Axes>"
            ],
            "image/png": "[encoded data removed]"
          },
          "metadata": {}
        },
        {
          "output_type": "stream",
          "name": "stdout",
          "text": [
            "؛\n"
          ]
        }
      ],
      "source": [
        "i=51743\n",
        "plt.imshow(cv2.cvtColor(images[i], cv2.COLOR_BGR2RGB))\n",
        "plt.axis('off')\n",
        "plt.show()\n",
        "print(label[i])"
      ]
    },
    {
      "cell_type": "code",
      "execution_count": 19,
      "metadata": {
        "id": "JmcpXPZltKfN"
      },
      "outputs": [],
      "source": [
        "images = images[:51744]\n",
        "label = label[:51744]"
      ]
    },
    {
      "cell_type": "code",
      "execution_count": 20,
      "metadata": {
        "colab": {
          "base_uri": "https://localhost:8080/"
        },
        "id": "tgriTA1ftOkj",
        "outputId": "a32adfc6-99fd-4482-ad4e-afa1fd9b2d83"
      },
      "outputs": [
        {
          "output_type": "execute_result",
          "data": {
            "text/plain": [
              "51744"
            ]
          },
          "metadata": {},
          "execution_count": 20
        }
      ],
      "source": [
        "len(label)"
      ]
    },
    {
      "cell_type": "code",
      "execution_count": 21,
      "metadata": {
        "id": "EWhxQUEittM4"
      },
      "outputs": [],
      "source": [
        "label_map = {}\n",
        "current_label = 0\n",
        "numeric_labels = []\n",
        "\n",
        "for char in label:\n",
        "    if char not in label_map:\n",
        "        # If not, assign a new label\n",
        "        label_map[char] = current_label\n",
        "        current_label += 1\n",
        "    numeric_labels.append(label_map[char])"
      ]
    },
    {
      "cell_type": "code",
      "execution_count": 22,
      "metadata": {
        "colab": {
          "base_uri": "https://localhost:8080/"
        },
        "id": "nwPyp5FUAAeZ",
        "outputId": "768bbeb8-0e14-46b3-ec97-fef1cb906394"
      },
      "outputs": [
        {
          "output_type": "execute_result",
          "data": {
            "text/plain": [
              "{'0': 0,\n",
              " '1': 1,\n",
              " '2': 2,\n",
              " '3': 3,\n",
              " '4': 4,\n",
              " '5': 5,\n",
              " '6': 6,\n",
              " '7': 7,\n",
              " '8': 8,\n",
              " '9': 9,\n",
              " 'ﺎ': 10,\n",
              " 'ﺐ': 11,\n",
              " 'ﺑ': 12,\n",
              " 'ﺖ': 13,\n",
              " 'ﺗ': 14,\n",
              " 'ﺚ': 15,\n",
              " 'ﺛ': 16,\n",
              " 'ﺞ': 17,\n",
              " 'ﺟ': 18,\n",
              " 'ﺢ': 19,\n",
              " 'ﺣ': 20,\n",
              " 'ﺦ': 21,\n",
              " 'ﺧ': 22,\n",
              " 'ﺪ': 23,\n",
              " 'ﺬ': 24,\n",
              " 'ﺮ': 25,\n",
              " 'ﺰ': 26,\n",
              " 'ﺲ': 27,\n",
              " 'ﺳ': 28,\n",
              " 'ﺶ': 29,\n",
              " 'ﺷ': 30,\n",
              " 'ﺺ': 31,\n",
              " 'ﺻ': 32,\n",
              " 'ﺾ': 33,\n",
              " 'ﺿ': 34,\n",
              " 'ﻂ': 35,\n",
              " 'ﻆ': 36,\n",
              " 'ﻉ': 37,\n",
              " 'ﻊ': 38,\n",
              " 'ﻋ': 39,\n",
              " 'ﻌ': 40,\n",
              " 'ﻍ': 41,\n",
              " 'ﻎ': 42,\n",
              " 'ﻏ': 43,\n",
              " 'ﻐ': 44,\n",
              " 'ﻒ': 45,\n",
              " 'ﻓ': 46,\n",
              " 'ﻖ': 47,\n",
              " 'ﻗ': 48,\n",
              " 'ﻘ': 49,\n",
              " 'ﻚ': 50,\n",
              " 'ﻛ': 51,\n",
              " 'ﻞ': 52,\n",
              " 'ﻟ': 53,\n",
              " 'ﻠ': 54,\n",
              " 'ﻢ': 55,\n",
              " 'ﻣ': 56,\n",
              " 'ﻦ': 57,\n",
              " 'ﻧ': 58,\n",
              " 'ﻩ': 59,\n",
              " 'ﻪ': 60,\n",
              " 'ﻫ': 61,\n",
              " 'ﻬ': 62,\n",
              " 'ﻮ': 63,\n",
              " 'ﯼ': 64,\n",
              " 'ﯾ': 65,\n",
              " 'ﭗ': 66,\n",
              " 'ﭘ': 67,\n",
              " 'ﭻ': 68,\n",
              " 'ﭼ': 69,\n",
              " 'ﮋ': 70,\n",
              " 'ﮓ': 71,\n",
              " 'ﮔ': 72,\n",
              " 'ﺋ': 73,\n",
              " 'ﺁ': 74,\n",
              " '،': 75,\n",
              " '؛': 76}"
            ]
          },
          "metadata": {},
          "execution_count": 22
        }
      ],
      "source": [
        "label_map"
      ]
    },
    {
      "cell_type": "code",
      "execution_count": 23,
      "metadata": {
        "colab": {
          "base_uri": "https://localhost:8080/"
        },
        "id": "_TAgGdvrN1Nx",
        "outputId": "a8fff55a-23ea-47eb-cc80-1af460cd2c16"
      },
      "outputs": [
        {
          "output_type": "execute_result",
          "data": {
            "text/plain": [
              "77"
            ]
          },
          "metadata": {},
          "execution_count": 23
        }
      ],
      "source": [
        "len(label_map)"
      ]
    },
    {
      "cell_type": "code",
      "execution_count": 24,
      "metadata": {
        "colab": {
          "base_uri": "https://localhost:8080/"
        },
        "id": "9vsUlqKOAAea",
        "outputId": "4643222b-c2ae-4dc3-f902-601480a60410"
      },
      "outputs": [
        {
          "output_type": "stream",
          "name": "stdout",
          "text": [
            "ﺖ\n",
            "13\n"
          ]
        }
      ],
      "source": [
        "print(label[1523])\n",
        "print(numeric_labels[1523])"
      ]
    },
    {
      "cell_type": "code",
      "execution_count": 25,
      "metadata": {
        "colab": {
          "base_uri": "https://localhost:8080/"
        },
        "id": "ps9sazcVAAeb",
        "outputId": "10c0aed3-7481-4ed7-a9fb-b4801f9878b2"
      },
      "outputs": [
        {
          "output_type": "stream",
          "name": "stdout",
          "text": [
            "Shape of One-Hot Encoded Labels: (51744, 77)\n"
          ]
        }
      ],
      "source": [
        "one_hot_labels = to_categorical(numeric_labels)\n",
        "print(\"Shape of One-Hot Encoded Labels:\", one_hot_labels.shape)"
      ]
    },
    {
      "cell_type": "code",
      "execution_count": null,
      "metadata": {
        "id": "FUD2M0AQwAG8"
      },
      "outputs": [],
      "source": []
    },
    {
      "cell_type": "code",
      "execution_count": 26,
      "metadata": {
        "id": "PnOWyo98AAeb"
      },
      "outputs": [],
      "source": [
        "from sklearn.utils import shuffle\n",
        "\n",
        "imgs, OHL = shuffle(images, one_hot_labels, random_state=42)"
      ]
    },
    {
      "cell_type": "code",
      "execution_count": 27,
      "metadata": {
        "id": "umyNM2CzwAgk"
      },
      "outputs": [],
      "source": [
        "del images\n",
        "del one_hot_labels\n"
      ]
    },
    {
      "cell_type": "code",
      "execution_count": 28,
      "metadata": {
        "colab": {
          "base_uri": "https://localhost:8080/",
          "height": 447
        },
        "id": "JtoJUnvCAAec",
        "outputId": "17225397-c9a7-4990-ef47-72876a336a1a"
      },
      "outputs": [
        {
          "output_type": "stream",
          "name": "stdout",
          "text": [
            "11\n"
          ]
        },
        {
          "output_type": "display_data",
          "data": {
            "text/plain": [
              "<Figure size 640x480 with 1 Axes>"
            ],
            "image/png": "[encoded data removed]"
          },
          "metadata": {}
        }
      ],
      "source": [
        "plt.imshow(imgs[15162])\n",
        "print(np.argmax(OHL[15162]))"
      ]
    },
    {
      "cell_type": "code",
      "execution_count": 29,
      "metadata": {
        "colab": {
          "base_uri": "https://localhost:8080/"
        },
        "id": "gJ4QuH1Fu3G1",
        "outputId": "fcc5c0b1-9ac3-4780-d541-e44e6a4d3cc5"
      },
      "outputs": [
        {
          "output_type": "execute_result",
          "data": {
            "text/plain": [
              "77"
            ]
          },
          "metadata": {},
          "execution_count": 29
        }
      ],
      "source": [
        "len(label.unique())"
      ]
    },
    {
      "cell_type": "code",
      "execution_count": 30,
      "metadata": {
        "id": "4YT37N9NAAec"
      },
      "outputs": [],
      "source": [
        "imgs=np.expand_dims(imgs,axis=-1)\n",
        "imgs = np.array(imgs)\n",
        "imgs = imgs / 255.0"
      ]
    },
    {
      "cell_type": "code",
      "execution_count": 31,
      "metadata": {
        "id": "qqWXlwZlAAec"
      },
      "outputs": [],
      "source": [
        "X_train, X_test, y_train, y_test = train_test_split(imgs, OHL, test_size=0.2, random_state=42,shuffle=False)"
      ]
    },
    {
      "cell_type": "code",
      "execution_count": 32,
      "metadata": {
        "id": "ggs2d1I0xohT"
      },
      "outputs": [],
      "source": [
        "del imgs\n",
        "del OHL"
      ]
    },
    {
      "cell_type": "code",
      "execution_count": 33,
      "metadata": {
        "id": "OeuhYO_rbrBz"
      },
      "outputs": [],
      "source": [
        "def LeNet5(input_shape, num_classes):\n",
        "    model = models.Sequential()\n",
        "    model.add(layers.Conv2D(32, kernel_size=(3, 3), strides=(1, 1), activation='relu', input_shape=input_shape))\n",
        "    model.add(layers.AveragePooling2D(pool_size=(2, 2), strides=(2, 2)))\n",
        "    model.add(layers.Conv2D(64, kernel_size=(3, 3), strides=(1, 1), activation='relu'))\n",
        "    model.add(layers.AveragePooling2D(pool_size=(2, 2), strides=(2, 2)))\n",
        "    model.add(layers.Conv2D(128, kernel_size=(3, 2), strides=(1, 1), activation='relu'))\n",
        "    model.add(layers.Flatten())\n",
        "    model.add(layers.Dense(120, activation='relu'))\n",
        "    model.add(layers.Dense(84, activation='relu'))\n",
        "    model.add(layers.Dense(num_classes, activation='softmax'))\n",
        "\n",
        "    return model"
      ]
    },
    {
      "cell_type": "code",
      "execution_count": 34,
      "metadata": {
        "id": "oWYgiJUzcV3P"
      },
      "outputs": [],
      "source": [
        "input_shape = (30, 25, 1)\n",
        "num_classes = len(label.unique())\n",
        "NN = LeNet5(input_shape, num_classes)"
      ]
    },
    {
      "cell_type": "code",
      "execution_count": 35,
      "metadata": {
        "colab": {
          "base_uri": "https://localhost:8080/"
        },
        "id": "4ZVk6kFSAAed",
        "outputId": "3dd4ddef-9ad0-4a03-c0d1-02a72d510012"
      },
      "outputs": [
        {
          "output_type": "stream",
          "name": "stdout",
          "text": [
            "Model: \"sequential\"\n",
            "_________________________________________________________________\n",
            " Layer (type)                Output Shape              Param #   \n",
            "=================================================================\n",
            " conv2d (Conv2D)             (None, 28, 23, 32)        320       \n",
            "                                                                 \n",
            " average_pooling2d (Average  (None, 14, 11, 32)        0         \n",
            " Pooling2D)                                                      \n",
            "                                                                 \n",
            " conv2d_1 (Conv2D)           (None, 12, 9, 64)         18496     \n",
            "                                                                 \n",
            " average_pooling2d_1 (Avera  (None, 6, 4, 64)          0         \n",
            " gePooling2D)                                                    \n",
            "                                                                 \n",
            " conv2d_2 (Conv2D)           (None, 4, 3, 128)         49280     \n",
            "                                                                 \n",
            " flatten (Flatten)           (None, 1536)              0         \n",
            "                                                                 \n",
            " dense (Dense)               (None, 120)               184440    \n",
            "                                                                 \n",
            " dense_1 (Dense)             (None, 84)                10164     \n",
            "                                                                 \n",
            " dense_2 (Dense)             (None, 77)                6545      \n",
            "                                                                 \n",
            "=================================================================\n",
            "Total params: 269245 (1.03 MB)\n",
            "Trainable params: 269245 (1.03 MB)\n",
            "Non-trainable params: 0 (0.00 Byte)\n",
            "_________________________________________________________________\n"
          ]
        }
      ],
      "source": [
        "NN.compile(optimizer='adam', loss='categorical_crossentropy', metrics=['accuracy'])\n",
        "NN.summary()"
      ]
    },
    {
      "cell_type": "code",
      "execution_count": 37,
      "metadata": {
        "colab": {
          "base_uri": "https://localhost:8080/"
        },
        "id": "42SIWhPXAAed",
        "outputId": "360876a5-0d62-46b1-e477-d1f25088e2bd"
      },
      "outputs": [
        {
          "output_type": "stream",
          "name": "stdout",
          "text": [
            "Epoch 1/100\n",
            "1294/1294 [==============================] - 9s 7ms/step - loss: 0.7513 - accuracy: 0.7543 - val_loss: 0.6253 - val_accuracy: 0.7942\n",
            "Epoch 2/100\n",
            "1294/1294 [==============================] - 7s 5ms/step - loss: 0.4960 - accuracy: 0.8268 - val_loss: 0.4579 - val_accuracy: 0.8436\n",
            "Epoch 3/100\n",
            "1294/1294 [==============================] - 8s 6ms/step - loss: 0.3823 - accuracy: 0.8646 - val_loss: 0.3841 - val_accuracy: 0.8626\n",
            "Epoch 4/100\n",
            "1294/1294 [==============================] - 7s 6ms/step - loss: 0.3121 - accuracy: 0.8872 - val_loss: 0.3422 - val_accuracy: 0.8780\n",
            "Epoch 5/100\n",
            "1294/1294 [==============================] - 8s 6ms/step - loss: 0.2671 - accuracy: 0.9019 - val_loss: 0.3179 - val_accuracy: 0.8835\n",
            "Epoch 6/100\n",
            "1294/1294 [==============================] - 8s 6ms/step - loss: 0.2349 - accuracy: 0.9111 - val_loss: 0.3602 - val_accuracy: 0.8727\n",
            "Epoch 7/100\n",
            "1294/1294 [==============================] - 7s 6ms/step - loss: 0.2096 - accuracy: 0.9205 - val_loss: 0.2546 - val_accuracy: 0.9064\n",
            "Epoch 8/100\n",
            "1294/1294 [==============================] - 8s 6ms/step - loss: 0.1936 - accuracy: 0.9269 - val_loss: 0.2801 - val_accuracy: 0.9002\n",
            "Epoch 9/100\n",
            "1294/1294 [==============================] - 7s 5ms/step - loss: 0.1719 - accuracy: 0.9337 - val_loss: 0.2354 - val_accuracy: 0.9126\n",
            "Epoch 10/100\n",
            "1294/1294 [==============================] - 8s 6ms/step - loss: 0.1613 - accuracy: 0.9387 - val_loss: 0.2524 - val_accuracy: 0.9129\n",
            "Epoch 11/100\n",
            "1294/1294 [==============================] - 7s 6ms/step - loss: 0.1493 - accuracy: 0.9424 - val_loss: 0.2440 - val_accuracy: 0.9103\n",
            "Epoch 12/100\n",
            "1294/1294 [==============================] - 8s 6ms/step - loss: 0.1364 - accuracy: 0.9473 - val_loss: 0.2454 - val_accuracy: 0.9165\n",
            "Epoch 13/100\n",
            "1294/1294 [==============================] - 7s 6ms/step - loss: 0.1350 - accuracy: 0.9478 - val_loss: 0.2572 - val_accuracy: 0.9130\n"
          ]
        }
      ],
      "source": [
        "early_stopping = EarlyStopping(monitor='val_loss', patience=4, restore_best_weights=True)\n",
        "history = NN.fit(X_train, y_train, epochs=100, batch_size=32,\n",
        "                         validation_data=(X_test, y_test), callbacks=[early_stopping])"
      ]
    },
    {
      "cell_type": "code",
      "execution_count": 38,
      "metadata": {
        "colab": {
          "base_uri": "https://localhost:8080/",
          "height": 607
        },
        "id": "dkL5KhnpAAed",
        "outputId": "7cf3f5e6-2dc4-4475-e111-90b1100f2de8"
      },
      "outputs": [
        {
          "output_type": "display_data",
          "data": {
            "text/plain": [
              "<Figure size 1200x600 with 2 Axes>"
            ],
            "image/png": "[encoded data removed]"
          },
          "metadata": {}
        }
      ],
      "source": [
        "training_loss = history.history['loss']\n",
        "validation_loss = history.history['val_loss']\n",
        "training_accuracy = history.history['accuracy']\n",
        "validation_accuracy = history.history['val_accuracy']\n",
        "\n",
        "# Plotting the loss\n",
        "plt.figure(figsize=(12, 6))\n",
        "\n",
        "plt.subplot(1, 2, 1)\n",
        "plt.plot(training_loss, label='Training Loss')\n",
        "plt.plot(validation_loss, label='Validation Loss')\n",
        "plt.title('Training and Validation Loss')\n",
        "plt.xlabel('Epoch')\n",
        "plt.ylabel('Loss')\n",
        "plt.legend()\n",
        "\n",
        "# Plotting the accuracy\n",
        "plt.subplot(1, 2, 2)\n",
        "plt.plot(training_accuracy, label='Training Accuracy')\n",
        "plt.plot(validation_accuracy, label='Validation Accuracy')\n",
        "plt.title('Training and Validation Accuracy')\n",
        "plt.xlabel('Epoch')\n",
        "plt.ylabel('Accuracy')\n",
        "plt.legend()\n",
        "\n",
        "plt.tight_layout()\n",
        "plt.show()"
      ]
    },
    {
      "cell_type": "markdown",
      "metadata": {
        "id": "as2Iw1OmAAed"
      },
      "source": [
        "****Test The Model****"
      ]
    },
    {
      "cell_type": "code",
      "execution_count": 39,
      "metadata": {
        "colab": {
          "base_uri": "https://localhost:8080/"
        },
        "id": "RzahKweUAAef",
        "outputId": "04fdd57a-aced-4b32-b2d1-c54a8c085e56"
      },
      "outputs": [
        {
          "output_type": "stream",
          "name": "stdout",
          "text": [
            "324/324 [==============================] - 1s 2ms/step\n"
          ]
        }
      ],
      "source": [
        "predictions=NN.predict(X_test,32)"
      ]
    },
    {
      "cell_type": "code",
      "execution_count": 40,
      "metadata": {
        "colab": {
          "base_uri": "https://localhost:8080/"
        },
        "id": "Kh88IU-3AAef",
        "outputId": "225f703a-a28a-4c7d-c9a1-dcd33b35e263"
      },
      "outputs": [
        {
          "output_type": "stream",
          "name": "stdout",
          "text": [
            "21\n",
            "21\n"
          ]
        }
      ],
      "source": [
        "print(np.argmax(predictions[48]))\n",
        "print(np.argmax(y_test[48]))"
      ]
    },
    {
      "cell_type": "code",
      "execution_count": 41,
      "metadata": {
        "colab": {
          "base_uri": "https://localhost:8080/"
        },
        "id": "L6kW1r84AAef",
        "outputId": "22565014-044c-40af-d823-ae9efa6d4e93"
      },
      "outputs": [
        {
          "output_type": "stream",
          "name": "stdout",
          "text": [
            "41\n",
            "41\n"
          ]
        }
      ],
      "source": [
        "print(np.argmax(predictions[12]))\n",
        "print(np.argmax(y_test[12]))"
      ]
    },
    {
      "cell_type": "code",
      "execution_count": 42,
      "metadata": {
        "colab": {
          "base_uri": "https://localhost:8080/"
        },
        "id": "rM6RzQtTAAeg",
        "outputId": "7a85eafd-c53d-47e3-8bb3-3714dcd64fff"
      },
      "outputs": [
        {
          "output_type": "stream",
          "name": "stdout",
          "text": [
            "324/324 [==============================] - 1s 3ms/step - loss: 0.2354 - accuracy: 0.9126\n"
          ]
        },
        {
          "output_type": "execute_result",
          "data": {
            "text/plain": [
              "[0.23543019592761993, 0.9125519394874573]"
            ]
          },
          "metadata": {},
          "execution_count": 42
        }
      ],
      "source": [
        "NN.evaluate(X_test,y_test)"
      ]
    },
    {
      "cell_type": "code",
      "execution_count": 44,
      "metadata": {
        "id": "9fT2_Yt3AAeg"
      },
      "outputs": [],
      "source": [
        "# NN.save('ocr-NN',save_format='h5')\n",
        "NN.save('/content/drive/MyDrive/LeNet5.h5')\n"
      ]
    },
    {
      "cell_type": "code",
      "execution_count": null,
      "metadata": {
        "id": "I475NEcwAAeh"
      },
      "outputs": [],
      "source": []
    }
  ],
  "metadata": {
    "accelerator": "GPU",
    "colab": {
      "gpuType": "T4",
      "provenance": []
    },
    "kaggle": {
      "accelerator": "gpu",
      "dataSources": [
        {
          "datasetId": 4232268,
          "sourceId": 7303217,
          "sourceType": "datasetVersion"
        }
      ],
      "dockerImageVersionId": 30627,
      "isGpuEnabled": true,
      "isInternetEnabled": true,
      "language": "python",
      "sourceType": "notebook"
    },
    "kernelspec": {
      "display_name": "Python 3",
      "name": "python3"
    },
    "language_info": {
      "codemirror_mode": {
        "name": "ipython",
        "version": 3
      },
      "file_extension": ".py",
      "mimetype": "text/x-python",
      "name": "python",
      "nbconvert_exporter": "python",
      "pygments_lexer": "ipython3",
      "version": "3.10.7"
    }
  },
  "nbformat": 4,
  "nbformat_minor": 0
}